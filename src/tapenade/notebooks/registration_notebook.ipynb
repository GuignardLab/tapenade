{
 "cells": [
  {
   "cell_type": "markdown",
   "id": "ed08f86b",
   "metadata": {},
   "source": [
    "# Registration Notebook"
   ]
  },
  {
   "cell_type": "markdown",
   "id": "3a729771",
   "metadata": {},
   "source": [
    "### <font color='red'> After clicking on a code cell, press \"Shift+Enter\" to run the code, or click on the \"Run\" button in the toolbar above.<br>\n",
    "\n",
    "### Replace \"...\" signs with the appropriate path to your data.\n",
    "</font>"
   ]
  },
  {
   "cell_type": "code",
   "execution_count": null,
   "id": "0d08deec",
   "metadata": {},
   "outputs": [],
   "source": [
    "from tapenade import reconstruction\n",
    "import numpy as np\n",
    "import tifffile\n",
    "from pathlib import Path\n",
    "from tapenade import get_path_to_demo_folder"
   ]
  },
  {
   "cell_type": "markdown",
   "id": "b438bb82",
   "metadata": {},
   "source": [
    "### <font color='red'> Install the registration package by following the user manual available on Tapenade's GitHub page\n",
    "</font>"
   ]
  },
  {
   "cell_type": "markdown",
   "id": "c96a28c3",
   "metadata": {},
   "source": [
    "## Multipositions matching\n",
    "\n",
    "If you have xml files with the locations of multipositions, you can input them here to plot the positions of all samples and associate the order form the 2 views (in case they are not acquired in the same order)"
   ]
  },
  {
   "cell_type": "code",
   "execution_count": null,
   "id": "1795d17c",
   "metadata": {},
   "outputs": [],
   "source": [
    "path_to_data = get_path_to_demo_folder()\n",
    "\n",
    "path_ref_positions = path_to_data / '96h_bottom_multipoints.xml'\n",
    "path_float_positions = path_to_data / '96h_top_multipoints.xml'\n",
    "\n",
    "reconstruction.plot_positions(\n",
    "    path_ref_positions=path_ref_positions,\n",
    "    path_float_positions=path_float_positions\n",
    ")\n",
    "ordered_numbers_ref, ordered_numbers_float=reconstruction.associate_positions(\n",
    "    path_ref_positions=path_ref_positions,\n",
    "    path_float_positions=path_float_positions\n",
    ")\n",
    "\n",
    "print(ordered_numbers_ref,ordered_numbers_float)"
   ]
  },
  {
   "cell_type": "markdown",
   "id": "a07b1262",
   "metadata": {},
   "source": [
    "## Paths and channels name\n",
    "\n",
    "If you used the function associate_positions, you can generate automatically the list_ref and list_float from the number paired above, bottom with top\n",
    "\n",
    "```list_ref = [\"{:01d}_view1\".format(i) for i in ordered_numbers_ref]```\n",
    "\n",
    "```list_float = [\"{:01d}_view2\".format(i) for i in ordered_numbers_float]```\n",
    "\n",
    "\n",
    "\n",
    "If you did not use the function associate_positions, you can define the list_ref and list_float manually,\n",
    "\n",
    "for example with 3 samples and 2 views :\n",
    "\n",
    "```list_ref=['1_ref','2_ref','3_ref']``` and ```list_float=['1_float','2_float','3_float']```\n",
    "\n",
    "\n"
   ]
  },
  {
   "cell_type": "code",
   "execution_count": null,
   "id": "5e4473c2",
   "metadata": {},
   "outputs": [],
   "source": [
    "# list_ref = [\"{:01d}_bottom\".format(i) for i in ordered_numbers_ref]\n",
    "# list_float = [\"{:01d}_top\".format(i) for i in ordered_numbers_float]\n",
    "list_ref = ['1_bottom']\n",
    "list_float = ['5_top']\n",
    "channels = [\n",
    "\"hoechst\",\n",
    "'ph3',\n",
    "'bra',\n",
    "'ecad'\n",
    "]  # example of channels. If you have only one channel, just put one element in the list"
   ]
  },
  {
   "cell_type": "markdown",
   "id": "b87934e1",
   "metadata": {},
   "source": [
    "## Folder structure\n",
    "For each sample, 2 tif files, one for each view, with different names and located in the same folder.\n",
    "\n",
    "Datatype should be int16, uint16 or float32, otherwise no output will be saved.\n",
    "\n",
    "All files, reference and float, need to be in the folder_experiment\n",
    "\n",
    "The cell below creates the folder structure necessary for the registration. \n"
   ]
  },
  {
   "cell_type": "code",
   "execution_count": null,
   "id": "575de57e",
   "metadata": {},
   "outputs": [],
   "source": [
    "reconstruction.create_folders(\n",
    "    folder_experiment=path_to_data,\n",
    "    list_ref=list_ref, list_float=list_float, channels=channels\n",
    ")"
   ]
  },
  {
   "cell_type": "markdown",
   "id": "b44eaa2b",
   "metadata": {},
   "source": [
    "## Register automatically\n",
    "\n",
    "To register your floating image onto the reference one, you should have an idea of the transformation to apply.  From this approximative initial transformation, the algorithm will find the exact transformation to match the 2 sides.\n",
    "\n",
    "If your image has multiple channels, one will be the reference one, registered first. The second part of the code executes the registration for the other channels, using the same transformation as computed for the reference."
   ]
  },
  {
   "cell_type": "code",
   "execution_count": null,
   "id": "f1572b15",
   "metadata": {},
   "outputs": [],
   "source": [
    "i = 0\n",
    "filename_ref = list_ref[i]\n",
    "filename_float = list_float[i]\n",
    "input_voxel = [0.3,0.3,2] #voxel size of your input image (XYZ)\n",
    "output_voxel = [0.3,0.3,2] #voxel size of the output registered image (XYZ)\n",
    "channel_reference = 'hoechst'  #name of the ubiquitous channel\n",
    "##if you have a first idea of your tranformations (rotation, translation), you can input them here:\n",
    "rot = [180,0,0] #XYZ in degrees. ([180,0,0] is a rotation of 180 degrees around the X axis, that we use when flipping the sample)\n",
    "trans2 = [0,0,0] #translation applied after the rotation, XYZ in voxels.\n"
   ]
  },
  {
   "cell_type": "code",
   "execution_count": null,
   "id": "5f5c2e08",
   "metadata": {},
   "outputs": [],
   "source": [
    "reconstruction.register(\n",
    "    path_data=Path(path_to_data) / filename_ref / \"raw\",\n",
    "    path_transformation=Path(path_to_data) / filename_ref / \"trsf\",\n",
    "    path_registered_data=Path(path_to_data) / filename_ref / \"registered\",\n",
    "    reference_image=f\"{filename_ref}_{channel_reference}.tif\",\n",
    "    floating_image=f\"{filename_float}_{channel_reference}.tif\",\n",
    "    input_voxel=input_voxel,\n",
    "    output_voxel=output_voxel,\n",
    "    rot=rot,\n",
    "    trans2=trans2,\n",
    "    # input_init_trsf_from_plugin=... #path of the json file saved from the plugin\n",
    "    save_json=Path(path_to_data) / filename_ref, #to save all parameters\n",
    ")\n",
    "\n",
    "##applying the same transformation to the other channels\n",
    "for channel in channels :\n",
    "    if channel != channel_reference:\n",
    "        reconstruction.register(\n",
    "            path_data=Path(path_to_data) / filename_ref / \"raw\",\n",
    "            path_transformation =Path(path_to_data) / filename_ref / \"trsf\",\n",
    "            path_registered_data=Path(path_to_data) / filename_ref / \"registered\",\n",
    "            reference_image=f\"{filename_ref}_{channel}.tif\",\n",
    "            floating_image=f\"{filename_float}_{channel}.tif\",\n",
    "            input_voxel=input_voxel,\n",
    "            output_voxel=output_voxel,\n",
    "            compute_trsf=0,\n",
    "        )"
   ]
  },
  {
   "cell_type": "markdown",
   "id": "753a47ef",
   "metadata": {},
   "source": [
    "## Napari visualization\n",
    "(you need to have napari installed)"
   ]
  },
  {
   "cell_type": "code",
   "execution_count": null,
   "id": "5948e87d",
   "metadata": {},
   "outputs": [],
   "source": [
    "try:\n",
    "    import napari\n",
    "    napari_installed = True\n",
    "except ImportError:\n",
    "    print(\"napari is not installed, skipping visualization step.\")\n",
    "    napari_installed = False\n",
    "\n",
    "if napari_installed:\n",
    "    channel = channel_reference #by default, we visualize using the reference channel but you can replace it here by any other channel\n",
    "    scale = (output_voxel[2], output_voxel[1], output_voxel[0])\n",
    "    reconstruction.check_napari(\n",
    "        folder=Path(path_to_data)/ f\"{filename_ref}\",\n",
    "        reference_image=f\"{filename_ref}_{channel}.tif\",\n",
    "        floating_image=f\"{filename_float}_{channel}.tif\",\n",
    "        scale=scale,\n",
    "    )"
   ]
  },
  {
   "cell_type": "markdown",
   "id": "de3ed98f",
   "metadata": {},
   "source": [
    "## Fusion of the two registered images into one image\n",
    "\n",
    "If it looks well registered, you can now fuse the 2 sides together and fuse the channels to create your new multichannel image.\n",
    "\n",
    "If you are not satisfied with the registration, adjust the initial transformations (rot, trans1, trans2), you can use the plugin napari-manual-registration to ensure giving accurate input parameters."
   ]
  },
  {
   "cell_type": "code",
   "execution_count": null,
   "id": "3be6e9dd",
   "metadata": {},
   "outputs": [],
   "source": [
    "for ch in channels:\n",
    "    image = reconstruction.fuse_sides(\n",
    "        folder=Path(path_to_data) / filename_ref,\n",
    "        reference_image = f\"{filename_ref}_{ch}.tif\",\n",
    "        floating_image = f\"{filename_float}_{ch}.tif\",\n",
    "        folder_output = Path(path_to_data) / filename_ref / \"fused\",\n",
    "        name_output = f\"fusion_{ch}.tif\",\n",
    "        input_voxel = input_voxel,\n",
    "        output_voxel = output_voxel,\n",
    "    )\n",
    "\n",
    "#the result is saved channel by channel in the folder 'fused'."
   ]
  },
  {
   "cell_type": "markdown",
   "id": "6813afe5",
   "metadata": {},
   "source": [
    "## Merge all the channels in one multichannel image"
   ]
  },
  {
   "cell_type": "code",
   "execution_count": null,
   "id": "b99d45d6",
   "metadata": {},
   "outputs": [],
   "source": [
    "reconstruction.write_hyperstacks(\n",
    "    path=Path(path_to_data) / filename_ref / \"fused\",\n",
    "    sample_id=\"fusion\",\n",
    "    channels=channels\n",
    ")\n",
    "#the result is saved under the name 'sample_id'_registered.tif in the folder 'fused'."
   ]
  },
  {
   "cell_type": "markdown",
   "id": "889bc65d",
   "metadata": {},
   "source": [
    "# Optional : Manual registration without Napari\n",
    "\n",
    "If the automatic registration is not satisfying, one option is to give more precise initial transformations to the algorithm.\n",
    "\n",
    "For that, you need to define landmarks, ie features that you recognize in both the reference image and the floating image, that you will need to pinpoint with a marker of given label, this label has to be an integer that has the same value in both image.\n",
    "\n",
    "Once you have at least 3 annotated landmarks (=3 labels in each image) in a tif image, input them below.\n",
    "If the result seems good, you can input the initial transformations above ('Register automatically)\n"
   ]
  },
  {
   "cell_type": "code",
   "execution_count": null,
   "id": "caa40381",
   "metadata": {},
   "outputs": [],
   "source": [
    "path = ...\n",
    "filename_ref = ...\n",
    "filename_float = ...\n",
    "input_voxel = ...\n",
    "output_voxel = input_voxel\n",
    "\n",
    "path_to_landmarks = ...\n",
    "reference_landmarks = tifffile.imread(\n",
    "    Path(path_to_landmarks) / f\"ref.tif\"\n",
    ")\n",
    "floating_landmarks = tifffile.imread(\n",
    "    Path(path_to_landmarks) / f\"float.tif\"\n",
    ")\n",
    "reference_landmarks = reference_landmarks.astype(np.uint16)\n",
    "floating_landmarks = floating_landmarks.astype(np.uint16)\n",
    "channel = \"hoechst\"\n",
    "\n",
    "rot, trans1, trans2 = reconstruction.manual_registration_fct(\n",
    "    reference_landmarks=reference_landmarks,\n",
    "    floating_landmarks=floating_landmarks,\n",
    "    scale=(input_voxel[2], input_voxel[1], input_voxel[0]),\n",
    ")\n",
    "rot=[rot[2],rot[1],rot[0]]\n",
    "\n",
    "reconstruction.register(\n",
    "    path_data=Path(path) / filename_ref / \"raw\",\n",
    "    path_transformation=Path(path) / filename_ref / \"trsf\",\n",
    "    path_registered_data=Path(path) / filename_ref / \"registered\",\n",
    "    reference_image=f\"{filename_ref}_{channel}.tif\",\n",
    "    floating_image=f\"{filename_float}_{channel}.tif\",\n",
    "    input_voxel=input_voxel,  \n",
    "    output_voxel=output_voxel,\n",
    "    compute_trsf=1,\n",
    "    rot=rot,\n",
    "    trans1=trans1,\n",
    "    trans2=trans2,\n",
    "    test_init=0,\n",
    "    trsf_type=\"rigid\",\n",
    "    depth=3,\n",
    "    bbox=1,\n",
    "    save_json=\"\",\n",
    ")\n",
    "\n",
    "print('rot = ',rot,'\\ntrans1=',trans1,'\\ntrans2=',trans2)"
   ]
  }
 ],
 "metadata": {
  "kernelspec": {
   "display_name": "napari-mine",
   "language": "python",
   "name": "python3"
  },
  "language_info": {
   "codemirror_mode": {
    "name": "ipython",
    "version": 3
   },
   "file_extension": ".py",
   "mimetype": "text/x-python",
   "name": "python",
   "nbconvert_exporter": "python",
   "pygments_lexer": "ipython3",
   "version": "3.10.16"
  }
 },
 "nbformat": 4,
 "nbformat_minor": 5
}
