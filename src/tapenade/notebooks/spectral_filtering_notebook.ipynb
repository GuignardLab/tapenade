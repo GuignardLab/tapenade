{
 "cells": [
  {
   "cell_type": "markdown",
   "metadata": {},
   "source": [
    "\n",
    "## Spectral filtering of multichannels images\n",
    "\n",
    "### <font color='red'> After clicking on a code cell, press \"Shift+Enter\" to run the code, or click on the \"Run\" button in the toolbar above.<br>\n",
    "\n",
    "### Replace \"...\" signs with the appropriate path to your data.\n",
    "</font>"
   ]
  },
  {
   "cell_type": "code",
   "execution_count": null,
   "metadata": {},
   "outputs": [],
   "source": [
    "import numpy as np\n",
    "import matplotlib.pyplot as plt\n",
    "import tifffile\n",
    "from pathlib import Path\n",
    "from tapenade import get_path_to_demo_folder"
   ]
  },
  {
   "cell_type": "markdown",
   "metadata": {},
   "source": [
    "## Loading spectral patterns"
   ]
  },
  {
   "cell_type": "code",
   "execution_count": null,
   "metadata": {},
   "outputs": [],
   "source": [
    "path_to_data = get_path_to_demo_folder()\n",
    "\n",
    "channels=4 #fill up here the number of channels\n",
    "species = np.array([1,2,3,4])\n",
    "#species = np.array([1,2]) #for GFP and Alexa488\n",
    "spectralpatterns=np.zeros((221,channels,species.shape[0]))\n",
    "\n",
    "for i in species:\n",
    "    filepath = Path(path_to_data) / f'species{i}_medfilt.npy'\n",
    "    with open(filepath, 'rb') as f2:\n",
    "        avgspectrum_i=np.load(f2)\n",
    "    spectralpatterns[:,:,i-1] = avgspectrum_i[:,:]"
   ]
  },
  {
   "cell_type": "markdown",
   "metadata": {},
   "source": [
    "## Filtering"
   ]
  },
  {
   "cell_type": "code",
   "execution_count": null,
   "metadata": {},
   "outputs": [],
   "source": [
    "img = tifffile.imread(path_to_data / '03_Hoechst_Ecad_Bra_Sox2.tif')\n",
    "\n",
    "# Initialize filtered image array with same shape as input, int16 for intermediate calculations\n",
    "image_filtered = np.zeros_like(img).astype(np.int16)\n",
    "\n",
    "for z in range(img.shape[0]):\n",
    "    # Compute mean intensity for each channel at z-slice\n",
    "    Iavg_channels = np.mean(img[z,:,:,:], axis=(1,2))\n",
    "    # Create diagonal normalization matrix\n",
    "    D = np.diag(1 / Iavg_channels)\n",
    "    # Prepare spectral patterns for this z-slice\n",
    "    specpatterns_z = np.zeros((species.shape[0], img.shape[1]))\n",
    "    for i in species:\n",
    "        specpatterns_z[i-1, :] = spectralpatterns[z, :, i-1]\n",
    "    # Compute unmixing weights\n",
    "    w = np.linalg.inv(specpatterns_z @ D @ np.transpose(specpatterns_z)) @ specpatterns_z @ D\n",
    "    # Apply unmixing to each species\n",
    "    for i in species:\n",
    "        image_filtered[z, i-1, :, :] = sum([w[i-1, j] * img[z, j, :, :] for j in range(0, channels)])\n",
    "\n",
    "# Clip negative values and convert to uint16 for saving\n",
    "image_filtered[image_filtered < 0] = 0\n",
    "image_filtered = image_filtered.astype(np.uint16)\n",
    "\n"
   ]
  },
  {
   "cell_type": "markdown",
   "metadata": {},
   "source": [
    "## Plots results"
   ]
  },
  {
   "cell_type": "code",
   "execution_count": null,
   "metadata": {},
   "outputs": [],
   "source": [
    "z_to_plot = 50 # index of the z-slice to plot\n",
    "\n",
    "fig1, ax1 = plt.subplots(1,channels, figsize=(20, 5))            \n",
    "\n",
    "for i in range(channels):\n",
    "    ax1[i].imshow(img[z_to_plot,i,:,:])\n",
    "\n",
    "fig1.suptitle('Channels before spectral filtering')\n",
    "fig2, ax2 = plt.subplots(1,channels, figsize=(20, 5))\n",
    "\n",
    "for i in range(channels):\n",
    "    ax2[i].imshow(image_filtered[z_to_plot,i,:,:])\n",
    "\n",
    "fig2.suptitle('Chanels after spectral filtering')\n",
    "fig1.tight_layout()\n",
    "fig2.tight_layout()"
   ]
  },
  {
   "cell_type": "code",
   "execution_count": null,
   "metadata": {},
   "outputs": [],
   "source": []
  }
 ],
 "metadata": {
  "kernelspec": {
   "display_name": "test-tapenade",
   "language": "python",
   "name": "python3"
  },
  "language_info": {
   "codemirror_mode": {
    "name": "ipython",
    "version": 3
   },
   "file_extension": ".py",
   "mimetype": "text/x-python",
   "name": "python",
   "nbconvert_exporter": "python",
   "pygments_lexer": "ipython3",
   "version": "3.10.18"
  }
 },
 "nbformat": 4,
 "nbformat_minor": 4
}
