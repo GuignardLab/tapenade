{
 "cells": [
  {
   "cell_type": "markdown",
   "metadata": {},
   "source": [
    "## Multiscale analysis of spatial correlation between 2 signals"
   ]
  },
  {
   "cell_type": "markdown",
   "metadata": {},
   "source": [
    "### <font color='red'> After clicking on a code cell, press \"Shift+Enter\" to run the code, or click on the \"Run\" button in the toolbar above.<br>\n",
    "\n",
    "### Replace \"...\" signs with the appropriate path to your data.\n",
    "</font>"
   ]
  },
  {
   "cell_type": "code",
   "execution_count": null,
   "metadata": {},
   "outputs": [],
   "source": [
    "from tapenade.analysis.spatial_correlation import (\n",
    "    SpatialCorrelationPlotter\n",
    ")\n",
    "from tapenade import get_path_to_demo_folder\n",
    "from pathlib import Path\n",
    "import tifffile"
   ]
  },
  {
   "cell_type": "markdown",
   "metadata": {},
   "source": [
    "### 1. Data loading"
   ]
  },
  {
   "cell_type": "markdown",
   "metadata": {},
   "source": [
    "Load your the two signals that you wish to study the correlation between. If raw image data is loaded, the correlation will be studied at the smallest scale (voxel). To study the correlation at larger scales, we recommend applying our masked gaussian filter method, as presented in the `masked_gaussian_smoothing` notebook."
   ]
  },
  {
   "cell_type": "code",
   "execution_count": null,
   "metadata": {},
   "outputs": [],
   "source": [
    "path_to_data = get_path_to_demo_folder()\n",
    "\n",
    "signal1 = tifffile.imread(path_to_data / \"dapi_isotropized.tif\")\n",
    "signal2 = tifffile.imread(path_to_data / \"bra_isotropized.tif\")\n",
    "\n",
    "# optional but highly recommended\n",
    "mask = tifffile.imread(path_to_data / \"mask_def_corr.tif\")\n",
    "\n",
    "# optional but recommended if the signals belong to individual instances (e.g nuclei)\n",
    "labels = tifffile.imread(path_to_data / \"labels_def_corr.tif\")"
   ]
  },
  {
   "cell_type": "markdown",
   "metadata": {},
   "source": [
    "### 2. Initializing the plotter"
   ]
  },
  {
   "cell_type": "markdown",
   "metadata": {},
   "source": [
    "Initializing the plotter once allows you to test several parameters of the visualization without reprocessing the data."
   ]
  },
  {
   "cell_type": "code",
   "execution_count": null,
   "metadata": {},
   "outputs": [],
   "source": [
    "spatial_correlation_plotter = SpatialCorrelationPlotter(\n",
    "    quantity_X=signal1,\n",
    "    quantity_Y=signal2,\n",
    "    mask=mask, # optional\n",
    "    labels=labels # optional\n",
    ")"
   ]
  },
  {
   "cell_type": "markdown",
   "metadata": {},
   "source": [
    "Plot the correlation:"
   ]
  },
  {
   "cell_type": "code",
   "execution_count": null,
   "metadata": {},
   "outputs": [],
   "source": [
    "fig, ax = spatial_correlation_plotter.get_heatmap_figure()\n",
    "ax.set_xlabel('Hoechst')\n",
    "ax.set_ylabel('T-Bra')\n",
    "fig.show()"
   ]
  },
  {
   "cell_type": "markdown",
   "metadata": {},
   "source": [
    "The function `get_heatmap_figure` returns a figure and axis object that can be used to further customize the plot. The figure can be saved to a file using the `savefig` method of the figure object.\n",
    "\n",
    "The function has many parameters that can be used to customize the plot:"
   ]
  },
  {
   "cell_type": "code",
   "execution_count": null,
   "metadata": {},
   "outputs": [],
   "source": [
    "help(SpatialCorrelationPlotter.get_heatmap_figure)"
   ]
  },
  {
   "cell_type": "code",
   "execution_count": null,
   "metadata": {},
   "outputs": [],
   "source": []
  }
 ],
 "metadata": {
  "kernelspec": {
   "display_name": "Python 3 (ipykernel)",
   "language": "python",
   "name": "python3"
  },
  "language_info": {
   "codemirror_mode": {
    "name": "ipython",
    "version": 3
   },
   "file_extension": ".py",
   "mimetype": "text/x-python",
   "name": "python",
   "nbconvert_exporter": "python",
   "pygments_lexer": "ipython3",
   "version": "3.10.18"
  }
 },
 "nbformat": 4,
 "nbformat_minor": 4
}
