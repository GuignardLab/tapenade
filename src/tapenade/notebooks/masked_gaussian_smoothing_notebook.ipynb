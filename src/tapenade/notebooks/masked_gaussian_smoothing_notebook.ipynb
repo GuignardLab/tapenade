{
 "cells": [
  {
   "cell_type": "markdown",
   "metadata": {},
   "source": [
    "# Masked gaussian smoothing of dense and sparse signals"
   ]
  },
  {
   "cell_type": "markdown",
   "metadata": {},
   "source": [
    "### <font color='red'> After clicking on a cell, press \"Shift+Enter\" to run the code, or click on the \"Run\" button in the toolbar above.<br>\n",
    "\n",
    "### Replace \"...\" signs with the appropriate path to your data.\n",
    "</font>"
   ]
  },
  {
   "cell_type": "code",
   "execution_count": null,
   "metadata": {},
   "outputs": [],
   "source": [
    "from tapenade.preprocessing import masked_gaussian_smoothing\n",
    "from tapenade import get_path_to_demo_folder\n",
    "from pathlib import Path\n",
    "import tifffile\n",
    "import matplotlib.pyplot as plt\n",
    "from skimage.measure import regionprops\n",
    "import numpy as np\n",
    "try:\n",
    "    import napari\n",
    "    napari_available = True\n",
    "except ImportError:\n",
    "    print(\"napari is not installed, some optional parts of the notebook will not be accessible\")\n",
    "    napari_available = False"
   ]
  },
  {
   "cell_type": "markdown",
   "metadata": {},
   "source": [
    "This notebook presents the masked gaussian smoothing method in the case of \n",
    "1. dense image smoothing \n",
    "2. object instances smoothing to compute densities \n",
    "3. dense smoothing of sparse data (defined locally at specific positions)  "
   ]
  },
  {
   "cell_type": "markdown",
   "metadata": {},
   "source": [
    "## 1. Smoothing images"
   ]
  },
  {
   "cell_type": "markdown",
   "metadata": {},
   "source": [
    "### 1.1 Without a mask"
   ]
  },
  {
   "cell_type": "code",
   "execution_count": null,
   "metadata": {},
   "outputs": [],
   "source": [
    "path_to_data = get_path_to_demo_folder()\n",
    "image = tifffile.imread(path_to_data / 'bra_isotropized.tif')\n",
    "mid_plane_ind = int(image.shape[0] // 2)"
   ]
  },
  {
   "cell_type": "markdown",
   "metadata": {},
   "source": [
    "Define a smoothing sigma that will be used as the standard deviation of the gaussian kernel. Then, smooth the image. "
   ]
  },
  {
   "cell_type": "code",
   "execution_count": null,
   "metadata": {},
   "outputs": [],
   "source": [
    "sigma = 10\n",
    "\n",
    "smoothed_image = masked_gaussian_smoothing(image, sigmas=sigma)"
   ]
  },
  {
   "cell_type": "markdown",
   "metadata": {},
   "source": [
    "Show the midplane:"
   ]
  },
  {
   "cell_type": "code",
   "execution_count": null,
   "metadata": {},
   "outputs": [],
   "source": [
    "fig, axes = plt.subplots(1, 2)\n",
    "axes[0].imshow(image[mid_plane_ind], cmap='gray')\n",
    "axes[1].imshow(smoothed_image[mid_plane_ind], cmap='gray')"
   ]
  },
  {
   "cell_type": "markdown",
   "metadata": {},
   "source": [
    "You can see that the smoothed signal extends beyond the contours of the original signal, because no mask has been used. This also introduces a bias in the smoothed signal <u>inside</u> the sample, because values outside the sample will be considered in the smoothing process."
   ]
  },
  {
   "cell_type": "markdown",
   "metadata": {},
   "source": [
    "### 1.2 With a mask"
   ]
  },
  {
   "cell_type": "markdown",
   "metadata": {},
   "source": [
    "Load a mask of the inside of the sample. It can for example be obtained via our preprocessing `compute_mask` function. "
   ]
  },
  {
   "cell_type": "code",
   "execution_count": null,
   "metadata": {},
   "outputs": [],
   "source": [
    "mask = tifffile.imread(path_to_data / 'mask_def_corr.tif')"
   ]
  },
  {
   "cell_type": "markdown",
   "metadata": {},
   "source": [
    "Smooth signal with the mask:"
   ]
  },
  {
   "cell_type": "code",
   "execution_count": null,
   "metadata": {},
   "outputs": [],
   "source": [
    "smoothed_image_masked = masked_gaussian_smoothing(image, mask=mask, sigmas=sigma)"
   ]
  },
  {
   "cell_type": "code",
   "execution_count": null,
   "metadata": {},
   "outputs": [],
   "source": [
    "fig, axes = plt.subplots(1,2)\n",
    "axes[0].imshow(smoothed_image_masked[mid_plane_ind], cmap='gray')\n",
    "diff = axes[1].imshow(smoothed_image[mid_plane_ind] - smoothed_image_masked[mid_plane_ind], cmap='RdBu')\n",
    "fig.colorbar(diff, ax=axes[1], orientation='horizontal')\n",
    "axes[1].set_title(\"Difference between smoothed and masked smoothed image\", fontsize=8)"
   ]
  },
  {
   "cell_type": "markdown",
   "metadata": {},
   "source": [
    "Now, the signal stops outside the sample, and the bias inside the sample is reduced (it manifests as increased signal close to the sample boundaries).\n",
    "\n",
    "If we are interested in a signal that expresses in specific regions of the sample, e.g a gene that fluoresces only in nuclei, there remain a last bias that comes from the fact the the space <u> between</u> the nuclei should not be considered in the smoothing process. This bias can be removed by specifying a mask specifically for these regions."
   ]
  },
  {
   "cell_type": "markdown",
   "metadata": {},
   "source": [
    "### 1.3 With a mask of object instances"
   ]
  },
  {
   "cell_type": "markdown",
   "metadata": {},
   "source": [
    "Load labels for object instances, e.g nuclei. It can be obtained via our `segmentation.predict_stardist` function. The mask that restricts the smoothing to the nuclei is obtained by directly converting labels into a binary mask."
   ]
  },
  {
   "cell_type": "code",
   "execution_count": null,
   "metadata": {},
   "outputs": [],
   "source": [
    "labels = tifffile.imread(path_to_data / 'labels_def_corr.tif')\n",
    "\n",
    "mask_nuclei_instances = labels.astype(bool)"
   ]
  },
  {
   "cell_type": "markdown",
   "metadata": {},
   "source": [
    "<font color='red'>Note that we only require a mask of the subregion that needs to be smoothed, not actually the segmented instances. If you want to smooth a signal that cannot be segmented into individual instances, you can simply obtain the mask (e.g for membrane signal).</font>"
   ]
  },
  {
   "cell_type": "markdown",
   "metadata": {},
   "source": [
    "Now smooth the signal with the mask of the nuclei (to restrict the smoothing to the nuclei), and the mask of the inside of the sample (to restrict the smoothing result to the sample boundaries):"
   ]
  },
  {
   "cell_type": "code",
   "execution_count": null,
   "metadata": {},
   "outputs": [],
   "source": [
    "smoothed_image_masked2 = masked_gaussian_smoothing(image, mask=labels, sigmas=sigma)"
   ]
  },
  {
   "cell_type": "code",
   "execution_count": null,
   "metadata": {},
   "outputs": [],
   "source": [
    "# plt.imshow(smoothed_image_masked2[mid_plane_ind], cmap='gray')\n",
    "fig, axes = plt.subplots(1,2)\n",
    "axes[0].imshow(smoothed_image_masked2[mid_plane_ind], cmap='gray')\n",
    "foo = smoothed_image_masked[mid_plane_ind]\n",
    "foo[~mask_nuclei_instances[mid_plane_ind]] = 0\n",
    "diff = axes[1].imshow(foo - smoothed_image_masked2[mid_plane_ind], cmap='RdBu', vmin=-300, vmax=300)\n",
    "fig.colorbar(diff, ax=axes[1], orientation='horizontal')\n",
    "axes[1].set_title(\"Difference between masked smoothed and\\n masked with labels smooth images\", fontsize=8)"
   ]
  },
  {
   "cell_type": "markdown",
   "metadata": {},
   "source": [
    "This corrects the second bias, the smoothed signal is defined everywhere in the signal, but only the signal inside the nuclei is considered in the smoothing process."
   ]
  },
  {
   "cell_type": "code",
   "execution_count": null,
   "metadata": {},
   "outputs": [],
   "source": [
    "if napari_available:\n",
    "    viewer = napari.Viewer()\n",
    "\n",
    "    viewer.add_image(image, name='image')\n",
    "    viewer.add_image(smoothed_image, name='smoothed_image')\n",
    "    viewer.add_image(mask, name='mask')\n",
    "    viewer.add_image(smoothed_image_masked, name='smoothed_image_masked')\n",
    "    viewer.add_labels(labels, name='labels')\n",
    "    viewer.add_image(smoothed_image_masked2, name='smoothed_image_masked2')\n",
    "\n",
    "    viewer.grid.enabled = True\n",
    "    viewer.reset_view()"
   ]
  },
  {
   "cell_type": "markdown",
   "metadata": {},
   "source": [
    "## 2. Smoothing segmented object instances (labels) to get objects density or volume fraction"
   ]
  },
  {
   "cell_type": "markdown",
   "metadata": {},
   "source": [
    "To compute density-related fields (object density and volume fraction), we need to smooth the labels of the object instances.\n",
    "\n",
    "Smart by loading a mask of the inside of the sample, and the labels of the object instances."
   ]
  },
  {
   "cell_type": "markdown",
   "metadata": {},
   "source": [
    "### Object density"
   ]
  },
  {
   "cell_type": "markdown",
   "metadata": {},
   "source": [
    "To compute object density (number of objects per unit volume), we define a non-smoothed array of ones with the same shape as the labels, and smooth it with the mask of the inside of the sample. This will count the number of 1's inside the kernel, weighted by the kernel values."
   ]
  },
  {
   "cell_type": "code",
   "execution_count": null,
   "metadata": {},
   "outputs": [],
   "source": [
    "props = regionprops(labels)\n",
    "object_centroid_inds = tuple(np.array([prop.centroid for prop in props]).T.astype(int))\n",
    "\n",
    "signal_object_centers = np.zeros_like(labels, dtype=bool)\n",
    "signal_object_centers[object_centroid_inds] = True"
   ]
  },
  {
   "cell_type": "markdown",
   "metadata": {},
   "source": [
    "Smooth the array of ones, with the mask of the inside of the sample to restrict the smoothing to the sample boundaries:"
   ]
  },
  {
   "cell_type": "code",
   "execution_count": null,
   "metadata": {},
   "outputs": [],
   "source": [
    "object_density_field = masked_gaussian_smoothing(\n",
    "    signal_object_centers, \n",
    "    mask=mask,\n",
    "    sigmas=sigma\n",
    ")"
   ]
  },
  {
   "cell_type": "code",
   "execution_count": null,
   "metadata": {},
   "outputs": [],
   "source": [
    "im=plt.imshow(object_density_field[mid_plane_ind], cmap='inferno')\n",
    "plt.title(\"Object density field smoothed (masked correction)\", fontsize=8)\n",
    "fig.colorbar(im)"
   ]
  },
  {
   "cell_type": "markdown",
   "metadata": {},
   "source": [
    "### Volume fraction"
   ]
  },
  {
   "cell_type": "markdown",
   "metadata": {},
   "source": [
    "For the volume fraction (fraction of the volume occupied by the objects), the initial non-smoothed signal corresponds to a binary mask of the object instances. This equivalent to saying that at the pixel scale, the volume fraction is 100% inside the objects and 0% outside."
   ]
  },
  {
   "cell_type": "code",
   "execution_count": null,
   "metadata": {},
   "outputs": [],
   "source": [
    "mask_nuclei_instances = labels.astype(bool)"
   ]
  },
  {
   "cell_type": "markdown",
   "metadata": {},
   "source": [
    "Smooth the signal, with the mask of the inside of the sample to restrict the smoothing to the sample boundaries:"
   ]
  },
  {
   "cell_type": "code",
   "execution_count": null,
   "metadata": {},
   "outputs": [],
   "source": [
    "volume_fraction_field = masked_gaussian_smoothing(\n",
    "    mask_nuclei_instances, \n",
    "    mask=mask,\n",
    "    sigmas=sigma\n",
    ")"
   ]
  },
  {
   "cell_type": "code",
   "execution_count": null,
   "metadata": {},
   "outputs": [],
   "source": [
    "im=plt.imshow(volume_fraction_field[mid_plane_ind], cmap='viridis')\n",
    "plt.title(\"Volume fraction field smoothed (masked correction)\", fontsize=8)\n",
    "fig.colorbar(im)"
   ]
  },
  {
   "cell_type": "code",
   "execution_count": null,
   "metadata": {},
   "outputs": [],
   "source": [
    "if napari_available:\n",
    "    viewer = napari.Viewer()\n",
    "\n",
    "    viewer.add_labels(labels, name='labels')\n",
    "    viewer.add_image(mask, name='mask')\n",
    "    viewer.add_image(object_density_field, name='object_density_field', colormap='inferno')\n",
    "    viewer.add_image(volume_fraction_field, name='volume_fraction_field', colormap='viridis')\n",
    "\n",
    "    viewer.grid.enabled = True\n",
    "    viewer.reset_view()"
   ]
  },
  {
   "cell_type": "markdown",
   "metadata": {},
   "source": [
    "## 3. Smoothing object-located signals"
   ]
  },
  {
   "cell_type": "markdown",
   "metadata": {},
   "source": [
    "In the case of sparse, i.e signals that are defined only at specific positions, we can use the same method to smooth the signal, if the result is expected to be defined everywhere in the sample.\n",
    "\n",
    "In this case, we provide a mask that restricts the computation at the positions at which the sparse signal is defined.\n",
    "\n",
    "In this case, we will illustrate the method by computing a continuous field of object volume (e.g nuclei) from the segmented instances."
   ]
  },
  {
   "cell_type": "markdown",
   "metadata": {},
   "source": [
    "The initial non-smoothed signal is an array that is non-zero only at the centroid of the objects, and whose value at these positions is the volume of the object."
   ]
  },
  {
   "cell_type": "code",
   "execution_count": null,
   "metadata": {},
   "outputs": [],
   "source": [
    "props = regionprops(labels)\n",
    "object_centroid_inds = tuple(np.array([prop.centroid for prop in props]).T.astype(int))\n",
    "object_volumes = np.array([prop.area for prop in props]) # for 3D images, prop.area is the volume\n",
    "\n",
    "# create a mask with object centers\n",
    "mask_object_centers = np.zeros_like(labels, dtype=bool)\n",
    "mask_object_centers[object_centroid_inds] = True\n",
    "\n",
    "# create the initial non-smoothed signal of object volumes\n",
    "signal_object_volumes = np.zeros_like(labels, dtype=float)\n",
    "signal_object_volumes[object_centroid_inds] = object_volumes"
   ]
  },
  {
   "cell_type": "markdown",
   "metadata": {},
   "source": [
    "Smooth the signal, with the mask of the inside of the sample to restrict the smoothing to the sample boundaries, and the mask of the object instances to restrict the smoothing to the positions at which the sparse signal is defined:"
   ]
  },
  {
   "cell_type": "code",
   "execution_count": null,
   "metadata": {},
   "outputs": [],
   "source": [
    "smoothed_volume_field = masked_gaussian_smoothing(\n",
    "    signal_object_volumes, \n",
    "    mask=mask,\n",
    "    mask_for_volume=mask_object_centers,\n",
    "    sigmas=sigma\n",
    ")"
   ]
  },
  {
   "cell_type": "code",
   "execution_count": null,
   "metadata": {},
   "outputs": [],
   "source": [
    "im=plt.imshow(smoothed_volume_field[mid_plane_ind], cmap='cividis')\n",
    "plt.title(\"Smoothed volume field (masked correction)\", fontsize=8)\n",
    "fig.colorbar(im)"
   ]
  },
  {
   "cell_type": "code",
   "execution_count": null,
   "metadata": {},
   "outputs": [],
   "source": [
    "if napari_available:\n",
    "    viewer = napari.Viewer()\n",
    "\n",
    "    viewer.add_labels(labels, name='labels')\n",
    "    viewer.add_image(mask, name='mask')\n",
    "    viewer.add_image(smoothed_volume_field, name='smoothed_volume_field', colormap='cividis')\n",
    "\n",
    "    viewer.grid.enabled = True\n",
    "    viewer.reset_view()"
   ]
  }
 ],
 "metadata": {
  "kernelspec": {
   "display_name": "napari-mine",
   "language": "python",
   "name": "python3"
  },
  "language_info": {
   "codemirror_mode": {
    "name": "ipython",
    "version": 3
   },
   "file_extension": ".py",
   "mimetype": "text/x-python",
   "name": "python",
   "nbconvert_exporter": "python",
   "pygments_lexer": "ipython3",
   "version": "3.10.16"
  }
 },
 "nbformat": 4,
 "nbformat_minor": 2
}
