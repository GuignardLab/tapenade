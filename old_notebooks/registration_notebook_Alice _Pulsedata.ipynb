{
 "cells": [
  {
   "cell_type": "markdown",
   "id": "ed08f86b",
   "metadata": {},
   "source": [
    "# Registration Notebook"
   ]
  },
  {
   "cell_type": "code",
   "execution_count": 3,
   "id": "0d08deec",
   "metadata": {},
   "outputs": [
    {
     "name": "stderr",
     "output_type": "stream",
     "text": [
      "c:\\Users\\gros\\Anaconda3\\envs\\organoid-env\\lib\\site-packages\\IO\\IO.py:26: UserWarning: KLB library is not installed\n",
      "  warnings.warn(\"KLB library is not installed\")\n"
     ]
    },
    {
     "name": "stdout",
     "output_type": "stream",
     "text": [
      "pyklb library not found, klb files will not be generated\n"
     ]
    }
   ],
   "source": [
    "from organoid import preprocessing\n",
    "from organoid import reconstruction\n",
    "from organoid import utils\n",
    "import numpy as np\n",
    "import tifffile\n",
    "from pathlib import Path\n",
    "from glob import glob"
   ]
  },
  {
   "cell_type": "code",
   "execution_count": null,
   "id": "4178bc1b",
   "metadata": {},
   "outputs": [],
   "source": [
    "path = rf'C:\\Users\\gros\\Desktop\\DATA\\initial_transformation.json'\n",
    "print(reconstruction.transformation_from_plugin(path))"
   ]
  },
  {
   "cell_type": "code",
   "execution_count": null,
   "id": "76f0652f",
   "metadata": {},
   "outputs": [],
   "source": [
    "folder_data = rf'C:\\Users\\gros\\Desktop\\DATA\\Valentin\\72_5h_Hoechst_FoxA2_Oct4_Bra'\n",
    "samples = []\n",
    "paths = sorted(glob(rf'{folder_data}/*.tif'))\n",
    "\n",
    "for path in paths :\n",
    "    samples.append(Path(path).stem)\n",
    "print(samples)\n",
    "\n",
    "for sample in samples[10:]:\n",
    "    image = tifffile.imread(rf'{folder_data}/{sample}.tif',dtype='float16')\n",
    "    print(image.shape)\n",
    "    new_image=np.zeros_like(image,dtype='float16')    \n",
    "    image = (image.max()-image)/(image.max()-image.min())\n",
    "    image=1-image\n",
    "    tifffile.imwrite(rf'{folder_data}/{sample}_norm.tif', image)"
   ]
  },
  {
   "cell_type": "code",
   "execution_count": null,
   "id": "bea9f27e",
   "metadata": {},
   "outputs": [],
   "source": [
    "image = tifffile.imread(rf'C:\\Users\\gros\\Desktop\\DATA\\Valentin\\48_12h_Hoechst_Ecad_Bra_Sox2\\5_bottom_norm\\raw/5_bottom_norm_dapi_16.tif')\n",
    "# print(image.dtype)\n",
    "image=image.astype(np.uint16)\n",
    "tifffile.imwrite(rf'C:\\Users\\gros\\Desktop\\DATA\\Valentin\\48_12h_Hoechst_Ecad_Bra_Sox2\\5_bottom_norm\\raw/16_top_norm_dapi.tif', image)\n",
    "image2 = tifffile.imread(rf'C:\\Users\\gros\\Desktop\\DATA\\Valentin\\48_12h_Hoechst_Ecad_Bra_Sox2\\5_bottom_norm\\raw/16_top_norm_dapi.tif')\n",
    "print(image2.dtype)"
   ]
  },
  {
   "cell_type": "markdown",
   "id": "c96a28c3",
   "metadata": {},
   "source": [
    "If necessary, you can plot here the positions of all samples (from the metadata), to match the two sides"
   ]
  },
  {
   "cell_type": "code",
   "execution_count": 2,
   "id": "1795d17c",
   "metadata": {},
   "outputs": [
    {
     "name": "stdout",
     "output_type": "stream",
     "text": [
      "[1, 2, 3, 4, 5, 6, 7, 8] [1, 2, 3, 4, 5, 6, 7, 8]\n"
     ]
    },
    {
     "data": {
      "image/png": "[encoded data removed]",
      "text/plain": [
       "<Figure size 640x480 with 1 Axes>"
      ]
     },
     "metadata": {},
     "output_type": "display_data"
    }
   ],
   "source": [
    "path = rf'Z:\\EqpLenne2\\SHARED\\Wave_project\\2nd_Big_Wave\\Big_experiment_wave\\Hoechst_Ecad_Bra_Sox2\\72_5h_re'\n",
    "path_bottom_positions=rf'{path}\\multipoints_bottom_big.xml'\n",
    "path_top_positions=rf'{path}\\multipoints_top_big.xml'\n",
    "\n",
    "reconstruction.plot_positions(path_bottom_positions=path_bottom_positions,path_top_positions=path_top_positions)\n",
    "list_bottom,list_top=reconstruction.associate_top_bottom(\n",
    "      path_bottom_positions=path_bottom_positions,\n",
    "    path_top_positions=path_top_positions\n",
    ")\n",
    "print(list_bottom,list_top)"
   ]
  },
  {
   "cell_type": "markdown",
   "id": "a07b1262",
   "metadata": {},
   "source": [
    "Give the path to your data and name of images"
   ]
  },
  {
   "cell_type": "code",
   "execution_count": 1,
   "id": "5e4473c2",
   "metadata": {},
   "outputs": [
    {
     "name": "stdout",
     "output_type": "stream",
     "text": [
      "['1_bottom_2']\n",
      "['1_top_2']\n"
     ]
    }
   ],
   "source": [
    "path = rf'C:\\Users\\gros\\Desktop\\DATA\\Valentin\\Dapi_Ecad_bra_sox2_725h_re_big_newintensity\\1_bottom_2'\n",
    "path_to_bin = rf'C:\\Users\\user\\Anaconda3\\envs\\organoid-env\\Library\\bin'\n",
    "# list_ref = [\"{:01d}_bottom_norm\".format(i) for i in list_bottom]\n",
    "# list_float = [\"{:01d}_top_norm\".format(i) for i in list_top]\n",
    "list_ref=['1_bottom_2']\n",
    "list_float=['1_top_2']\n",
    "print(list_ref)\n",
    "print(list_float)\n",
    "channels = [\n",
    "\"dapi\",\n",
    "'ecad',\n",
    "'bra',\n",
    "'sox2'\n",
    "]  # example of channels. If you have only one channel, just put one element in the list\n"
   ]
  },
  {
   "cell_type": "markdown",
   "id": "b88b5bdb",
   "metadata": {},
   "source": [
    "Create the folder structure necessary for the registration"
   ]
  },
  {
   "cell_type": "code",
   "execution_count": 5,
   "id": "575de57e",
   "metadata": {},
   "outputs": [],
   "source": [
    "reconstruction.create_folders(\n",
    "    path, list_ref=list_ref, list_float=list_float, channels=channels\n",
    ")"
   ]
  },
  {
   "cell_type": "code",
   "execution_count": 4,
   "id": "60559e7d",
   "metadata": {},
   "outputs": [
    {
     "name": "stdout",
     "output_type": "stream",
     "text": [
      "{'path_to_data': 'C:\\\\Users\\\\gros\\\\Desktop\\\\DATA\\\\Valentin\\\\Dapi_Ecad_Bra_Sox2_72_5h_re_big_bottom\\\\3_bottom\\\\raw', 'ref_im': '1_bottom_2_dapi.tif', 'flo_ims': ['1_top_2_dapi.tif'], 'compute_trsf': 1, 'init_trsfs': [['trans', 'X', 0, 'trans', 'Y', 0, 'trans', 'Z', 0, 'rot', 'X', 180, 'rot', 'Y', 0, 'rot', 'Z', 0, 'trans', 'X', 0, 'trans', 'Y', 15, 'trans', 'Z', -60]], 'trsf_paths': ['C:\\\\Users\\\\gros\\\\Desktop\\\\DATA\\\\Valentin\\\\Dapi_Ecad_Bra_Sox2_72_5h_re_big_bottom\\\\3_bottom\\\\trsf'], 'trsf_types': ['rigid'], 'ref_voxel': [1, 1, 1], 'flo_voxels': [[1, 1, 1]], 'out_voxel': [1, 1, 1], 'test_init': 1, 'apply_trsf': 1, 'out_pattern': 'C:\\\\Users\\\\gros\\\\Desktop\\\\DATA\\\\Valentin\\\\Dapi_Ecad_Bra_Sox2_72_5h_re_big_bottom\\\\3_bottom\\\\registered', 'begin': 1, 'end': 1, 'bbox_out': 1, 'image_interpolation': 'linear', 'padding': 0, 'registration_depth': 3, 'ordered_init_trsfs': True}\n",
      "Starting experiment\n",
      "The registration will run with the following arguments:\n",
      "\n",
      " File format \n",
      "path_to_data             : C:\\Users\\gros\\Desktop\\DATA\\Valentin\\Dapi_Ecad_Bra_Sox2_72_5h_re_big_bottom\\3_bottom\\raw\n",
      "ref_im                   : 1_bottom_2_dapi.tif\n",
      "flo_ims                  : 1_top_2_dapi.tif\n",
      "init_trsfs               : ['trans', 'X', 0, 'trans', 'Y', 0, 'trans', 'Z', 0, 'rot', 'X', 180, 'rot', 'Y', 0, 'rot', 'Z', 0, 'trans', 'X', 0, 'trans', 'Y', 15, 'trans', 'Z', -60]\n",
      "trsf_types               : rigid\n",
      "ref_voxel                : 1.000000 x 1.000000 x 1.000000\n",
      "flo_voxels               : 1.000000 x 1.000000 x 1.000000\n",
      "out_voxel                : 1.000000 x 1.000000 x 1.000000\n",
      "out_pattern              : C:\\Users\\gros\\Desktop\\DATA\\Valentin\\Dapi_Ecad_Bra_Sox2_72_5h_re_big_bottom\\3_bottom\\registered\n",
      "\n",
      "Failure of {'path_to_data': 'C:\\\\Users\\\\gros\\\\Desktop\\\\DATA\\\\Valentin\\\\Dapi_Ecad_Bra_Sox2_72_5h_re_big_bottom\\\\3_bottom\\\\raw', 'ref_im': '1_bottom_2_dapi.tif', 'flo_ims': ['1_top_2_dapi.tif'], 'compute_trsf': 1, 'init_trsfs': [['trans', 'X', 0, 'trans', 'Y', 0, 'trans', 'Z', 0, 'rot', 'X', 180, 'rot', 'Y', 0, 'rot', 'Z', 0, 'trans', 'X', 0, 'trans', 'Y', 15, 'trans', 'Z', -60]], 'trsf_paths': ['C:\\\\Users\\\\gros\\\\Desktop\\\\DATA\\\\Valentin\\\\Dapi_Ecad_Bra_Sox2_72_5h_re_big_bottom\\\\3_bottom\\\\trsf'], 'trsf_types': ['rigid'], 'ref_voxel': [1, 1, 1], 'flo_voxels': [[1, 1, 1]], 'out_voxel': [1, 1, 1], 'test_init': 1, 'apply_trsf': 1, 'out_pattern': 'C:\\\\Users\\\\gros\\\\Desktop\\\\DATA\\\\Valentin\\\\Dapi_Ecad_Bra_Sox2_72_5h_re_big_bottom\\\\3_bottom\\\\registered', 'begin': 1, 'end': 1, 'bbox_out': 1, 'image_interpolation': 'linear', 'padding': 0, 'registration_depth': 3, 'ordered_init_trsfs': True}\n",
      "The requested file do not exist: C:\\Users\\gros\\Desktop\\DATA\\Valentin\\Dapi_Ecad_Bra_Sox2_72_5h_re_big_bottom\\3_bottom\\raw\\1_top_2_dapi.tif\n"
     ]
    }
   ],
   "source": [
    "# from now on, we consider only one sample. If you have multiple samples, you can loop : list_ref[i]\n",
    "\n",
    "channel_reference = \"dapi\"\n",
    "# trans1= [0,0,0]\n",
    "init_trsfs=[[\"trans\",\"X\",0,\"trans\",\"Y\",0,\"trans\",\"Z\",0,\"rot\",\"X\",180,\"rot\",\"Y\",0,\"rot\",\"Z\",0,\"trans\",\"X\",0,\"trans\",\"Y\",15,\"trans\",\"Z\",-60]]\n",
    "# rot = [180,0,0]\n",
    "# trans2 = [0,35,-60]\n",
    "# trsf = [['trans', 'X', 8.666666666666686, 'trans', 'Y', 9.0, 'trans', 'Z', -11.166666666666671, 'rot', 'X', 169.38329532639844, 'rot', 'Y', 23.012950241708495, 'rot', 'Z', -25.154686526573517, 'trans', 'X', -32.0, 'trans', 'Y', 26.0, 'trans', 'Z', 10.166666666666671]]\n",
    "# trsf = [['trans', 'X', -2.0, 'trans', 'Y', -0.04322344322343952, 'trans', 'Z', 49.900000000000006, 'rot', 'X', -179.46339680725794, 'rot', 'Y', 1.967721890851205, 'rot', 'Z', -3.0611787827240895, 'trans', 'X', 17.599999999999994, 'trans', 'Y', -17.80000000000001, 'trans', 'Z', -37.7]]\n",
    "# trsf= [['trans', 'X', 4.333333333333314, 'trans', 'Y', -35.33333333333334, 'trans', 'Z', -4.833333333333329, 'rot', 'X', 172.0514408594924, 'rot', 'Y', 15.807234680307289, 'rot', 'Z', -7.512283072696486, 'trans', 'X', -37.333333333333314, 'trans', 'Y', -62.0, 'trans', 'Z', 4.5]]\n",
    "# register the reference channel first\n",
    "reconstruction.register(\n",
    "    path_data=rf'C:\\Users\\gros\\Desktop\\DATA\\Valentin\\Dapi_Ecad_Bra_Sox2_72_5h_re_big_bottom\\3_bottom\\raw',\n",
    "    path_transformation=rf'C:\\Users\\gros\\Desktop\\DATA\\Valentin\\Dapi_Ecad_Bra_Sox2_72_5h_re_big_bottom\\3_bottom\\trsf',\n",
    "    path_registered_data=rf'C:\\Users\\gros\\Desktop\\DATA\\Valentin\\Dapi_Ecad_Bra_Sox2_72_5h_re_big_bottom\\3_bottom\\registered',\n",
    "    reference_image=f\"1_bottom_2_{channel_reference}.tif\",\n",
    "    floating_image=f\"1_top_2_{channel_reference}.tif\",\n",
    "    input_voxel=[1,1,1],\n",
    "    output_voxel=[1, 1, 1],\n",
    "    compute_trsf=1,\n",
    "    # example of transformation if the sample has been flipped between the 2 views.\n",
    "    # trans1 is a translation before the rotation, trans2 is a translation after the rotation.\n",
    "    # trans1=trans1,  # XYZ\n",
    "    # rot=rot,\n",
    "    # trans2=trans2,\n",
    "    test_init=1,\n",
    "    trsf_type=\"rigid\",\n",
    "    #other_trsf needs 2 sets of brackets\n",
    "    other_trsf = init_trsfs,\n",
    "    depth=3,\n",
    "    bbox=1,\n",
    ")\n",
    "\n",
    "\n",
    "# # # # registering other channel using the transformation computed above\n",
    "# for channel in channels[\n",
    "#     1:\n",
    "# ]:  # (we skip the reference channel that we assumed is the first)\n",
    "#     print(channel)\n",
    "#     reconstruction.register(\n",
    "#         path_data=Path(path) / filename_ref / \"raw\",\n",
    "#         path_transformation=Path(path) / filename_ref / \"trsf\",\n",
    "#         path_registered_data=Path(path) / filename_ref / \"registered\",\n",
    "#         path_to_bin=path_to_bin,\n",
    "#         reference_image=f\"{filename_ref}_{channel}.tif\",\n",
    "#         floating_image=f\"{filename_float}_{channel}.tif\",\n",
    "#                 # trsf_type=\"rigid\",\n",
    "#         input_voxel=[0.6,0.6, 1],\n",
    "#         output_voxel=[1, 1, 1],\n",
    "#         compute_trsf=1,\n",
    "\n",
    "#     )\n",
    "\n",
    "channel = 'bra'#channels[0]\n",
    "scale = (1,0.6,0.6)\n",
    "reconstruction.check_napari(\n",
    "    folder=rf'C:\\Users\\gros\\Desktop\\DATA\\Valentin\\Dapi_Ecad_Bra_Sox2_72_5h_re_big_bottom\\3_bottom',    \n",
    "    reference_image=f\"3_bottom_{channel}.tif\",\n",
    "    floating_image=f\"3_top_{channel}.tif\",\n",
    "    scale=scale,\n",
    ")"
   ]
  },
  {
   "cell_type": "markdown",
   "id": "b44eaa2b",
   "metadata": {},
   "source": [
    "Register automatically\n",
    "\n",
    "To register your floating image onto the reference one, you should have an idea of the transformation to apply.  From this approximative initial transformation, the algorithm will find the exact transformation to match the 2 sides.\n",
    "\n",
    "If your image has multiple channels, one will be the reference one, registered first. The second part of the code executes the registration for the other channels, using the same transformation as computed for the reference."
   ]
  },
  {
   "cell_type": "code",
   "execution_count": 14,
   "id": "5f5c2e08",
   "metadata": {},
   "outputs": [
    {
     "ename": "TypeError",
     "evalue": "register() got an unexpected keyword argument 'path_to_bin'",
     "output_type": "error",
     "traceback": [
      "\u001b[1;31m---------------------------------------------------------------------------\u001b[0m",
      "\u001b[1;31mTypeError\u001b[0m                                 Traceback (most recent call last)",
      "Cell \u001b[1;32mIn[14], line 13\u001b[0m\n\u001b[0;32m      7\u001b[0m rot \u001b[38;5;241m=\u001b[39m [\u001b[38;5;241m180\u001b[39m,\u001b[38;5;241m0\u001b[39m,\u001b[38;5;241m0\u001b[39m]\n\u001b[0;32m      8\u001b[0m \u001b[38;5;66;03m# trans2 = [0,0,0]\u001b[39;00m\n\u001b[0;32m      9\u001b[0m \u001b[38;5;66;03m# trsf = [['trans', 'X', 8.666666666666686, 'trans', 'Y', 9.0, 'trans', 'Z', -11.166666666666671, 'rot', 'X', 169.38329532639844, 'rot', 'Y', 23.012950241708495, 'rot', 'Z', -25.154686526573517, 'trans', 'X', -32.0, 'trans', 'Y', 26.0, 'trans', 'Z', 10.166666666666671]]\u001b[39;00m\n\u001b[0;32m     10\u001b[0m \u001b[38;5;66;03m# trsf = [['trans', 'X', -2.0, 'trans', 'Y', -0.04322344322343952, 'trans', 'Z', 49.900000000000006, 'rot', 'X', -179.46339680725794, 'rot', 'Y', 1.967721890851205, 'rot', 'Z', -3.0611787827240895, 'trans', 'X', 17.599999999999994, 'trans', 'Y', -17.80000000000001, 'trans', 'Z', -37.7]]\u001b[39;00m\n\u001b[0;32m     11\u001b[0m \u001b[38;5;66;03m# trsf= [['trans', 'X', 4.333333333333314, 'trans', 'Y', -35.33333333333334, 'trans', 'Z', -4.833333333333329, 'rot', 'X', 172.0514408594924, 'rot', 'Y', 15.807234680307289, 'rot', 'Z', -7.512283072696486, 'trans', 'X', -37.333333333333314, 'trans', 'Y', -62.0, 'trans', 'Z', 4.5]]\u001b[39;00m\n\u001b[0;32m     12\u001b[0m \u001b[38;5;66;03m# register the reference channel first\u001b[39;00m\n\u001b[1;32m---> 13\u001b[0m \u001b[43mreconstruction\u001b[49m\u001b[38;5;241;43m.\u001b[39;49m\u001b[43mregister\u001b[49m\u001b[43m(\u001b[49m\n\u001b[0;32m     14\u001b[0m \u001b[43m    \u001b[49m\u001b[43mpath_data\u001b[49m\u001b[38;5;241;43m=\u001b[39;49m\u001b[43mPath\u001b[49m\u001b[43m(\u001b[49m\u001b[43mpath\u001b[49m\u001b[43m)\u001b[49m\u001b[43m \u001b[49m\u001b[38;5;241;43m/\u001b[39;49m\u001b[43m \u001b[49m\u001b[43mfilename_ref\u001b[49m\u001b[43m \u001b[49m\u001b[38;5;241;43m/\u001b[39;49m\u001b[43m \u001b[49m\u001b[38;5;124;43m\"\u001b[39;49m\u001b[38;5;124;43mraw\u001b[39;49m\u001b[38;5;124;43m\"\u001b[39;49m\u001b[43m,\u001b[49m\n\u001b[0;32m     15\u001b[0m \u001b[43m    \u001b[49m\u001b[43mpath_transformation\u001b[49m\u001b[38;5;241;43m=\u001b[39;49m\u001b[43mPath\u001b[49m\u001b[43m(\u001b[49m\u001b[43mpath\u001b[49m\u001b[43m)\u001b[49m\u001b[43m \u001b[49m\u001b[38;5;241;43m/\u001b[39;49m\u001b[43m \u001b[49m\u001b[43mfilename_ref\u001b[49m\u001b[43m \u001b[49m\u001b[38;5;241;43m/\u001b[39;49m\u001b[43m \u001b[49m\u001b[38;5;124;43m\"\u001b[39;49m\u001b[38;5;124;43mtrsf\u001b[39;49m\u001b[38;5;124;43m\"\u001b[39;49m\u001b[43m,\u001b[49m\n\u001b[0;32m     16\u001b[0m \u001b[43m    \u001b[49m\u001b[43mpath_registered_data\u001b[49m\u001b[38;5;241;43m=\u001b[39;49m\u001b[43mPath\u001b[49m\u001b[43m(\u001b[49m\u001b[43mpath\u001b[49m\u001b[43m)\u001b[49m\u001b[43m \u001b[49m\u001b[38;5;241;43m/\u001b[39;49m\u001b[43m \u001b[49m\u001b[43mfilename_ref\u001b[49m\u001b[43m \u001b[49m\u001b[38;5;241;43m/\u001b[39;49m\u001b[43m \u001b[49m\u001b[38;5;124;43m\"\u001b[39;49m\u001b[38;5;124;43mregistered\u001b[39;49m\u001b[38;5;124;43m\"\u001b[39;49m\u001b[43m,\u001b[49m\n\u001b[0;32m     17\u001b[0m \u001b[43m    \u001b[49m\u001b[43mpath_to_bin\u001b[49m\u001b[38;5;241;43m=\u001b[39;49m\u001b[43mpath_to_bin\u001b[49m\u001b[43m,\u001b[49m\n\u001b[0;32m     18\u001b[0m \u001b[43m    \u001b[49m\u001b[43mreference_image\u001b[49m\u001b[38;5;241;43m=\u001b[39;49m\u001b[38;5;124;43mf\u001b[39;49m\u001b[38;5;124;43m\"\u001b[39;49m\u001b[38;5;132;43;01m{\u001b[39;49;00m\u001b[43mfilename_ref\u001b[49m\u001b[38;5;132;43;01m}\u001b[39;49;00m\u001b[38;5;124;43m_\u001b[39;49m\u001b[38;5;132;43;01m{\u001b[39;49;00m\u001b[43mchannel_reference\u001b[49m\u001b[38;5;132;43;01m}\u001b[39;49;00m\u001b[38;5;124;43m.tif\u001b[39;49m\u001b[38;5;124;43m\"\u001b[39;49m\u001b[43m,\u001b[49m\n\u001b[0;32m     19\u001b[0m \u001b[43m    \u001b[49m\u001b[43mfloating_image\u001b[49m\u001b[38;5;241;43m=\u001b[39;49m\u001b[38;5;124;43mf\u001b[39;49m\u001b[38;5;124;43m\"\u001b[39;49m\u001b[38;5;132;43;01m{\u001b[39;49;00m\u001b[43mfilename_float\u001b[49m\u001b[38;5;132;43;01m}\u001b[39;49;00m\u001b[38;5;124;43m_\u001b[39;49m\u001b[38;5;132;43;01m{\u001b[39;49;00m\u001b[43mchannel_reference\u001b[49m\u001b[38;5;132;43;01m}\u001b[39;49;00m\u001b[38;5;124;43m.tif\u001b[39;49m\u001b[38;5;124;43m\"\u001b[39;49m\u001b[43m,\u001b[49m\n\u001b[0;32m     20\u001b[0m \u001b[43m    \u001b[49m\u001b[43minput_voxel\u001b[49m\u001b[38;5;241;43m=\u001b[39;49m\u001b[43m[\u001b[49m\u001b[38;5;241;43m1\u001b[39;49m\u001b[43m,\u001b[49m\u001b[38;5;241;43m1\u001b[39;49m\u001b[43m,\u001b[49m\u001b[38;5;241;43m2\u001b[39;49m\u001b[43m]\u001b[49m\u001b[43m,\u001b[49m\n\u001b[0;32m     21\u001b[0m \u001b[43m    \u001b[49m\u001b[43moutput_voxel\u001b[49m\u001b[38;5;241;43m=\u001b[39;49m\u001b[43m[\u001b[49m\u001b[38;5;241;43m1\u001b[39;49m\u001b[43m,\u001b[49m\u001b[43m \u001b[49m\u001b[38;5;241;43m1\u001b[39;49m\u001b[43m,\u001b[49m\u001b[43m \u001b[49m\u001b[38;5;241;43m1\u001b[39;49m\u001b[43m]\u001b[49m\u001b[43m,\u001b[49m\n\u001b[0;32m     22\u001b[0m \u001b[43m    \u001b[49m\u001b[43mcompute_trsf\u001b[49m\u001b[38;5;241;43m=\u001b[39;49m\u001b[38;5;241;43m1\u001b[39;49m\u001b[43m,\u001b[49m\n\u001b[0;32m     23\u001b[0m \u001b[43m    \u001b[49m\u001b[38;5;66;43;03m# example of transformation if the sample has been flipped between the 2 views.\u001b[39;49;00m\n\u001b[0;32m     24\u001b[0m \u001b[43m    \u001b[49m\u001b[38;5;66;43;03m# trans1 is a translation before the rotation, trans2 is a translation after the rotation.\u001b[39;49;00m\n\u001b[0;32m     25\u001b[0m \u001b[43m    \u001b[49m\u001b[38;5;66;43;03m# trans1=trans1,  # XYZ\u001b[39;49;00m\n\u001b[0;32m     26\u001b[0m \u001b[43m    \u001b[49m\u001b[43mrot\u001b[49m\u001b[38;5;241;43m=\u001b[39;49m\u001b[43mrot\u001b[49m\u001b[43m,\u001b[49m\n\u001b[0;32m     27\u001b[0m \u001b[43m    \u001b[49m\u001b[38;5;66;43;03m# trans2=trans2,\u001b[39;49;00m\n\u001b[0;32m     28\u001b[0m \u001b[43m    \u001b[49m\u001b[43mtest_init\u001b[49m\u001b[38;5;241;43m=\u001b[39;49m\u001b[38;5;241;43m0\u001b[39;49m\u001b[43m,\u001b[49m\n\u001b[0;32m     29\u001b[0m \u001b[43m    \u001b[49m\u001b[43mtrsf_type\u001b[49m\u001b[38;5;241;43m=\u001b[39;49m\u001b[38;5;124;43m\"\u001b[39;49m\u001b[38;5;124;43mrigid\u001b[39;49m\u001b[38;5;124;43m\"\u001b[39;49m\u001b[43m,\u001b[49m\n\u001b[0;32m     30\u001b[0m \u001b[43m    \u001b[49m\u001b[38;5;66;43;03m#other_trsf needs 2 sets of brackets\u001b[39;49;00m\n\u001b[0;32m     31\u001b[0m \u001b[43m    \u001b[49m\u001b[38;5;66;43;03m# other_trsf = trsf,\u001b[39;49;00m\n\u001b[0;32m     32\u001b[0m \u001b[43m    \u001b[49m\u001b[43mdepth\u001b[49m\u001b[38;5;241;43m=\u001b[39;49m\u001b[38;5;241;43m3\u001b[39;49m\u001b[43m,\u001b[49m\n\u001b[0;32m     33\u001b[0m \u001b[43m    \u001b[49m\u001b[43mbbox\u001b[49m\u001b[38;5;241;43m=\u001b[39;49m\u001b[38;5;241;43m1\u001b[39;49m\u001b[43m,\u001b[49m\n\u001b[0;32m     34\u001b[0m \u001b[43m    \u001b[49m\u001b[43msave_json\u001b[49m\u001b[38;5;241;43m=\u001b[39;49m\u001b[43mPath\u001b[49m\u001b[43m(\u001b[49m\u001b[43mpath\u001b[49m\u001b[43m)\u001b[49m\u001b[43m \u001b[49m\u001b[38;5;241;43m/\u001b[39;49m\u001b[43m \u001b[49m\u001b[43mfilename_ref\u001b[49m\u001b[43m,\u001b[49m\n\u001b[0;32m     35\u001b[0m \u001b[43m)\u001b[49m\n\u001b[0;32m     38\u001b[0m \u001b[38;5;66;03m# # # # registering other channel using the transformation computed above\u001b[39;00m\n\u001b[0;32m     39\u001b[0m \u001b[38;5;66;03m# for channel in channels[\u001b[39;00m\n\u001b[0;32m     40\u001b[0m \u001b[38;5;66;03m#     1:\u001b[39;00m\n\u001b[1;32m   (...)\u001b[0m\n\u001b[0;32m     54\u001b[0m \n\u001b[0;32m     55\u001b[0m \u001b[38;5;66;03m#     )\u001b[39;00m\n\u001b[0;32m     57\u001b[0m channel \u001b[38;5;241m=\u001b[39m \u001b[38;5;124m'\u001b[39m\u001b[38;5;124mdapi\u001b[39m\u001b[38;5;124m'\u001b[39m\u001b[38;5;66;03m#channels[0]\u001b[39;00m\n",
      "\u001b[1;31mTypeError\u001b[0m: register() got an unexpected keyword argument 'path_to_bin'"
     ]
    }
   ],
   "source": [
    "# from now on, we consider only one sample. If you have multiple samples, you can loop : list_ref[i]\n",
    "filename_ref = list_ref[0]\n",
    "filename_float = list_float[0]\n",
    "\n",
    "channel_reference = \"dapi\"\n",
    "# trans1= [0,0,0]\n",
    "rot = [180,0,0]\n",
    "# trans2 = [0,0,0]\n",
    "# trsf = [['trans', 'X', 8.666666666666686, 'trans', 'Y', 9.0, 'trans', 'Z', -11.166666666666671, 'rot', 'X', 169.38329532639844, 'rot', 'Y', 23.012950241708495, 'rot', 'Z', -25.154686526573517, 'trans', 'X', -32.0, 'trans', 'Y', 26.0, 'trans', 'Z', 10.166666666666671]]\n",
    "# trsf = [['trans', 'X', -2.0, 'trans', 'Y', -0.04322344322343952, 'trans', 'Z', 49.900000000000006, 'rot', 'X', -179.46339680725794, 'rot', 'Y', 1.967721890851205, 'rot', 'Z', -3.0611787827240895, 'trans', 'X', 17.599999999999994, 'trans', 'Y', -17.80000000000001, 'trans', 'Z', -37.7]]\n",
    "# trsf= [['trans', 'X', 4.333333333333314, 'trans', 'Y', -35.33333333333334, 'trans', 'Z', -4.833333333333329, 'rot', 'X', 172.0514408594924, 'rot', 'Y', 15.807234680307289, 'rot', 'Z', -7.512283072696486, 'trans', 'X', -37.333333333333314, 'trans', 'Y', -62.0, 'trans', 'Z', 4.5]]\n",
    "# register the reference channel first\n",
    "reconstruction.register(\n",
    "    path_data=Path(path) / filename_ref / \"raw\",\n",
    "    path_transformation=Path(path) / filename_ref / \"trsf\",\n",
    "    path_registered_data=Path(path) / filename_ref / \"registered\",\n",
    "    path_to_bin=path_to_bin,\n",
    "    reference_image=f\"{filename_ref}_{channel_reference}.tif\",\n",
    "    floating_image=f\"{filename_float}_{channel_reference}.tif\",\n",
    "    input_voxel=[1,1,2],\n",
    "    output_voxel=[1, 1, 1],\n",
    "    compute_trsf=1,\n",
    "    # example of transformation if the sample has been flipped between the 2 views.\n",
    "    # trans1 is a translation before the rotation, trans2 is a translation after the rotation.\n",
    "    # trans1=trans1,  # XYZ\n",
    "    rot=rot,\n",
    "    # trans2=trans2,\n",
    "    test_init=0,\n",
    "    trsf_type=\"rigid\",\n",
    "    #other_trsf needs 2 sets of brackets\n",
    "    # other_trsf = trsf,\n",
    "    depth=3,\n",
    "    bbox=1,\n",
    "    save_json=Path(path) / filename_ref,\n",
    ")\n",
    "\n",
    "\n",
    "# # # # registering other channel using the transformation computed above\n",
    "# for channel in channels[\n",
    "#     1:\n",
    "# ]:  # (we skip the reference channel that we assumed is the first)\n",
    "#     print(channel)\n",
    "#     reconstruction.register(\n",
    "#         path_data=Path(path) / filename_ref / \"raw\",\n",
    "#         path_transformation=Path(path) / filename_ref / \"trsf\",\n",
    "#         path_registered_data=Path(path) / filename_ref / \"registered\",\n",
    "#         path_to_bin=path_to_bin,\n",
    "#         reference_image=f\"{filename_ref}_{channel}.tif\",\n",
    "#         floating_image=f\"{filename_float}_{channel}.tif\",\n",
    "#                 # trsf_type=\"rigid\",\n",
    "#         input_voxel=[0.6,0.6, 1],\n",
    "#         output_voxel=[1, 1, 1],\n",
    "#         compute_trsf=1,\n",
    "\n",
    "#     )\n",
    "\n",
    "channel = 'dapi'#channels[0]\n",
    "scale = (1, 1, 1)\n",
    "reconstruction.check_napari(\n",
    "    folder=Path(path) / f\"{filename_ref}\",\n",
    "    reference_image=f\"{filename_ref}_{channel}.tif\",\n",
    "    floating_image=f\"{filename_float}_{channel}.tif\",\n",
    "    scale=scale,\n",
    ")"
   ]
  },
  {
   "cell_type": "markdown",
   "id": "753a47ef",
   "metadata": {},
   "source": [
    "Fuse sides"
   ]
  },
  {
   "cell_type": "code",
   "execution_count": null,
   "id": "3be6e9dd",
   "metadata": {},
   "outputs": [],
   "source": [
    "# for ch in channels:\n",
    "image = reconstruction.fuse_sides(\n",
    "    path_registered_data=rf'C:\\Users\\gros\\Desktop\\DATA\\Katia\\registered',\n",
    "    reference_image_reg=f\"im_2_bottom.tif\",\n",
    "    floating_image_reg=f\"im_2_top.tif\",\n",
    "    folder_output=rf'C:\\Users\\gros\\Desktop\\DATA\\Katia\\registered',\n",
    "    name_output=rf\"fuseddata2.tif\",\n",
    "    slope_coeff=20,  # slope of the weight profile : 5 corresponds to a low slope, wide fusion width and 25 to a strong slope, very thin fusion width.\n",
    ")"
   ]
  },
  {
   "cell_type": "markdown",
   "id": "6813afe5",
   "metadata": {},
   "source": [
    "Merge all the channels in one multichannel image"
   ]
  },
  {
   "cell_type": "code",
   "execution_count": null,
   "id": "b99d45d6",
   "metadata": {},
   "outputs": [],
   "source": [
    "# the images should be named 'sampleid_channel.tif', eg 'fuseddata_dapi.tif', this depends on the argument \"name_output\" above.\n",
    "reconstruction.write_hyperstacks(\n",
    "    path=Path(path) / filename_ref / \"fused\",\n",
    "    sample_id=\"fuseddata2\",\n",
    "    channels=channels,\n",
    ")"
   ]
  },
  {
   "cell_type": "markdown",
   "id": "889bc65d",
   "metadata": {},
   "source": [
    "Optional : Registration using landmarks\n",
    "\n",
    "If the automatic registration is not satisfying, one option is to give more precise initial transformations to the algorithm.\n",
    "\n",
    "For that, you need to define landmarks, using for example the Napari plugin. One landmark is a feature that you recognize in both the reference image and the floating image, that you will need to pinpoint with a marker of given label, this label has to be an integer that has the same value in both image.\n",
    "\n",
    "Once you have at least 3 annotated landmarks (=3 labels in each image), give these landmarks to the manual_registration function, that will compute the transformation necessary to align them, and give this transformation as a starting point to the algorithm.\n"
   ]
  },
  {
   "cell_type": "code",
   "execution_count": null,
   "id": "902ee748",
   "metadata": {},
   "outputs": [],
   "source": [
    "## If you used the napari plugin and saved you json file \n",
    "path_to_initial_transformation = rf'C:\\Users\\gros\\Desktop\\DATA\\Katia\\initial_transformation.json'\n",
    "path = rf'C:\\Users\\gros\\Desktop\\DATA\\Katia'\n",
    "(rotation, translation) = reconstruction.transformation_from_plugin(path_to_initial_transformation)\n",
    "print(rotation,translation)\n",
    "reconstruction.register(\n",
    "    path_data=rf'C:\\Users\\gros\\Desktop\\DATA\\Katia\\raw',\n",
    "    path_transformation=rf'C:\\Users\\gros\\Desktop\\DATA\\Katia\\trsf',\n",
    "    path_registered_data=rf'C:\\Users\\gros\\Desktop\\DATA\\Katia\\registered',\n",
    "    reference_image=f\"im_2_bottom.tif\",\n",
    "    floating_image=f\"im_2_top.tif\",\n",
    "    input_voxel=[1,1,1],\n",
    "    output_voxel=[1, 1, 1],\n",
    "    compute_trsf=1,\n",
    "    # example of transformation if the sample has been flipped between the 2 views.\n",
    "    # trans1 is a translation before the rotation, trans2 is a translation after the rotation.\n",
    "    # trans1=trans1,  # XYZ\n",
    "    rot=rotation,\n",
    "    trans2=translation,\n",
    "    test_init=0,\n",
    "    trsf_type=\"rigid\",\n",
    "    #other_trsf needs 2 sets of brackets\n",
    "    # other_trsf = trsf,\n",
    "    depth=3,\n",
    "    bbox=1,\n",
    ")\n",
    "\n",
    "\n",
    "scale = (1.5,0.44,0.44)\n",
    "reconstruction.check_napari(\n",
    "    folder=rf'C:\\Users\\gros\\Desktop\\DATA\\Katia',    \n",
    "    reference_image=f\"im_2_bottom.tif\",\n",
    "    floating_image=f\"im_2_top.tif\",\n",
    "    scale=scale,\n",
    ")"
   ]
  },
  {
   "cell_type": "code",
   "execution_count": null,
   "id": "caa40381",
   "metadata": {},
   "outputs": [],
   "source": [
    "filename_ref = list_ref\n",
    "filename_float = list_float\n",
    "scale = (1, 1, 1)\n",
    "path_to_landmarks = rf'C:\\Users\\gros\\Desktop\\DATA\\Valentin\\48_12h_Hoechst_Ecad_Bra_Sox2\\{filename_ref}\\raw'\n",
    "reference_landmarks = tifffile.imread(\n",
    "    Path(path_to_landmarks) / f\"reference_landmarks.tif\"\n",
    ")\n",
    "floating_landmarks = tifffile.imread(\n",
    "    Path(path_to_landmarks) / f\"floating_landmarks.tif\"\n",
    ")\n",
    "reference_landmarks = reference_landmarks.astype(np.uint16)\n",
    "floating_landmarks = floating_landmarks.astype(np.uint16)\n",
    "print(np.unique(reference_landmarks))\n",
    "print(np.unique(floating_landmarks))\n",
    "channel = \"ecad\"\n",
    "\n",
    "rot, trans1, trans2 = reconstruction.manual_registration_fct(\n",
    "    reference_landmarks=reference_landmarks,\n",
    "    floating_landmarks=floating_landmarks,\n",
    "    scale=(1, 1, 1),\n",
    ")\n",
    "\n",
    "rot=[rot[2],rot[1],rot[0]]\n",
    "\n",
    "reconstruction.register(\n",
    "    path_data=Path(path) / filename_ref / \"raw\",\n",
    "    path_transformation=Path(path) / filename_ref / \"trsf\",\n",
    "    path_registered_data=Path(path) / filename_ref / \"registered\",\n",
    "    path_to_bin=path_to_bin,\n",
    "    reference_image=f\"{filename_ref}_{channel}.tif\",\n",
    "    floating_image=f\"{filename_float}_{channel}.tif\",\n",
    "    input_voxel=[\n",
    "        1,\n",
    "        1,\n",
    "        1,\n",
    "    ],  # if you use landmarks, better use the same voxel size in and out\n",
    "    output_voxel=[1, 1, 1],\n",
    "    compute_trsf=1,\n",
    "    rot=rot,\n",
    "    trans1=trans1,\n",
    "    trans2=trans2,\n",
    "    test_init=1,\n",
    "    trsf_type=\"rigid\",\n",
    "    depth=3,\n",
    "    bbox=1,\n",
    "    save_json=\"\",\n",
    ")"
   ]
  },
  {
   "cell_type": "code",
   "execution_count": null,
   "id": "66a20cb1",
   "metadata": {},
   "outputs": [],
   "source": [
    "#trsf 2 and 16 :\n",
    "# init_trsfs: ['trans', 'X', -2.0, 'trans', 'Y', -0.04322344322343952, 'trans', 'Z', 49.900000000000006, 'rot', 'X', -179.46339680725794, 'rot', 'Y', 1.967721890851205, 'rot', 'Z', -3.0611787827240895, 'trans', 'X', 17.599999999999994, 'trans', 'Y', -17.80000000000001, 'trans', 'Z', -37.7]\n",
    "#init 4, 5, 6, 10, 11, 13, 14\n",
    "# init_trsfs ['trans', 'X', 4.333333333333314, 'trans', 'Y', -35.33333333333334, 'trans', 'Z', -4.833333333333329, 'rot', 'X', 172.0514408594924, 'rot', 'Y', 15.807234680307289, 'rot', 'Z', -7.512283072696486, 'trans', 'X', -37.333333333333314, 'trans', 'Y', -62.0, 'trans', 'Z', 4.5]\n",
    "# init 15 : same with trans2_z = 20"
   ]
  },
  {
   "cell_type": "markdown",
   "id": "ec8831d7",
   "metadata": {},
   "source": [
    "Debug : register the landmarks images and plot the result to see if the transformation is correct"
   ]
  },
  {
   "cell_type": "code",
   "execution_count": null,
   "id": "89b98bbe",
   "metadata": {},
   "outputs": [],
   "source": [
    "path_to_landmarks = path\n",
    "path_to_bin = rf'C:\\Users\\gros\\Anaconda3\\envs\\organoid-env\\Library\\bin'\n",
    "reference_landmarks = tifffile.imread(\n",
    "    Path(path_to_landmarks) / filename_ref/ f\"raw/reference_landmarks.tif\"\n",
    ")\n",
    "floating_landmarks = tifffile.imread(\n",
    "    Path(path_to_landmarks) / filename_ref / f\"raw/floating_landmarks.tif\"\n",
    ")\n",
    "\n",
    "reference_landmarks = reference_landmarks.astype(np.uint16)\n",
    "floating_landmarks = floating_landmarks.astype(np.uint16)\n",
    "print(np.unique(reference_landmarks),np.shape(reference_landmarks))\n",
    "print(np.unique(floating_landmarks),np.shape(floating_landmarks))\n",
    "tifffile.imwrite(Path(path_to_landmarks) / filename_ref / f\"raw/floating_landmarks.tif\", floating_landmarks)\n",
    "tifffile.imwrite(Path(path_to_landmarks) / filename_ref / f\"raw/reference_landmarks.tif\", reference_landmarks)\n",
    "channel = \"dapi\"\n",
    "\n",
    "rot, trans1, trans2 = reconstruction.manual_registration_fct(\n",
    "    reference_landmarks=reference_landmarks,\n",
    "    floating_landmarks=floating_landmarks,\n",
    "    scale=(1, 1, 1),\n",
    ")\n",
    "# trans2=[0,0,0]\n",
    "rot=[rot[2],rot[1],rot[0]]\n",
    "reconstruction.register(\n",
    "    path_data=Path(path_to_landmarks) / filename_ref / \"raw\",\n",
    "    path_transformation=Path(path_to_landmarks) / filename_ref / \"trsf\",\n",
    "    path_registered_data=Path(path_to_landmarks) / filename_ref / \"registered\",\n",
    "    path_to_bin=path_to_bin,\n",
    "    reference_image=f\"reference_landmarks.tif\",  # they have to be in 16bit to be registered\n",
    "    floating_image=f\"floating_landmarks.tif\",\n",
    "    input_voxel=[1, 1, 1],\n",
    "    output_voxel=[1, 1, 1],\n",
    "    compute_trsf=1,\n",
    "    trans1=trans1,\n",
    "    trans2=trans2,\n",
    "    rot=rot,\n",
    "    test_init=1,  # keep test_init=1 to see only the provided tranformation\n",
    "    trsf_type=\"rigid\",\n",
    "    depth=3,\n",
    "    save_json=Path(path_to_landmarks) / filename_ref,\n",
    ")\n",
    "print(trans1,rot,trans2)\n",
    "# loading the output and add articially the center of mass of the points, to see how well they align\n",
    "\n",
    "reference_landmarks = tifffile.imread(\n",
    "    Path(path_to_landmarks) / filename_ref / f\"raw/reference_landmarks.tif\"\n",
    ")\n",
    "floating_landmarks = tifffile.imread(\n",
    "    Path(path_to_landmarks) / filename_ref /f\"registered/floating_landmarks.tif\"\n",
    ")\n",
    "reference_landmarks = reconstruction.add_centermass(reference_landmarks)\n",
    "floating_landmarks = reconstruction.add_centermass(floating_landmarks)\n",
    "\n",
    "# loading the raw landmarks, before the registration\n",
    "reference_landmarks_notreg = tifffile.imread(\n",
    "    Path(path_to_landmarks) / filename_ref / f\"raw/reference_landmarks.tif\"\n",
    ")\n",
    "floating_landmarks_notreg = tifffile.imread(\n",
    "    Path(path_to_landmarks) / filename_ref /f\"raw/floating_landmarks.tif\"\n",
    ")\n",
    "reference_landmarks_notreg = reconstruction.add_centermass(\n",
    "    reference_landmarks_notreg\n",
    ")\n",
    "floating_landmarks_notreg = reconstruction.add_centermass(\n",
    "    floating_landmarks_notreg\n",
    ")\n",
    "\n",
    "# plotting the center of the image\n",
    "image_center = np.zeros_like(reference_landmarks)\n",
    "z, y, x = np.array(reference_landmarks.shape) / 2\n",
    "image_center[\n",
    "    int(z) - 10 : int(z) + 10,\n",
    "    int(y) - 10 : int(y) + 10,\n",
    "    int(x) - 10 : int(x) + 10,\n",
    "] = 100\n",
    "\n",
    "reconstruction.check_napari(\n",
    "    path_data=rf\"{path}\\{filename_ref}\",\n",
    "    reference_image=reference_landmarks,\n",
    "    floating_image=floating_landmarks,\n",
    "    additional_images=[\n",
    "        reference_landmarks_notreg,\n",
    "        floating_landmarks_notreg,\n",
    "        image_center,\n",
    "    ],\n",
    "    names_additional_images=[\n",
    "        \"reference_landmarks_notreg\",\n",
    "        \"floating_landmarks_notreg\",\n",
    "        \"image_center\",\n",
    "    ],\n",
    "    scale=scale,\n",
    "    labels=True,\n",
    ")"
   ]
  },
  {
   "cell_type": "code",
   "execution_count": null,
   "id": "677d7bbd",
   "metadata": {},
   "outputs": [],
   "source": [
    "data = tifffile.imread(rf'C:\\Users\\gros\\Desktop\\DATA\\Katia\\registered\\fuseddata2.tif')\n",
    "seg=tifffile.imread(rf'C:\\Users\\gros\\Desktop\\DATA\\Katia\\seg.tif')\n",
    "mask=tifffile.imread(rf'C:\\Users\\gros\\Desktop\\DATA\\Katia\\mask.tif')\n",
    "def rescale(image):\n",
    "    new_image=np.zeros_like(image,dtype='float16')    \n",
    "    new_image = (image.max()-image)/(image.max()-image.min())\n",
    "    return(1-new_image)\n",
    "import napari\n",
    "viewer=napari.Viewer()\n",
    "dapi_smooth = utils.smooth_gaussian(data,sigma=10,scale=scale, mask_for_volume=seg,mask=mask)\n",
    "\n",
    "dapi_smooth=rescale(dapi_smooth)\n",
    "viewer.add_image(dapi_smooth)\n",
    "dapi_smooth[mask==0]=np.nan\n",
    "dapi_norm=data.copy()\n",
    "dapi_norm = data/dapi_smooth\n",
    "dapi_norm[mask==0]=0   \n",
    "viewer.add_image(data)\n",
    "viewer.add_image(dapi_norm)\n",
    "napari.run()\n",
    "# tifffile.imwrite(rf'C:\\Users\\gros\\Desktop\\DATA\\Katia\\dapi_norm.tif', dapi_norm)"
   ]
  },
  {
   "cell_type": "code",
   "execution_count": null,
   "id": "ff72c3a7",
   "metadata": {},
   "outputs": [],
   "source": []
  }
 ],
 "metadata": {
  "kernelspec": {
   "display_name": "Python 3 (ipykernel)",
   "language": "python",
   "name": "python3"
  },
  "language_info": {
   "codemirror_mode": {
    "name": "ipython",
    "version": 3
   },
   "file_extension": ".py",
   "mimetype": "text/x-python",
   "name": "python",
   "nbconvert_exporter": "python",
   "pygments_lexer": "ipython3",
   "version": "3.10.13"
  }
 },
 "nbformat": 4,
 "nbformat_minor": 5
}
