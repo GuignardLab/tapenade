{
 "cells": [
  {
   "cell_type": "markdown",
   "id": "ed08f86b",
   "metadata": {},
   "source": [
    "# Registration Notebook"
   ]
  },
  {
   "cell_type": "code",
   "execution_count": 1,
   "id": "0d08deec",
   "metadata": {},
   "outputs": [
    {
     "name": "stderr",
     "output_type": "stream",
     "text": [
      "c:\\Users\\gros\\Anaconda3\\envs\\organoid-env\\lib\\site-packages\\IO\\IO.py:26: UserWarning: KLB library is not installed\n",
      "  warnings.warn(\"KLB library is not installed\")\n"
     ]
    },
    {
     "name": "stdout",
     "output_type": "stream",
     "text": [
      "pyklb library not found, klb files will not be generated\n"
     ]
    }
   ],
   "source": [
    "from organoid import preprocessing\n",
    "from organoid import reconstruction\n",
    "import numpy as np\n",
    "import tifffile\n",
    "from pathlib import Path\n",
    "from glob import glob"
   ]
  },
  {
   "cell_type": "code",
   "execution_count": null,
   "id": "b26eb220",
   "metadata": {},
   "outputs": [],
   "source": [
    "folder = r'Z:\\EqpLenne2\\SHARED\\Wave_project\\2nd_Big_Wave\\Big_experiment_wave\\Hoechst_FoxA2_Oct4_Bra\\72_5h\\Hoechts_FoxA2_Oct4_Bra_72_5h_big_bottom\\tifs\\filt'\n",
    "im=tifffile.imread(rf'{folder}\\5_filt.tif')\n",
    "print(im.min(),im.max(),im.mean())"
   ]
  },
  {
   "cell_type": "code",
   "execution_count": null,
   "id": "76f0652f",
   "metadata": {},
   "outputs": [],
   "source": [
    "folder_data_in = rf\"C:\\Users\\gros\\Desktop\\DATA\\Valentin\\Dapi_Ecad_Bra_Sox2_72_5h_re_big_bottom\\notnorm\"\n",
    "folder_data_out = rf'C:\\Users\\gros\\Desktop\\DATA\\Valentin\\Dapi_Ecad_Bra_Sox2_72_5h_re_big_bottom'\n",
    "samples = []\n",
    "paths = sorted(glob(rf'{folder_data_in}/*.tif'))\n",
    "\n",
    "for path in paths :\n",
    "    samples.append(Path(path).stem)\n",
    "\n",
    "for sample in samples:\n",
    "    image = tifffile.imread(rf'{folder_data_in}/{sample}.tif',dtype=np.float16)\n",
    "    print(image.shape)\n",
    "    new_image=np.zeros_like(image,dtype=np.float16)    \n",
    "    new_image = (image-image.min())/(image.max()-image.min())*10000\n",
    "    tifffile.imwrite(rf'{folder_data_out}/{sample}.tif', new_image)\n"
   ]
  },
  {
   "cell_type": "markdown",
   "id": "c96a28c3",
   "metadata": {},
   "source": [
    "If necessary, you can plot here the positions of all samples (from the metadata), to match the two sides"
   ]
  },
  {
   "cell_type": "code",
   "execution_count": 20,
   "id": "1795d17c",
   "metadata": {},
   "outputs": [
    {
     "name": "stdout",
     "output_type": "stream",
     "text": [
      "[1, 2, 3, 4, 5, 6, 7, 8, 9, 10, 11] [1, 2, 4, 3, 5, 6, 7, 8, 9, 10, 11]\n"
     ]
    },
    {
     "data": {
      "image/png": "[encoded data removed]",
      "text/plain": [
       "<Figure size 640x480 with 1 Axes>"
      ]
     },
     "metadata": {},
     "output_type": "display_data"
    }
   ],
   "source": [
    "path = rf'Z:\\EqpLenne2\\SHARED\\Wave_project\\2nd_Big_Wave\\Big_experiment_wave\\Hoechst_FoxA2_Oct4_Bra\\72_5h'\n",
    "path_bottom_positions=rf'{path}\\multipoints_bottom.xml'\n",
    "path_top_positions=rf'{path}\\multipoints_top.xml'\n",
    "\n",
    "\n",
    "reconstruction.plot_positions(path_bottom_positions=path_bottom_positions,path_top_positions=path_top_positions)\n",
    "list_bottom,list_top=reconstruction.associate_top_bottom(\n",
    "      path_bottom_positions=path_bottom_positions,\n",
    "    path_top_positions=path_top_positions\n",
    ")\n",
    "print(list_bottom,list_top)"
   ]
  },
  {
   "cell_type": "markdown",
   "id": "a07b1262",
   "metadata": {},
   "source": [
    "Give the path to your data and name of images"
   ]
  },
  {
   "cell_type": "code",
   "execution_count": 21,
   "id": "5e4473c2",
   "metadata": {},
   "outputs": [
    {
     "name": "stdout",
     "output_type": "stream",
     "text": [
      "['4_bottom', '5_bottom']\n",
      "['3_top', '5_top']\n"
     ]
    }
   ],
   "source": [
    "#if you did not use the function associate_top_bottom, you can define the list_ref and list_float manually,\n",
    "#for example if you have one sample and 2 views : list_ref=['view1'] and list_float=['view2']\n",
    "#or with 2 samples and 2 views : list_ref=['01','02'] and list_float=['03','04'] with the right names of your images.\n",
    "\n",
    "#Below we generate automatically the list_ref and list_float from the number paired above, bottom with top\n",
    "#You can tune the names below : if the samples are named 01_view1, 01_view2, 02_view1, 02_view2, then\n",
    "#list_ref = [\"{:02d}_view1.format(i) for i in list_bottom]\n",
    "#list_float = [\"{:02d}_view2.format(i) for i in list_bottom]\n",
    "\n",
    "# list_ref = [\"{:02d}_filt_b\".format(i) for i in list_bottom]\n",
    "# list_float = [\"{:02d}_filt_t\".format(i) for i in list_top]\n",
    "list_ref=['4_bottom','5_bottom']\n",
    "list_float=['3_top','5_top']\n",
    "print(list_ref)\n",
    "print(list_float)\n",
    "channels = [\n",
    "\"dapi\",\n",
    "'foxa2',\n",
    "'oct4',\n",
    "'bra'\n",
    "]  # example of channels. If you have only one channel, just put one element in the list\n"
   ]
  },
  {
   "cell_type": "markdown",
   "id": "b88b5bdb",
   "metadata": {},
   "source": [
    "Create the folder structure necessary for the registration. All files, reference and float, need to be in the same folder, folder_experiment."
   ]
  },
  {
   "cell_type": "code",
   "execution_count": 25,
   "id": "575de57e",
   "metadata": {},
   "outputs": [],
   "source": [
    "reconstruction.create_folders(\n",
    "    folder_experiment= rf'C:\\Users\\gros\\Desktop\\DATA\\Valentin\\Hoechst_FoxA2_Oct4_Bra_78h\\small',\n",
    "    list_ref=list_ref, list_float=list_float, channels=channels\n",
    ")"
   ]
  },
  {
   "cell_type": "markdown",
   "id": "b44eaa2b",
   "metadata": {},
   "source": [
    "Register automatically\n",
    "\n",
    "To register your floating image onto the reference one, you should have an idea of the transformation to apply.  From this approximative initial transformation, the algorithm will find the exact transformation to match the 2 sides.\n",
    "\n",
    "If your image has multiple channels, one will be the reference one, registered first. The second part of the code executes the registration for the other channels, using the same transformation as computed for the reference."
   ]
  },
  {
   "cell_type": "code",
   "execution_count": 43,
   "id": "5f5c2e08",
   "metadata": {},
   "outputs": [
    {
     "name": "stdout",
     "output_type": "stream",
     "text": [
      "data {'rot_z': 0, 'rot_y': 0, 'rot_x': -180, 'trans_z': 74, 'trans_y': 34, 'trans_x': 0}\n",
      "here\n",
      "{'path_to_data': 'C:\\\\Users\\\\gros\\\\Desktop\\\\DATA\\\\Valentin\\\\Hoechst_FoxA2_Oct4_Bra_78h\\\\small\\\\5_bottom\\\\raw', 'ref_im': '5_bottom_dapi.tif', 'flo_ims': ['5_top_dapi.tif'], 'compute_trsf': 1, 'init_trsfs': [['trans', 'X', 0, 'trans', 'Y', 0, 'trans', 'Z', 0, 'rot', 'X', 180, 'rot', 'Y', 0, 'rot', 'Z', 0, 'trans', 'X', 0, 'trans', 'Y', -34, 'trans', 'Z', -74]], 'trsf_paths': ['C:\\\\Users\\\\gros\\\\Desktop\\\\DATA\\\\Valentin\\\\Hoechst_FoxA2_Oct4_Bra_78h\\\\small\\\\5_bottom\\\\trsf'], 'trsf_types': ['rigid'], 'ref_voxel': [0.6, 0.6, 1], 'flo_voxels': [[0.6, 0.6, 1]], 'out_voxel': [0.6, 0.6, 1], 'test_init': 0, 'apply_trsf': 1, 'out_pattern': 'C:\\\\Users\\\\gros\\\\Desktop\\\\DATA\\\\Valentin\\\\Hoechst_FoxA2_Oct4_Bra_78h\\\\small\\\\5_bottom\\\\registered', 'begin': 1, 'end': 1, 'bbox_out': 1, 'image_interpolation': 'linear', 'padding': 0, 'registration_depth': 3, 'ordered_init_trsfs': True}\n",
      "Starting experiment\n",
      "The registration will run with the following arguments:\n",
      "\n",
      " File format \n",
      "path_to_data             : C:\\Users\\gros\\Desktop\\DATA\\Valentin\\Hoechst_FoxA2_Oct4_Bra_78h\\small\\5_bottom\\raw\n",
      "ref_im                   : 5_bottom_dapi.tif\n",
      "flo_ims                  : 5_top_dapi.tif\n",
      "init_trsfs               : ['trans', 'X', 0, 'trans', 'Y', 0, 'trans', 'Z', 0, 'rot', 'X', 180, 'rot', 'Y', 0, 'rot', 'Z', 0, 'trans', 'X', 0, 'trans', 'Y', -34, 'trans', 'Z', -74]\n",
      "trsf_types               : rigid\n",
      "ref_voxel                : 0.600000 x 0.600000 x 1.000000\n",
      "flo_voxels               : 0.600000 x 0.600000 x 1.000000\n",
      "out_voxel                : 0.600000 x 0.600000 x 1.000000\n",
      "out_pattern              : C:\\Users\\gros\\Desktop\\DATA\\Valentin\\Hoechst_FoxA2_Oct4_Bra_78h\\small\\5_bottom\\registered\n",
      "\n",
      "{'XResolution': 0.6, 'YResolution': 0.6, 'spacing': 1}\n",
      "there\n",
      "{'path_to_data': 'C:\\\\Users\\\\gros\\\\Desktop\\\\DATA\\\\Valentin\\\\Hoechst_FoxA2_Oct4_Bra_78h\\\\small\\\\5_bottom\\\\raw', 'ref_im': '5_bottom_foxa2.tif', 'flo_ims': ['5_top_foxa2.tif'], 'compute_trsf': 0, 'init_trsfs': [['trans', 'X', 0, 'trans', 'Y', 0, 'trans', 'Z', 0, 'rot', 'X', 0, 'rot', 'Y', 0, 'rot', 'Z', 0, 'trans', 'X', 0, 'trans', 'Y', 0, 'trans', 'Z', 0]], 'trsf_paths': ['C:\\\\Users\\\\gros\\\\Desktop\\\\DATA\\\\Valentin\\\\Hoechst_FoxA2_Oct4_Bra_78h\\\\small\\\\5_bottom\\\\trsf'], 'trsf_types': ['rigid'], 'ref_voxel': [0.6, 0.6, 1], 'flo_voxels': [[0.6, 0.6, 1]], 'out_voxel': [0.6, 0.6, 1], 'test_init': 0, 'apply_trsf': 1, 'out_pattern': 'C:\\\\Users\\\\gros\\\\Desktop\\\\DATA\\\\Valentin\\\\Hoechst_FoxA2_Oct4_Bra_78h\\\\small\\\\5_bottom\\\\registered', 'begin': 1, 'end': 1, 'bbox_out': 1, 'image_interpolation': 'linear', 'padding': 0, 'registration_depth': 3, 'ordered_init_trsfs': True}\n",
      "Starting experiment\n",
      "The registration will run with the following arguments:\n",
      "\n",
      " File format \n",
      "path_to_data             : C:\\Users\\gros\\Desktop\\DATA\\Valentin\\Hoechst_FoxA2_Oct4_Bra_78h\\small\\5_bottom\\raw\n",
      "ref_im                   : 5_bottom_foxa2.tif\n",
      "flo_ims                  : 5_top_foxa2.tif\n",
      "init_trsfs               : ['trans', 'X', 0, 'trans', 'Y', 0, 'trans', 'Z', 0, 'rot', 'X', 0, 'rot', 'Y', 0, 'rot', 'Z', 0, 'trans', 'X', 0, 'trans', 'Y', 0, 'trans', 'Z', 0]\n",
      "trsf_types               : rigid\n",
      "ref_voxel                : 0.600000 x 0.600000 x 1.000000\n",
      "flo_voxels               : 0.600000 x 0.600000 x 1.000000\n",
      "out_voxel                : 0.600000 x 0.600000 x 1.000000\n",
      "out_pattern              : C:\\Users\\gros\\Desktop\\DATA\\Valentin\\Hoechst_FoxA2_Oct4_Bra_78h\\small\\5_bottom\\registered\n",
      "\n"
     ]
    },
    {
     "name": "stderr",
     "output_type": "stream",
     "text": [
      "c:\\Users\\gros\\Anaconda3\\envs\\organoid-env\\lib\\site-packages\\registrationtools\\spatial_registration.py:169: UserWarning: Testing initial transformations cannot be done when `compute_trsf` is False/0. It will not be done then\n",
      "  warnings.warn(\n"
     ]
    },
    {
     "name": "stdout",
     "output_type": "stream",
     "text": [
      "{'XResolution': 0.6, 'YResolution': 0.6, 'spacing': 1}\n",
      "there\n",
      "{'path_to_data': 'C:\\\\Users\\\\gros\\\\Desktop\\\\DATA\\\\Valentin\\\\Hoechst_FoxA2_Oct4_Bra_78h\\\\small\\\\5_bottom\\\\raw', 'ref_im': '5_bottom_oct4.tif', 'flo_ims': ['5_top_oct4.tif'], 'compute_trsf': 0, 'init_trsfs': [['trans', 'X', 0, 'trans', 'Y', 0, 'trans', 'Z', 0, 'rot', 'X', 0, 'rot', 'Y', 0, 'rot', 'Z', 0, 'trans', 'X', 0, 'trans', 'Y', 0, 'trans', 'Z', 0]], 'trsf_paths': ['C:\\\\Users\\\\gros\\\\Desktop\\\\DATA\\\\Valentin\\\\Hoechst_FoxA2_Oct4_Bra_78h\\\\small\\\\5_bottom\\\\trsf'], 'trsf_types': ['rigid'], 'ref_voxel': [0.6, 0.6, 1], 'flo_voxels': [[0.6, 0.6, 1]], 'out_voxel': [0.6, 0.6, 1], 'test_init': 0, 'apply_trsf': 1, 'out_pattern': 'C:\\\\Users\\\\gros\\\\Desktop\\\\DATA\\\\Valentin\\\\Hoechst_FoxA2_Oct4_Bra_78h\\\\small\\\\5_bottom\\\\registered', 'begin': 1, 'end': 1, 'bbox_out': 1, 'image_interpolation': 'linear', 'padding': 0, 'registration_depth': 3, 'ordered_init_trsfs': True}\n",
      "Starting experiment\n",
      "The registration will run with the following arguments:\n",
      "\n",
      " File format \n",
      "path_to_data             : C:\\Users\\gros\\Desktop\\DATA\\Valentin\\Hoechst_FoxA2_Oct4_Bra_78h\\small\\5_bottom\\raw\n",
      "ref_im                   : 5_bottom_oct4.tif\n",
      "flo_ims                  : 5_top_oct4.tif\n",
      "init_trsfs               : ['trans', 'X', 0, 'trans', 'Y', 0, 'trans', 'Z', 0, 'rot', 'X', 0, 'rot', 'Y', 0, 'rot', 'Z', 0, 'trans', 'X', 0, 'trans', 'Y', 0, 'trans', 'Z', 0]\n",
      "trsf_types               : rigid\n",
      "ref_voxel                : 0.600000 x 0.600000 x 1.000000\n",
      "flo_voxels               : 0.600000 x 0.600000 x 1.000000\n",
      "out_voxel                : 0.600000 x 0.600000 x 1.000000\n",
      "out_pattern              : C:\\Users\\gros\\Desktop\\DATA\\Valentin\\Hoechst_FoxA2_Oct4_Bra_78h\\small\\5_bottom\\registered\n",
      "\n",
      "{'XResolution': 0.6, 'YResolution': 0.6, 'spacing': 1}\n",
      "there\n",
      "{'path_to_data': 'C:\\\\Users\\\\gros\\\\Desktop\\\\DATA\\\\Valentin\\\\Hoechst_FoxA2_Oct4_Bra_78h\\\\small\\\\5_bottom\\\\raw', 'ref_im': '5_bottom_bra.tif', 'flo_ims': ['5_top_bra.tif'], 'compute_trsf': 0, 'init_trsfs': [['trans', 'X', 0, 'trans', 'Y', 0, 'trans', 'Z', 0, 'rot', 'X', 0, 'rot', 'Y', 0, 'rot', 'Z', 0, 'trans', 'X', 0, 'trans', 'Y', 0, 'trans', 'Z', 0]], 'trsf_paths': ['C:\\\\Users\\\\gros\\\\Desktop\\\\DATA\\\\Valentin\\\\Hoechst_FoxA2_Oct4_Bra_78h\\\\small\\\\5_bottom\\\\trsf'], 'trsf_types': ['rigid'], 'ref_voxel': [0.6, 0.6, 1], 'flo_voxels': [[0.6, 0.6, 1]], 'out_voxel': [0.6, 0.6, 1], 'test_init': 0, 'apply_trsf': 1, 'out_pattern': 'C:\\\\Users\\\\gros\\\\Desktop\\\\DATA\\\\Valentin\\\\Hoechst_FoxA2_Oct4_Bra_78h\\\\small\\\\5_bottom\\\\registered', 'begin': 1, 'end': 1, 'bbox_out': 1, 'image_interpolation': 'linear', 'padding': 0, 'registration_depth': 3, 'ordered_init_trsfs': True}\n",
      "Starting experiment\n",
      "The registration will run with the following arguments:\n",
      "\n",
      " File format \n",
      "path_to_data             : C:\\Users\\gros\\Desktop\\DATA\\Valentin\\Hoechst_FoxA2_Oct4_Bra_78h\\small\\5_bottom\\raw\n",
      "ref_im                   : 5_bottom_bra.tif\n",
      "flo_ims                  : 5_top_bra.tif\n",
      "init_trsfs               : ['trans', 'X', 0, 'trans', 'Y', 0, 'trans', 'Z', 0, 'rot', 'X', 0, 'rot', 'Y', 0, 'rot', 'Z', 0, 'trans', 'X', 0, 'trans', 'Y', 0, 'trans', 'Z', 0]\n",
      "trsf_types               : rigid\n",
      "ref_voxel                : 0.600000 x 0.600000 x 1.000000\n",
      "flo_voxels               : 0.600000 x 0.600000 x 1.000000\n",
      "out_voxel                : 0.600000 x 0.600000 x 1.000000\n",
      "out_pattern              : C:\\Users\\gros\\Desktop\\DATA\\Valentin\\Hoechst_FoxA2_Oct4_Bra_78h\\small\\5_bottom\\registered\n",
      "\n",
      "{'XResolution': 0.6, 'YResolution': 0.6, 'spacing': 1}\n"
     ]
    }
   ],
   "source": [
    "# from now on, we consider only one sample. If you have multiple samples, you can loop : list_ref[i]\n",
    "path= rf'C:\\Users\\gros\\Desktop\\DATA\\Valentin\\Hoechst_FoxA2_Oct4_Bra_78h\\small'\n",
    "for i in [1] :\n",
    "    filename_ref = list_ref[i]\n",
    "    filename_float = list_float[i]\n",
    "    input_voxel = [0.6,0.6,1]\n",
    "    output_voxel = [0.6,0.6,1]\n",
    "    channel_reference = \"dapi\"\n",
    "\n",
    "    # rot=[0,0,180]\n",
    "    # trans2= [91,17,15]\n",
    "    # other_trsf = [0, 0, 0]\n",
    "    # trans2=[15,-20,-10]\n",
    "    reconstruction.register(\n",
    "        path_data=Path(path) / filename_ref / \"raw\",\n",
    "        path_transformation=Path(path) / filename_ref / \"trsf\",\n",
    "        path_registered_data=Path(path) / filename_ref / \"registered\",\n",
    "        reference_image=f\"{filename_ref}_{channel_reference}.tif\",\n",
    "        floating_image=f\"{filename_float}_{channel_reference}.tif\",\n",
    "        input_voxel=input_voxel,\n",
    "        output_voxel=output_voxel,\n",
    "        compute_trsf=1,\n",
    "        # example of transformation if the sample has been flipped between the 2 views.\n",
    "        # trans1 is a translation before the rotation, trans2 is a translation after the rotation.\n",
    "        # trans1=trans1,  # XYZ\n",
    "        rot=rot,\n",
    "        # trans2=trans2,\n",
    "        test_init=0,\n",
    "        # other_trsf=trsf,\n",
    "        input_init_trsf_from_plugin=rf'C:\\Users\\gros\\Desktop\\DATA\\Valentin\\Hoechst_FoxA2_Oct4_Bra_78h\\small\\initial_transformation.json',\n",
    "        trsf_type=\"rigid\",\n",
    "        depth=3,\n",
    "        bbox=1,\n",
    "        # save_json=Path(path) / filename_ref,\n",
    "    )\n",
    "\n",
    "\n",
    "    # channel = 'bra'\n",
    "    # image = tifffile.imread(Path(path) / f\"{filename_ref}\" / 'registered' / f\"{filename_float}_{channel}.tif\" )\n",
    "    # scale = (1,0.6,0.6)\n",
    "    # reconstruction.check_napari(\n",
    "    #     folder=Path(path) / f\"{filename_ref}\",\n",
    "    #     reference_image=f\"{filename_ref}_{channel}.tif\",\n",
    "    #     floating_image=f\"{filename_float}_{channel}.tif\",\n",
    "    #     scale=scale,\n",
    "    # )\n",
    "\n",
    "\n",
    "# # # # # # # registering other channel using the transformation computed above\n",
    "# for channel in ['dapi','oct4','foxa2'] :\n",
    "\n",
    "for channel in channels[\n",
    "    1:\n",
    "]:  # (we skip the reference channel that we assumed is the first)\n",
    "# # # #     print(channel)\n",
    "    reconstruction.register(\n",
    "        path_data=Path(path) / filename_ref / \"raw\",\n",
    "        path_transformation=Path(path) / filename_ref / \"trsf\",\n",
    "        path_registered_data=Path(path) / filename_ref / \"registered\",\n",
    "        reference_image=f\"{filename_ref}_{channel}.tif\",\n",
    "        floating_image=f\"{filename_float}_{channel}.tif\",\n",
    "        input_voxel=input_voxel,\n",
    "        output_voxel=output_voxel,\n",
    "        compute_trsf=0,\n",
    "        trsf_type=\"rigid\",\n",
    "    )"
   ]
  },
  {
   "cell_type": "markdown",
   "id": "753a47ef",
   "metadata": {},
   "source": [
    "Napari visualization (you need to have napari installed)"
   ]
  },
  {
   "cell_type": "code",
   "execution_count": 44,
   "id": "5948e87d",
   "metadata": {},
   "outputs": [],
   "source": [
    "# filename_ref = list_ref[0]\n",
    "# filename_float = list_float[0]\n",
    "channel = 'dapi'\n",
    "image = tifffile.imread(Path(path) / f\"{filename_ref}\" / 'registered' / f\"{filename_float}_{channel}.tif\" )\n",
    "scale = (1,1,1)\n",
    "reconstruction.check_napari(\n",
    "    folder=Path(path) / f\"{filename_ref}\",\n",
    "    reference_image=f\"{filename_ref}_{channel}.tif\",\n",
    "    floating_image=f\"{filename_float}_{channel}.tif\",\n",
    "    scale=scale,\n",
    "    \n",
    ")"
   ]
  },
  {
   "cell_type": "markdown",
   "id": "9d0d890c",
   "metadata": {},
   "source": [
    "Fuse the 2 registered sides into one array"
   ]
  },
  {
   "cell_type": "code",
   "execution_count": 39,
   "id": "3be6e9dd",
   "metadata": {},
   "outputs": [],
   "source": [
    "for ch in channels:\n",
    "    image = reconstruction.fuse_sides(\n",
    "        path_registered_data=Path(path) / filename_ref / \"registered\",\n",
    "        reference_image_reg=f\"{filename_ref}_{ch}.tif\",\n",
    "        floating_image_reg=f\"{filename_float}_{ch}.tif\",\n",
    "        folder_output=Path(path) / filename_ref / \"fused\",\n",
    "        name_output=rf\"fuseddata2_{ch}.tif\",\n",
    "        slope_coeff=15,  # slope of the weight profile : 5 corresponds to a low slope, wide fusion width and 25 to a strong slope, very thin fusion width.\n",
    "    )"
   ]
  },
  {
   "cell_type": "markdown",
   "id": "6813afe5",
   "metadata": {},
   "source": [
    "Merge all the channels in one multichannel image"
   ]
  },
  {
   "cell_type": "code",
   "execution_count": 40,
   "id": "b99d45d6",
   "metadata": {},
   "outputs": [],
   "source": [
    "# the images should be named 'sampleid_channel.tif', eg 'fuseddata_dapi.tif', this depends on the argument \"name_output\" above.\n",
    "reconstruction.write_hyperstacks(\n",
    "    path=Path(path) / filename_ref / \"fused\",\n",
    "    sample_id=\"fuseddata2\",\n",
    "    channels=channels,\n",
    ")"
   ]
  },
  {
   "cell_type": "markdown",
   "id": "889bc65d",
   "metadata": {},
   "source": [
    "Optional : Registration using landmarks\n",
    "\n",
    "If the automatic registration is not satisfying, one option is to give more precise initial transformations to the algorithm.\n",
    "\n",
    "For that, you need to define landmarks, using for example the Napari plugin. One landmark is a feature that you recognize in both the reference image and the floating image, that you will need to pinpoint with a marker of given label, this label has to be an integer that has the same value in both image.\n",
    "\n",
    "Once you have at least 3 annotated landmarks (=3 labels in each image), give these landmarks to the manual_registration function, that will compute the transformation necessary to align them, and give this transformation as a starting point to the algorithm.\n"
   ]
  },
  {
   "cell_type": "code",
   "execution_count": null,
   "id": "caa40381",
   "metadata": {},
   "outputs": [],
   "source": [
    "filename_ref = list_ref[0]\n",
    "filename_float = list_float[0]\n",
    "scale = (1, 1, 1)\n",
    "path_to_landmarks = rf'C:\\Users\\gros\\Desktop\\DATA\\96h\\STD_ES_40X\\{filename_ref}'\n",
    "reference_landmarks = tifffile.imread(\n",
    "    Path(path_to_landmarks) / f\"reference_landmarks.tif\"\n",
    ")\n",
    "floating_landmarks = tifffile.imread(\n",
    "    Path(path_to_landmarks) / f\"floating_landmarks.tif\"\n",
    ")\n",
    "reference_landmarks = reference_landmarks.astype(np.uint16)\n",
    "floating_landmarks = floating_landmarks.astype(np.uint16)\n",
    "channel = \"dapi\"\n",
    "\n",
    "rot, trans1, trans2 = reconstruction.manual_registration_fct(\n",
    "    reference_landmarks=reference_landmarks,\n",
    "    floating_landmarks=floating_landmarks,\n",
    "    scale=(1, 1, 1),\n",
    ")\n",
    "\n",
    "rot=[rot[2],rot[1],rot[0]]\n",
    "\n",
    "reconstruction.register(\n",
    "    path_data=Path(path) / filename_ref / \"raw\",\n",
    "    path_transformation=Path(path) / filename_ref / \"trsf\",\n",
    "    path_registered_data=Path(path) / filename_ref / \"registered\",\n",
    "    path_to_bin=path_to_bin,\n",
    "    reference_image=f\"{filename_ref}_{channel}.tif\",\n",
    "    floating_image=f\"{filename_float}_{channel}.tif\",\n",
    "    input_voxel=[\n",
    "        1,\n",
    "        1,\n",
    "        1,\n",
    "    ],  # if you use landmarks, better use the same voxel size in and out\n",
    "    output_voxel=[1, 1, 1],\n",
    "    compute_trsf=1,\n",
    "    rot=rot,\n",
    "    trans1=trans1,\n",
    "    trans2=trans2,\n",
    "    test_init=0,\n",
    "    trsf_type=\"rigid\",\n",
    "    depth=3,\n",
    "    bbox=1,\n",
    "    save_json=\"\",\n",
    ")"
   ]
  },
  {
   "cell_type": "code",
   "execution_count": null,
   "id": "66a20cb1",
   "metadata": {},
   "outputs": [],
   "source": [
    "path_to_initial_transformation = rf'C:\\Users\\gros\\Desktop\\DATA\\Valentin\\Dapi_Ecad_bra_sox2_725h_re_big_newintensity\\initial_transformation.json'\n",
    "path = rf'C:\\Users\\gros\\Desktop\\DATA\\Valentin\\Dapi_Ecad_bra_sox2_725h_re_big_newintensity'\n",
    "rotation, translation = reconstruction.transformation_from_plugin(path_to_initial_transformation)\n",
    "print('rotation :',rotation, '\\n translation :',translation)\n",
    "reconstruction.register(\n",
    "    path_data=Path(path) / filename_ref / \"raw\",\n",
    "    path_transformation=Path(path) / filename_ref / \"trsf\",\n",
    "    path_registered_data=Path(path) / filename_ref / \"registered\",\n",
    "    reference_image=f\"{filename_ref}_{channels[0]}.tif\",\n",
    "    floating_image=f\"{filename_float}_{channels[0]}.tif\",\n",
    "    input_voxel=[\n",
    "        1,\n",
    "        1,\n",
    "        1,\n",
    "    ],  # if you use landmarks, better use the same voxel size in and out\n",
    "    output_voxel=[1, 1, 1],\n",
    "    compute_trsf=1,\n",
    "    rot=rotation,\n",
    "    trans2=translation,\n",
    "    test_init=0,\n",
    "    trsf_type=\"rigid\",\n",
    "    depth=3,\n",
    "    bbox=0,\n",
    "    save_json=\"\",\n",
    ")\n"
   ]
  },
  {
   "cell_type": "markdown",
   "id": "ec8831d7",
   "metadata": {},
   "source": [
    "Debug : register the landmarks images and plot the result to see if the transformation is correct"
   ]
  },
  {
   "cell_type": "code",
   "execution_count": null,
   "id": "89b98bbe",
   "metadata": {},
   "outputs": [],
   "source": [
    "path_to_landmarks = path\n",
    "path_to_bin = rf'C:\\Users\\gros\\Anaconda3\\envs\\organoid-env\\Library\\bin'\n",
    "reference_landmarks = tifffile.imread(\n",
    "    Path(path_to_landmarks) / filename_ref/ f\"raw/reference_landmarks.tif\"\n",
    ")\n",
    "floating_landmarks = tifffile.imread(\n",
    "    Path(path_to_landmarks) / filename_ref / f\"raw/floating_landmarks.tif\"\n",
    ")\n",
    "\n",
    "reference_landmarks = reference_landmarks.astype(np.uint16)\n",
    "floating_landmarks = floating_landmarks.astype(np.uint16)\n",
    "print(np.unique(reference_landmarks),np.shape(reference_landmarks))\n",
    "print(np.unique(floating_landmarks),np.shape(floating_landmarks))\n",
    "tifffile.imwrite(Path(path_to_landmarks) / filename_ref / f\"raw/floating_landmarks.tif\", floating_landmarks)\n",
    "tifffile.imwrite(Path(path_to_landmarks) / filename_ref / f\"raw/reference_landmarks.tif\", reference_landmarks)\n",
    "channel = \"dapi\"\n",
    "\n",
    "rot, trans1, trans2 = reconstruction.manual_registration_fct(\n",
    "    reference_landmarks=reference_landmarks,\n",
    "    floating_landmarks=floating_landmarks,\n",
    "    scale=(1, 1, 1),\n",
    ")\n",
    "# trans2=[0,0,0]\n",
    "rot=[rot[2],rot[1],rot[0]]\n",
    "reconstruction.register(\n",
    "    path_data=Path(path_to_landmarks) / filename_ref / \"raw\",\n",
    "    path_transformation=Path(path_to_landmarks) / filename_ref / \"trsf\",\n",
    "    path_registered_data=Path(path_to_landmarks) / filename_ref / \"registered\",\n",
    "    path_to_bin=path_to_bin,\n",
    "    reference_image=f\"reference_landmarks.tif\",  # they have to be in 16bit to be registered\n",
    "    floating_image=f\"floating_landmarks.tif\",\n",
    "    input_voxel=[1, 1, 1],\n",
    "    output_voxel=[1, 1, 1],\n",
    "    compute_trsf=1,\n",
    "    trans1=trans1,\n",
    "    trans2=trans2,\n",
    "    rot=rot,\n",
    "    test_init=1,  # keep test_init=1 to see only the provided tranformation\n",
    "    trsf_type=\"rigid\",\n",
    "    depth=3,\n",
    "    save_json=Path(path_to_landmarks) / filename_ref,\n",
    ")\n",
    "print(trans1,rot,trans2)\n",
    "# loading the output and add articially the center of mass of the points, to see how well they align\n",
    "\n",
    "reference_landmarks = tifffile.imread(\n",
    "    Path(path_to_landmarks) / filename_ref / f\"raw/reference_landmarks.tif\"\n",
    ")\n",
    "floating_landmarks = tifffile.imread(\n",
    "    Path(path_to_landmarks) / filename_ref /f\"registered/floating_landmarks.tif\"\n",
    ")\n",
    "reference_landmarks = reconstruction.add_centermass(reference_landmarks)\n",
    "floating_landmarks = reconstruction.add_centermass(floating_landmarks)\n",
    "\n",
    "# loading the raw landmarks, before the registration\n",
    "reference_landmarks_notreg = tifffile.imread(\n",
    "    Path(path_to_landmarks) / filename_ref / f\"raw/reference_landmarks.tif\"\n",
    ")\n",
    "floating_landmarks_notreg = tifffile.imread(\n",
    "    Path(path_to_landmarks) / filename_ref /f\"raw/floating_landmarks.tif\"\n",
    ")\n",
    "reference_landmarks_notreg = reconstruction.add_centermass(\n",
    "    reference_landmarks_notreg\n",
    ")\n",
    "floating_landmarks_notreg = reconstruction.add_centermass(\n",
    "    floating_landmarks_notreg\n",
    ")\n",
    "\n",
    "# plotting the center of the image\n",
    "image_center = np.zeros_like(reference_landmarks)\n",
    "z, y, x = np.array(reference_landmarks.shape) / 2\n",
    "image_center[\n",
    "    int(z) - 10 : int(z) + 10,\n",
    "    int(y) - 10 : int(y) + 10,\n",
    "    int(x) - 10 : int(x) + 10,\n",
    "] = 100\n",
    "\n",
    "reconstruction.check_napari(\n",
    "    path_data=rf\"{path}\\{filename_ref}\",\n",
    "    reference_image=reference_landmarks,\n",
    "    floating_image=floating_landmarks,\n",
    "    additional_images=[\n",
    "        reference_landmarks_notreg,\n",
    "        floating_landmarks_notreg,\n",
    "        image_center,\n",
    "    ],\n",
    "    names_additional_images=[\n",
    "        \"reference_landmarks_notreg\",\n",
    "        \"floating_landmarks_notreg\",\n",
    "        \"image_center\",\n",
    "    ],\n",
    "    scale=scale,\n",
    "    labels=True,\n",
    ")"
   ]
  },
  {
   "cell_type": "code",
   "execution_count": null,
   "id": "677d7bbd",
   "metadata": {},
   "outputs": [],
   "source": []
  }
 ],
 "metadata": {
  "kernelspec": {
   "display_name": "Python 3 (ipykernel)",
   "language": "python",
   "name": "python3"
  },
  "language_info": {
   "codemirror_mode": {
    "name": "ipython",
    "version": 3
   },
   "file_extension": ".py",
   "mimetype": "text/x-python",
   "name": "python",
   "nbconvert_exporter": "python",
   "pygments_lexer": "ipython3",
   "version": "3.10.13"
  }
 },
 "nbformat": 4,
 "nbformat_minor": 5
}
