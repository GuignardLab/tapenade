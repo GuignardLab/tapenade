{
 "cells": [
  {
   "cell_type": "markdown",
   "id": "ed08f86b",
   "metadata": {},
   "source": [
    "# Registration Notebook"
   ]
  },
  {
   "cell_type": "code",
   "execution_count": 8,
   "id": "0d08deec",
   "metadata": {},
   "outputs": [],
   "source": [
    "from organoid import preprocessing\n",
    "from organoid import reconstruction\n",
    "import numpy as np\n",
    "import tifffile\n",
    "from pathlib import Path\n",
    "from glob import glob"
   ]
  },
  {
   "cell_type": "code",
   "execution_count": 12,
   "id": "b26eb220",
   "metadata": {},
   "outputs": [
    {
     "name": "stdout",
     "output_type": "stream",
     "text": [
      "0 11684 32.06402321638565\n"
     ]
    }
   ],
   "source": [
    "folder = r'Z:\\EqpLenne2\\SHARED\\Wave_project\\2nd_Big_Wave\\Big_experiment_wave\\Hoechst_FoxA2_Oct4_Bra\\72_5h\\Hoechts_FoxA2_Oct4_Bra_72_5h_big_bottom\\tifs\\filt'\n",
    "im=tifffile.imread(rf'{folder}\\5_filt.tif')\n",
    "print(im.min(),im.max(),im.mean())"
   ]
  },
  {
   "cell_type": "code",
   "execution_count": 2,
   "id": "76f0652f",
   "metadata": {},
   "outputs": [
    {
     "name": "stderr",
     "output_type": "stream",
     "text": [
      "C:\\Users\\gros\\AppData\\Local\\Temp\\ipykernel_18768\\2366475641.py:10: DeprecationWarning: <tifffile.imread> the dtype argument is deprecated since 2024.2.12. Use chunkdtype\n",
      "  image = tifffile.imread(rf'{folder_data_in}/{sample}.tif',dtype=np.float16)\n"
     ]
    },
    {
     "name": "stdout",
     "output_type": "stream",
     "text": [
      "(201, 4, 512, 512)\n",
      "(221, 4, 512, 512)\n",
      "(201, 4, 512, 512)\n",
      "(221, 4, 512, 512)\n",
      "(201, 4, 512, 512)\n",
      "(221, 4, 512, 512)\n"
     ]
    }
   ],
   "source": [
    "folder_data_in = rf\"C:\\Users\\gros\\Desktop\\DATA\\Valentin\\Dapi_Ecad_Bra_Sox2_72_5h_re_big_bottom\\notnorm\"\n",
    "folder_data_out = rf'C:\\Users\\gros\\Desktop\\DATA\\Valentin\\Dapi_Ecad_Bra_Sox2_72_5h_re_big_bottom'\n",
    "samples = []\n",
    "paths = sorted(glob(rf'{folder_data_in}/*.tif'))\n",
    "\n",
    "for path in paths :\n",
    "    samples.append(Path(path).stem)\n",
    "\n",
    "for sample in samples:\n",
    "    image = tifffile.imread(rf'{folder_data_in}/{sample}.tif',dtype=np.float16)\n",
    "    print(image.shape)\n",
    "    new_image=np.zeros_like(image,dtype=np.float16)    \n",
    "    new_image = (image-image.min())/(image.max()-image.min())*10000\n",
    "    tifffile.imwrite(rf'{folder_data_out}/{sample}.tif', new_image)\n"
   ]
  },
  {
   "cell_type": "markdown",
   "id": "c96a28c3",
   "metadata": {},
   "source": [
    "If necessary, you can plot here the positions of all samples (from the metadata), to match the two sides"
   ]
  },
  {
   "cell_type": "code",
   "execution_count": 2,
   "id": "1795d17c",
   "metadata": {},
   "outputs": [
    {
     "name": "stdout",
     "output_type": "stream",
     "text": [
      "[1, 2, 3, 4, 5] [1, 2, 4, 5, 3]\n"
     ]
    },
    {
     "data": {
      "image/png": "[encoded data removed]",
      "text/plain": [
       "<Figure size 640x480 with 1 Axes>"
      ]
     },
     "metadata": {},
     "output_type": "display_data"
    }
   ],
   "source": [
    "path = rf'Z:\\EqpLenne2\\SHARED\\Wave_project\\2nd_Big_Wave\\Big_experiment_wave\\Hoechst_FoxA2_Oct4_Bra\\72_5h'\n",
    "path_bottom_positions=rf'{path}\\multipoints_big_bottom.xml'\n",
    "path_top_positions=rf'{path}\\multipoints_big_top.xml'\n",
    "\n",
    "reconstruction.plot_positions(path_bottom_positions=path_bottom_positions,path_top_positions=path_top_positions)\n",
    "list_bottom,list_top=reconstruction.associate_top_bottom(\n",
    "      path_bottom_positions=path_bottom_positions,\n",
    "    path_top_positions=path_top_positions\n",
    ")\n",
    "print(list_bottom,list_top)"
   ]
  },
  {
   "cell_type": "markdown",
   "id": "a07b1262",
   "metadata": {},
   "source": [
    "Give the path to your data and name of images"
   ]
  },
  {
   "cell_type": "code",
   "execution_count": 13,
   "id": "5e4473c2",
   "metadata": {},
   "outputs": [
    {
     "name": "stdout",
     "output_type": "stream",
     "text": [
      "['5_bottom']\n",
      "['3_top']\n"
     ]
    }
   ],
   "source": [
    "list_bottom=[5]\n",
    "list_top=[3]\n",
    "list_ref = [\"{:01d}_bottom\".format(i) for i in list_bottom]\n",
    "list_float = [\"{:01d}_top\".format(i) for i in list_top]\n",
    "# list_ref = ['9_bottom','11_bottom','12_bottom']\n",
    "# list_float = ['12_top','9_top','6_top']\n",
    "print(list_ref)\n",
    "print(list_float)\n",
    "channels = [\n",
    "    \"dapi\",\n",
    "    \"foxa2\",\n",
    "    \"oct4\",\n",
    "    \"bra\"\n",
    "]  # example of channels. If you have only one channel, just put one element in the list"
   ]
  },
  {
   "cell_type": "markdown",
   "id": "b88b5bdb",
   "metadata": {},
   "source": [
    "Create the folder structure necessary for the registration"
   ]
  },
  {
   "cell_type": "code",
   "execution_count": 14,
   "id": "575de57e",
   "metadata": {},
   "outputs": [],
   "source": [
    "reconstruction.create_folders(\n",
    "    folder_experiment= rf'C:\\Users\\gros\\Desktop\\DATA\\Valentin\\Hoechts_FoxA2_Oct4_Bra_72_5h_big_bottom',\n",
    "    list_ref=list_ref, list_float=list_float, channels=channels\n",
    ")"
   ]
  },
  {
   "cell_type": "markdown",
   "id": "b44eaa2b",
   "metadata": {},
   "source": [
    "Register automatically\n",
    "\n",
    "To register your floating image onto the reference one, you should have an idea of the transformation to apply.  From this approximative initial transformation, the algorithm will find the exact transformation to match the 2 sides.\n",
    "\n",
    "If your image has multiple channels, one will be the reference one, registered first. The second part of the code executes the registration for the other channels, using the same transformation as computed for the reference."
   ]
  },
  {
   "cell_type": "code",
   "execution_count": 25,
   "id": "5f5c2e08",
   "metadata": {},
   "outputs": [
    {
     "name": "stdout",
     "output_type": "stream",
     "text": [
      "{'path_to_data': 'C:\\\\Users\\\\gros\\\\Desktop\\\\DATA\\\\Valentin\\\\Hoechts_FoxA2_Oct4_Bra_72_5h_big_bottom\\\\5_bottom\\\\raw', 'ref_im': '5_bottom_dapi.tif', 'flo_ims': ['3_top_dapi.tif'], 'compute_trsf': 1, 'init_trsfs': [['trans', 'X', 0, 'trans', 'Y', 0, 'trans', 'Z', 0, 'rot', 'X', 180, 'rot', 'Y', 0, 'rot', 'Z', 12, 'trans', 'X', 0, 'trans', 'Y', -10, 'trans', 'Z', -70]], 'trsf_paths': ['C:\\\\Users\\\\gros\\\\Desktop\\\\DATA\\\\Valentin\\\\Hoechts_FoxA2_Oct4_Bra_72_5h_big_bottom\\\\5_bottom\\\\trsf'], 'trsf_types': ['affine'], 'ref_voxel': [0.6, 0.6, 1], 'flo_voxels': [[0.6, 0.6, 1]], 'out_voxel': [0.6, 0.6, 1], 'test_init': 0, 'apply_trsf': 1, 'out_pattern': 'C:\\\\Users\\\\gros\\\\Desktop\\\\DATA\\\\Valentin\\\\Hoechts_FoxA2_Oct4_Bra_72_5h_big_bottom\\\\5_bottom\\\\registered', 'begin': 1, 'end': 1, 'bbox_out': 1, 'image_interpolation': 'linear', 'padding': 0, 'registration_depth': 3, 'ordered_init_trsfs': True}\n",
      "Starting experiment\n",
      "The registration will run with the following arguments:\n",
      "\n",
      " File format \n",
      "path_to_data             : C:\\Users\\gros\\Desktop\\DATA\\Valentin\\Hoechts_FoxA2_Oct4_Bra_72_5h_big_bottom\\5_bottom\\raw\n",
      "ref_im                   : 5_bottom_dapi.tif\n",
      "flo_ims                  : 3_top_dapi.tif\n",
      "init_trsfs               : ['trans', 'X', 0, 'trans', 'Y', 0, 'trans', 'Z', 0, 'rot', 'X', 180, 'rot', 'Y', 0, 'rot', 'Z', 12, 'trans', 'X', 0, 'trans', 'Y', -10, 'trans', 'Z', -70]\n",
      "trsf_types               : affine\n",
      "ref_voxel                : 0.600000 x 0.600000 x 1.000000\n",
      "flo_voxels               : 0.600000 x 0.600000 x 1.000000\n",
      "out_voxel                : 0.600000 x 0.600000 x 1.000000\n",
      "out_pattern              : C:\\Users\\gros\\Desktop\\DATA\\Valentin\\Hoechts_FoxA2_Oct4_Bra_72_5h_big_bottom\\5_bottom\\registered\n",
      "\n",
      "{'XResolution': 0.6, 'YResolution': 0.6, 'spacing': 1}\n",
      "foxa2\n",
      "{'path_to_data': 'C:\\\\Users\\\\gros\\\\Desktop\\\\DATA\\\\Valentin\\\\Hoechts_FoxA2_Oct4_Bra_72_5h_big_bottom\\\\5_bottom\\\\raw', 'ref_im': '5_bottom_foxa2.tif', 'flo_ims': ['3_top_foxa2.tif'], 'compute_trsf': 0, 'init_trsfs': [['trans', 'X', 0, 'trans', 'Y', 0, 'trans', 'Z', 0, 'rot', 'X', 0, 'rot', 'Y', 0, 'rot', 'Z', 0, 'trans', 'X', 0, 'trans', 'Y', 0, 'trans', 'Z', 0]], 'trsf_paths': ['C:\\\\Users\\\\gros\\\\Desktop\\\\DATA\\\\Valentin\\\\Hoechts_FoxA2_Oct4_Bra_72_5h_big_bottom\\\\5_bottom\\\\trsf'], 'trsf_types': ['affine'], 'ref_voxel': [0.6, 0.6, 1], 'flo_voxels': [[0.6, 0.6, 1]], 'out_voxel': [0.6, 0.6, 1], 'test_init': 0, 'apply_trsf': 1, 'out_pattern': 'C:\\\\Users\\\\gros\\\\Desktop\\\\DATA\\\\Valentin\\\\Hoechts_FoxA2_Oct4_Bra_72_5h_big_bottom\\\\5_bottom\\\\registered', 'begin': 1, 'end': 1, 'bbox_out': 1, 'image_interpolation': 'linear', 'padding': 0, 'registration_depth': 3, 'ordered_init_trsfs': True}\n",
      "Starting experiment\n",
      "The registration will run with the following arguments:\n",
      "\n",
      " File format \n",
      "path_to_data             : C:\\Users\\gros\\Desktop\\DATA\\Valentin\\Hoechts_FoxA2_Oct4_Bra_72_5h_big_bottom\\5_bottom\\raw\n",
      "ref_im                   : 5_bottom_foxa2.tif\n",
      "flo_ims                  : 3_top_foxa2.tif\n",
      "init_trsfs               : ['trans', 'X', 0, 'trans', 'Y', 0, 'trans', 'Z', 0, 'rot', 'X', 0, 'rot', 'Y', 0, 'rot', 'Z', 0, 'trans', 'X', 0, 'trans', 'Y', 0, 'trans', 'Z', 0]\n",
      "trsf_types               : affine\n",
      "ref_voxel                : 0.600000 x 0.600000 x 1.000000\n",
      "flo_voxels               : 0.600000 x 0.600000 x 1.000000\n",
      "out_voxel                : 0.600000 x 0.600000 x 1.000000\n",
      "out_pattern              : C:\\Users\\gros\\Desktop\\DATA\\Valentin\\Hoechts_FoxA2_Oct4_Bra_72_5h_big_bottom\\5_bottom\\registered\n",
      "\n",
      "{'XResolution': 0.6, 'YResolution': 0.6, 'spacing': 1}\n",
      "oct4\n",
      "{'path_to_data': 'C:\\\\Users\\\\gros\\\\Desktop\\\\DATA\\\\Valentin\\\\Hoechts_FoxA2_Oct4_Bra_72_5h_big_bottom\\\\5_bottom\\\\raw', 'ref_im': '5_bottom_oct4.tif', 'flo_ims': ['3_top_oct4.tif'], 'compute_trsf': 0, 'init_trsfs': [['trans', 'X', 0, 'trans', 'Y', 0, 'trans', 'Z', 0, 'rot', 'X', 0, 'rot', 'Y', 0, 'rot', 'Z', 0, 'trans', 'X', 0, 'trans', 'Y', 0, 'trans', 'Z', 0]], 'trsf_paths': ['C:\\\\Users\\\\gros\\\\Desktop\\\\DATA\\\\Valentin\\\\Hoechts_FoxA2_Oct4_Bra_72_5h_big_bottom\\\\5_bottom\\\\trsf'], 'trsf_types': ['affine'], 'ref_voxel': [0.6, 0.6, 1], 'flo_voxels': [[0.6, 0.6, 1]], 'out_voxel': [0.6, 0.6, 1], 'test_init': 0, 'apply_trsf': 1, 'out_pattern': 'C:\\\\Users\\\\gros\\\\Desktop\\\\DATA\\\\Valentin\\\\Hoechts_FoxA2_Oct4_Bra_72_5h_big_bottom\\\\5_bottom\\\\registered', 'begin': 1, 'end': 1, 'bbox_out': 1, 'image_interpolation': 'linear', 'padding': 0, 'registration_depth': 3, 'ordered_init_trsfs': True}\n",
      "Starting experiment\n",
      "The registration will run with the following arguments:\n",
      "\n",
      " File format \n",
      "path_to_data             : C:\\Users\\gros\\Desktop\\DATA\\Valentin\\Hoechts_FoxA2_Oct4_Bra_72_5h_big_bottom\\5_bottom\\raw\n",
      "ref_im                   : 5_bottom_oct4.tif\n",
      "flo_ims                  : 3_top_oct4.tif\n",
      "init_trsfs               : ['trans', 'X', 0, 'trans', 'Y', 0, 'trans', 'Z', 0, 'rot', 'X', 0, 'rot', 'Y', 0, 'rot', 'Z', 0, 'trans', 'X', 0, 'trans', 'Y', 0, 'trans', 'Z', 0]\n",
      "trsf_types               : affine\n",
      "ref_voxel                : 0.600000 x 0.600000 x 1.000000\n",
      "flo_voxels               : 0.600000 x 0.600000 x 1.000000\n",
      "out_voxel                : 0.600000 x 0.600000 x 1.000000\n",
      "out_pattern              : C:\\Users\\gros\\Desktop\\DATA\\Valentin\\Hoechts_FoxA2_Oct4_Bra_72_5h_big_bottom\\5_bottom\\registered\n",
      "\n",
      "{'XResolution': 0.6, 'YResolution': 0.6, 'spacing': 1}\n",
      "bra\n",
      "{'path_to_data': 'C:\\\\Users\\\\gros\\\\Desktop\\\\DATA\\\\Valentin\\\\Hoechts_FoxA2_Oct4_Bra_72_5h_big_bottom\\\\5_bottom\\\\raw', 'ref_im': '5_bottom_bra.tif', 'flo_ims': ['3_top_bra.tif'], 'compute_trsf': 0, 'init_trsfs': [['trans', 'X', 0, 'trans', 'Y', 0, 'trans', 'Z', 0, 'rot', 'X', 0, 'rot', 'Y', 0, 'rot', 'Z', 0, 'trans', 'X', 0, 'trans', 'Y', 0, 'trans', 'Z', 0]], 'trsf_paths': ['C:\\\\Users\\\\gros\\\\Desktop\\\\DATA\\\\Valentin\\\\Hoechts_FoxA2_Oct4_Bra_72_5h_big_bottom\\\\5_bottom\\\\trsf'], 'trsf_types': ['affine'], 'ref_voxel': [0.6, 0.6, 1], 'flo_voxels': [[0.6, 0.6, 1]], 'out_voxel': [0.6, 0.6, 1], 'test_init': 0, 'apply_trsf': 1, 'out_pattern': 'C:\\\\Users\\\\gros\\\\Desktop\\\\DATA\\\\Valentin\\\\Hoechts_FoxA2_Oct4_Bra_72_5h_big_bottom\\\\5_bottom\\\\registered', 'begin': 1, 'end': 1, 'bbox_out': 1, 'image_interpolation': 'linear', 'padding': 0, 'registration_depth': 3, 'ordered_init_trsfs': True}\n",
      "Starting experiment\n",
      "The registration will run with the following arguments:\n",
      "\n",
      " File format \n",
      "path_to_data             : C:\\Users\\gros\\Desktop\\DATA\\Valentin\\Hoechts_FoxA2_Oct4_Bra_72_5h_big_bottom\\5_bottom\\raw\n",
      "ref_im                   : 5_bottom_bra.tif\n",
      "flo_ims                  : 3_top_bra.tif\n",
      "init_trsfs               : ['trans', 'X', 0, 'trans', 'Y', 0, 'trans', 'Z', 0, 'rot', 'X', 0, 'rot', 'Y', 0, 'rot', 'Z', 0, 'trans', 'X', 0, 'trans', 'Y', 0, 'trans', 'Z', 0]\n",
      "trsf_types               : affine\n",
      "ref_voxel                : 0.600000 x 0.600000 x 1.000000\n",
      "flo_voxels               : 0.600000 x 0.600000 x 1.000000\n",
      "out_voxel                : 0.600000 x 0.600000 x 1.000000\n",
      "out_pattern              : C:\\Users\\gros\\Desktop\\DATA\\Valentin\\Hoechts_FoxA2_Oct4_Bra_72_5h_big_bottom\\5_bottom\\registered\n",
      "\n",
      "{'XResolution': 0.6, 'YResolution': 0.6, 'spacing': 1}\n"
     ]
    }
   ],
   "source": [
    "# from now on, we consider only one sample. If you have multiple samples, you can loop : list_ref[i]\n",
    "path= rf'C:\\Users\\gros\\Desktop\\DATA\\Valentin\\Hoechts_FoxA2_Oct4_Bra_72_5h_big_bottom'\n",
    "filename_ref = list_ref[0]\n",
    "filename_float = list_float[0]\n",
    "input_voxel = [0.6,0.6,1]\n",
    "output_voxel = [0.6,0.6,1]\n",
    "channel_reference = \"dapi\"\n",
    "# trans1= [30   ,   -5,5]\n",
    "rot=[-180,0,-12]\n",
    "trans2=[70,10,0]\n",
    "\n",
    "reconstruction.register(\n",
    "    path_data=Path(path) / filename_ref / \"raw\",\n",
    "    path_transformation=Path(path) / filename_ref / \"trsf\",\n",
    "    path_registered_data=Path(path) / filename_ref / \"registered\",\n",
    "    reference_image=f\"{filename_ref}_{channel_reference}.tif\",\n",
    "    floating_image=f\"{filename_float}_{channel_reference}.tif\",\n",
    "    input_voxel=input_voxel,\n",
    "    output_voxel=output_voxel,\n",
    "    compute_trsf=1,\n",
    "    # example of transformation if the sample has been flipped between the 2 views.\n",
    "    # trans1 is a translation before the rotation, trans2 is a translation after the rotation.\n",
    "    # trans1=trans1,  # XYZ\n",
    "    rot=rot,\n",
    "    trans2=trans2,\n",
    "    test_init=0,\n",
    "    # other_trsf=trsf,\n",
    "    trsf_type=\"affine\",\n",
    "    depth=3,\n",
    "    bbox=1,\n",
    "    save_json=Path(path) / filename_ref,\n",
    ")\n",
    "\n",
    "\n",
    "# # # # registering other channel using the transformation computed above\n",
    "# for channel in ['dapi','sox2','bra'] :\n",
    "\n",
    "for channel in channels[\n",
    "    1:\n",
    "]:  # (we skip the reference channel that we assumed is the first)\n",
    "    print(channel)\n",
    "    reconstruction.register(\n",
    "        path_data=Path(path) / filename_ref / \"raw\",\n",
    "        path_transformation=Path(path) / filename_ref / \"trsf\",\n",
    "        path_registered_data=Path(path) / filename_ref / \"registered\",\n",
    "        reference_image=f\"{filename_ref}_{channel}.tif\",\n",
    "        floating_image=f\"{filename_float}_{channel}.tif\",\n",
    "        input_voxel=input_voxel,\n",
    "        output_voxel=output_voxel,\n",
    "        compute_trsf=0,\n",
    "        trsf_type=\"affine\",\n",
    "    )"
   ]
  },
  {
   "cell_type": "markdown",
   "id": "753a47ef",
   "metadata": {},
   "source": [
    "Napari visualization (you need to have napari installed)"
   ]
  },
  {
   "cell_type": "code",
   "execution_count": 26,
   "id": "5948e87d",
   "metadata": {},
   "outputs": [],
   "source": [
    "# filename_ref = list_ref[0]\n",
    "# filename_float = list_float[0]\n",
    "channel = 'dapi'\n",
    "image = tifffile.imread(Path(path) / f\"{filename_ref}\" / 'registered' / f\"{filename_float}_{channel}.tif\" )\n",
    "scale = (1,0.6,0.6)\n",
    "reconstruction.check_napari(\n",
    "    folder=Path(path) / f\"{filename_ref}\",\n",
    "    reference_image=f\"{filename_ref}_{channel}.tif\",\n",
    "    floating_image=f\"{filename_float}_{channel}.tif\",\n",
    "    scale=scale,\n",
    ")"
   ]
  },
  {
   "cell_type": "markdown",
   "id": "9d0d890c",
   "metadata": {},
   "source": [
    "Fuse the 2 registered sides into one array"
   ]
  },
  {
   "cell_type": "code",
   "execution_count": 27,
   "id": "3be6e9dd",
   "metadata": {},
   "outputs": [],
   "source": [
    "for ch in channels:\n",
    "    image = reconstruction.fuse_sides(\n",
    "        path_registered_data=Path(path) / filename_ref / \"registered\",\n",
    "        reference_image_reg=f\"{filename_ref}_{ch}.tif\",\n",
    "        floating_image_reg=f\"{filename_float}_{ch}.tif\",\n",
    "        folder_output=Path(path) / filename_ref / \"fused\",\n",
    "        name_output=rf\"fuseddata2_{ch}.tif\",\n",
    "        slope_coeff=25,  # slope of the weight profile : 5 corresponds to a low slope, wide fusion width and 25 to a strong slope, very thin fusion width.\n",
    "    )"
   ]
  },
  {
   "cell_type": "markdown",
   "id": "6813afe5",
   "metadata": {},
   "source": [
    "Merge all the channels in one multichannel image"
   ]
  },
  {
   "cell_type": "code",
   "execution_count": 28,
   "id": "b99d45d6",
   "metadata": {},
   "outputs": [],
   "source": [
    "# the images should be named 'sampleid_channel.tif', eg 'fuseddata_dapi.tif', this depends on the argument \"name_output\" above.\n",
    "reconstruction.write_hyperstacks(\n",
    "    path=Path(path) / filename_ref / \"fused\",\n",
    "    sample_id=\"fuseddata2\",\n",
    "    channels=channels,\n",
    ")"
   ]
  },
  {
   "cell_type": "code",
   "execution_count": null,
   "metadata": {},
   "outputs": [],
   "source": []
  },
  {
   "cell_type": "markdown",
   "id": "889bc65d",
   "metadata": {},
   "source": [
    "Optional : Registration using landmarks\n",
    "\n",
    "If the automatic registration is not satisfying, one option is to give more precise initial transformations to the algorithm.\n",
    "\n",
    "For that, you need to define landmarks, using for example the Napari plugin. One landmark is a feature that you recognize in both the reference image and the floating image, that you will need to pinpoint with a marker of given label, this label has to be an integer that has the same value in both image.\n",
    "\n",
    "Once you have at least 3 annotated landmarks (=3 labels in each image), give these landmarks to the manual_registration function, that will compute the transformation necessary to align them, and give this transformation as a starting point to the algorithm.\n"
   ]
  },
  {
   "cell_type": "code",
   "execution_count": 4,
   "id": "caa40381",
   "metadata": {},
   "outputs": [
    {
     "ename": "FileNotFoundError",
     "evalue": "[Errno 2] No such file or directory: 'C:\\\\Users\\\\gros\\\\Desktop\\\\DATA\\\\96h\\\\STD_ES_40X\\\\1_bottom\\\\reference_landmarks.tif'",
     "output_type": "error",
     "traceback": [
      "\u001b[1;31m---------------------------------------------------------------------------\u001b[0m",
      "\u001b[1;31mFileNotFoundError\u001b[0m                         Traceback (most recent call last)",
      "\u001b[1;32m~\\AppData\\Local\\Temp\\ipykernel_18796\\3471598633.py\u001b[0m in \u001b[0;36m?\u001b[1;34m()\u001b[0m\n\u001b[0;32m      1\u001b[0m \u001b[0mfilename_ref\u001b[0m \u001b[1;33m=\u001b[0m \u001b[0mlist_ref\u001b[0m\u001b[1;33m[\u001b[0m\u001b[1;36m0\u001b[0m\u001b[1;33m]\u001b[0m\u001b[1;33m\u001b[0m\u001b[1;33m\u001b[0m\u001b[0m\n\u001b[0;32m      2\u001b[0m \u001b[0mfilename_float\u001b[0m \u001b[1;33m=\u001b[0m \u001b[0mlist_float\u001b[0m\u001b[1;33m[\u001b[0m\u001b[1;36m0\u001b[0m\u001b[1;33m]\u001b[0m\u001b[1;33m\u001b[0m\u001b[1;33m\u001b[0m\u001b[0m\n\u001b[0;32m      3\u001b[0m \u001b[0mscale\u001b[0m \u001b[1;33m=\u001b[0m \u001b[1;33m(\u001b[0m\u001b[1;36m1\u001b[0m\u001b[1;33m,\u001b[0m \u001b[1;36m1\u001b[0m\u001b[1;33m,\u001b[0m \u001b[1;36m1\u001b[0m\u001b[1;33m)\u001b[0m\u001b[1;33m\u001b[0m\u001b[1;33m\u001b[0m\u001b[0m\n\u001b[0;32m      4\u001b[0m \u001b[0mpath_to_landmarks\u001b[0m \u001b[1;33m=\u001b[0m \u001b[1;34mrf'C:\\Users\\gros\\Desktop\\DATA\\96h\\STD_ES_40X\\{filename_ref}'\u001b[0m\u001b[1;33m\u001b[0m\u001b[1;33m\u001b[0m\u001b[0m\n\u001b[1;32m----> 5\u001b[1;33m reference_landmarks = tifffile.imread(\n\u001b[0m\u001b[0;32m      6\u001b[0m     \u001b[0mPath\u001b[0m\u001b[1;33m(\u001b[0m\u001b[0mpath_to_landmarks\u001b[0m\u001b[1;33m)\u001b[0m \u001b[1;33m/\u001b[0m \u001b[1;34mf\"reference_landmarks.tif\"\u001b[0m\u001b[1;33m\u001b[0m\u001b[1;33m\u001b[0m\u001b[0m\n\u001b[0;32m      7\u001b[0m )\n\u001b[0;32m      8\u001b[0m floating_landmarks = tifffile.imread(\n",
      "\u001b[1;32mc:\\Users\\gros\\Anaconda3\\envs\\organoid-env\\lib\\site-packages\\tifffile\\tifffile.py\u001b[0m in \u001b[0;36m?\u001b[1;34m(***failed resolving arguments***)\u001b[0m\n\u001b[0;32m   1242\u001b[0m \u001b[1;33m\u001b[0m\u001b[0m\n\u001b[0;32m   1243\u001b[0m         if isinstance(files, str) or not isinstance(\n\u001b[0;32m   1244\u001b[0m             \u001b[0mfiles\u001b[0m\u001b[1;33m,\u001b[0m \u001b[0mcollections\u001b[0m\u001b[1;33m.\u001b[0m\u001b[0mabc\u001b[0m\u001b[1;33m.\u001b[0m\u001b[0mSequence\u001b[0m\u001b[1;33m\u001b[0m\u001b[1;33m\u001b[0m\u001b[0m\n\u001b[0;32m   1245\u001b[0m         ):\n\u001b[1;32m-> 1246\u001b[1;33m             with TiffFile(\n\u001b[0m\u001b[0;32m   1247\u001b[0m                 \u001b[0mfiles\u001b[0m\u001b[1;33m,\u001b[0m\u001b[1;33m\u001b[0m\u001b[1;33m\u001b[0m\u001b[0m\n\u001b[0;32m   1248\u001b[0m                 \u001b[0mmode\u001b[0m\u001b[1;33m=\u001b[0m\u001b[0mmode\u001b[0m\u001b[1;33m,\u001b[0m\u001b[1;33m\u001b[0m\u001b[1;33m\u001b[0m\u001b[0m\n\u001b[0;32m   1249\u001b[0m                 \u001b[0mname\u001b[0m\u001b[1;33m=\u001b[0m\u001b[0mname\u001b[0m\u001b[1;33m,\u001b[0m\u001b[1;33m\u001b[0m\u001b[1;33m\u001b[0m\u001b[0m\n",
      "\u001b[1;32mc:\\Users\\gros\\Anaconda3\\envs\\organoid-env\\lib\\site-packages\\tifffile\\tifffile.py\u001b[0m in \u001b[0;36m?\u001b[1;34m(self, file, mode, name, offset, size, omexml, _multifile, _useframes, _parent, **is_flags)\u001b[0m\n\u001b[0;32m   4239\u001b[0m                 \u001b[1;32mraise\u001b[0m \u001b[0mValueError\u001b[0m\u001b[1;33m(\u001b[0m\u001b[1;34m'invalid OME-XML'\u001b[0m\u001b[1;33m)\u001b[0m\u001b[1;33m\u001b[0m\u001b[1;33m\u001b[0m\u001b[0m\n\u001b[0;32m   4240\u001b[0m             \u001b[0mself\u001b[0m\u001b[1;33m.\u001b[0m\u001b[0m_omexml\u001b[0m \u001b[1;33m=\u001b[0m \u001b[0momexml\u001b[0m\u001b[1;33m\u001b[0m\u001b[1;33m\u001b[0m\u001b[0m\n\u001b[0;32m   4241\u001b[0m             \u001b[0mself\u001b[0m\u001b[1;33m.\u001b[0m\u001b[0mis_ome\u001b[0m \u001b[1;33m=\u001b[0m \u001b[1;32mTrue\u001b[0m\u001b[1;33m\u001b[0m\u001b[1;33m\u001b[0m\u001b[0m\n\u001b[0;32m   4242\u001b[0m \u001b[1;33m\u001b[0m\u001b[0m\n\u001b[1;32m-> 4243\u001b[1;33m         \u001b[0mfh\u001b[0m \u001b[1;33m=\u001b[0m \u001b[0mFileHandle\u001b[0m\u001b[1;33m(\u001b[0m\u001b[0mfile\u001b[0m\u001b[1;33m,\u001b[0m \u001b[0mmode\u001b[0m\u001b[1;33m=\u001b[0m\u001b[0mmode\u001b[0m\u001b[1;33m,\u001b[0m \u001b[0mname\u001b[0m\u001b[1;33m=\u001b[0m\u001b[0mname\u001b[0m\u001b[1;33m,\u001b[0m \u001b[0moffset\u001b[0m\u001b[1;33m=\u001b[0m\u001b[0moffset\u001b[0m\u001b[1;33m,\u001b[0m \u001b[0msize\u001b[0m\u001b[1;33m=\u001b[0m\u001b[0msize\u001b[0m\u001b[1;33m)\u001b[0m\u001b[1;33m\u001b[0m\u001b[1;33m\u001b[0m\u001b[0m\n\u001b[0m\u001b[0;32m   4244\u001b[0m         \u001b[0mself\u001b[0m\u001b[1;33m.\u001b[0m\u001b[0m_fh\u001b[0m \u001b[1;33m=\u001b[0m \u001b[0mfh\u001b[0m\u001b[1;33m\u001b[0m\u001b[1;33m\u001b[0m\u001b[0m\n\u001b[0;32m   4245\u001b[0m         \u001b[0mself\u001b[0m\u001b[1;33m.\u001b[0m\u001b[0m_multifile\u001b[0m \u001b[1;33m=\u001b[0m \u001b[1;32mTrue\u001b[0m \u001b[1;32mif\u001b[0m \u001b[0m_multifile\u001b[0m \u001b[1;32mis\u001b[0m \u001b[1;32mNone\u001b[0m \u001b[1;32melse\u001b[0m \u001b[0mbool\u001b[0m\u001b[1;33m(\u001b[0m\u001b[0m_multifile\u001b[0m\u001b[1;33m)\u001b[0m\u001b[1;33m\u001b[0m\u001b[1;33m\u001b[0m\u001b[0m\n\u001b[0;32m   4246\u001b[0m         \u001b[0mself\u001b[0m\u001b[1;33m.\u001b[0m\u001b[0m_files\u001b[0m \u001b[1;33m=\u001b[0m \u001b[1;33m{\u001b[0m\u001b[0mfh\u001b[0m\u001b[1;33m.\u001b[0m\u001b[0mname\u001b[0m\u001b[1;33m:\u001b[0m \u001b[0mself\u001b[0m\u001b[1;33m}\u001b[0m\u001b[1;33m\u001b[0m\u001b[1;33m\u001b[0m\u001b[0m\n",
      "\u001b[1;32mc:\\Users\\gros\\Anaconda3\\envs\\organoid-env\\lib\\site-packages\\tifffile\\tifffile.py\u001b[0m in \u001b[0;36m?\u001b[1;34m(self, file, mode, name, offset, size)\u001b[0m\n\u001b[0;32m  14450\u001b[0m         \u001b[0mself\u001b[0m\u001b[1;33m.\u001b[0m\u001b[0m_offset\u001b[0m \u001b[1;33m=\u001b[0m \u001b[1;33m-\u001b[0m\u001b[1;36m1\u001b[0m \u001b[1;32mif\u001b[0m \u001b[0moffset\u001b[0m \u001b[1;32mis\u001b[0m \u001b[1;32mNone\u001b[0m \u001b[1;32melse\u001b[0m \u001b[0moffset\u001b[0m\u001b[1;33m\u001b[0m\u001b[1;33m\u001b[0m\u001b[0m\n\u001b[0;32m  14451\u001b[0m         \u001b[0mself\u001b[0m\u001b[1;33m.\u001b[0m\u001b[0m_size\u001b[0m \u001b[1;33m=\u001b[0m \u001b[1;33m-\u001b[0m\u001b[1;36m1\u001b[0m \u001b[1;32mif\u001b[0m \u001b[0msize\u001b[0m \u001b[1;32mis\u001b[0m \u001b[1;32mNone\u001b[0m \u001b[1;32melse\u001b[0m \u001b[0msize\u001b[0m\u001b[1;33m\u001b[0m\u001b[1;33m\u001b[0m\u001b[0m\n\u001b[0;32m  14452\u001b[0m         \u001b[0mself\u001b[0m\u001b[1;33m.\u001b[0m\u001b[0m_close\u001b[0m \u001b[1;33m=\u001b[0m \u001b[1;32mTrue\u001b[0m\u001b[1;33m\u001b[0m\u001b[1;33m\u001b[0m\u001b[0m\n\u001b[0;32m  14453\u001b[0m         \u001b[0mself\u001b[0m\u001b[1;33m.\u001b[0m\u001b[0m_lock\u001b[0m \u001b[1;33m=\u001b[0m \u001b[0mNullContext\u001b[0m\u001b[1;33m(\u001b[0m\u001b[1;33m)\u001b[0m\u001b[1;33m\u001b[0m\u001b[1;33m\u001b[0m\u001b[0m\n\u001b[1;32m> 14454\u001b[1;33m         \u001b[0mself\u001b[0m\u001b[1;33m.\u001b[0m\u001b[0mopen\u001b[0m\u001b[1;33m(\u001b[0m\u001b[1;33m)\u001b[0m\u001b[1;33m\u001b[0m\u001b[1;33m\u001b[0m\u001b[0m\n\u001b[0m\u001b[0;32m  14455\u001b[0m         \u001b[1;32massert\u001b[0m \u001b[0mself\u001b[0m\u001b[1;33m.\u001b[0m\u001b[0m_fh\u001b[0m \u001b[1;32mis\u001b[0m \u001b[1;32mnot\u001b[0m \u001b[1;32mNone\u001b[0m\u001b[1;33m\u001b[0m\u001b[1;33m\u001b[0m\u001b[0m\n",
      "\u001b[1;32mc:\\Users\\gros\\Anaconda3\\envs\\organoid-env\\lib\\site-packages\\tifffile\\tifffile.py\u001b[0m in \u001b[0;36m?\u001b[1;34m(self)\u001b[0m\n\u001b[0;32m  14469\u001b[0m             \u001b[1;32mif\u001b[0m \u001b[0mself\u001b[0m\u001b[1;33m.\u001b[0m\u001b[0m_mode\u001b[0m \u001b[1;32mnot\u001b[0m \u001b[1;32min\u001b[0m \u001b[1;33m{\u001b[0m\u001b[1;34m'rb'\u001b[0m\u001b[1;33m,\u001b[0m \u001b[1;34m'r+b'\u001b[0m\u001b[1;33m,\u001b[0m \u001b[1;34m'wb'\u001b[0m\u001b[1;33m,\u001b[0m \u001b[1;34m'xb'\u001b[0m\u001b[1;33m}\u001b[0m\u001b[1;33m:\u001b[0m\u001b[1;33m\u001b[0m\u001b[1;33m\u001b[0m\u001b[0m\n\u001b[0;32m  14470\u001b[0m                 \u001b[1;32mraise\u001b[0m \u001b[0mValueError\u001b[0m\u001b[1;33m(\u001b[0m\u001b[1;34mf'invalid mode {self._mode}'\u001b[0m\u001b[1;33m)\u001b[0m\u001b[1;33m\u001b[0m\u001b[1;33m\u001b[0m\u001b[0m\n\u001b[0;32m  14471\u001b[0m             \u001b[0mself\u001b[0m\u001b[1;33m.\u001b[0m\u001b[0m_file\u001b[0m \u001b[1;33m=\u001b[0m \u001b[0mos\u001b[0m\u001b[1;33m.\u001b[0m\u001b[0mpath\u001b[0m\u001b[1;33m.\u001b[0m\u001b[0mrealpath\u001b[0m\u001b[1;33m(\u001b[0m\u001b[0mself\u001b[0m\u001b[1;33m.\u001b[0m\u001b[0m_file\u001b[0m\u001b[1;33m)\u001b[0m\u001b[1;33m\u001b[0m\u001b[1;33m\u001b[0m\u001b[0m\n\u001b[0;32m  14472\u001b[0m             \u001b[0mself\u001b[0m\u001b[1;33m.\u001b[0m\u001b[0m_dir\u001b[0m\u001b[1;33m,\u001b[0m \u001b[0mself\u001b[0m\u001b[1;33m.\u001b[0m\u001b[0m_name\u001b[0m \u001b[1;33m=\u001b[0m \u001b[0mos\u001b[0m\u001b[1;33m.\u001b[0m\u001b[0mpath\u001b[0m\u001b[1;33m.\u001b[0m\u001b[0msplit\u001b[0m\u001b[1;33m(\u001b[0m\u001b[0mself\u001b[0m\u001b[1;33m.\u001b[0m\u001b[0m_file\u001b[0m\u001b[1;33m)\u001b[0m\u001b[1;33m\u001b[0m\u001b[1;33m\u001b[0m\u001b[0m\n\u001b[1;32m> 14473\u001b[1;33m             self._fh = open(\n\u001b[0m\u001b[0;32m  14474\u001b[0m                 \u001b[0mself\u001b[0m\u001b[1;33m.\u001b[0m\u001b[0m_file\u001b[0m\u001b[1;33m,\u001b[0m \u001b[0mself\u001b[0m\u001b[1;33m.\u001b[0m\u001b[0m_mode\u001b[0m\u001b[1;33m,\u001b[0m \u001b[0mencoding\u001b[0m\u001b[1;33m=\u001b[0m\u001b[1;32mNone\u001b[0m\u001b[1;33m\u001b[0m\u001b[1;33m\u001b[0m\u001b[0m\n\u001b[0;32m  14475\u001b[0m             )  # type: ignore\n\u001b[0;32m  14476\u001b[0m             \u001b[0mself\u001b[0m\u001b[1;33m.\u001b[0m\u001b[0m_close\u001b[0m \u001b[1;33m=\u001b[0m \u001b[1;32mTrue\u001b[0m\u001b[1;33m\u001b[0m\u001b[1;33m\u001b[0m\u001b[0m\n",
      "\u001b[1;31mFileNotFoundError\u001b[0m: [Errno 2] No such file or directory: 'C:\\\\Users\\\\gros\\\\Desktop\\\\DATA\\\\96h\\\\STD_ES_40X\\\\1_bottom\\\\reference_landmarks.tif'"
     ]
    }
   ],
   "source": [
    "filename_ref = list_ref[0]\n",
    "filename_float = list_float[0]\n",
    "scale = (1, 1, 1)\n",
    "path_to_landmarks = rf'C:\\Users\\gros\\Desktop\\DATA\\96h\\STD_ES_40X\\{filename_ref}'\n",
    "reference_landmarks = tifffile.imread(\n",
    "    Path(path_to_landmarks) / f\"reference_landmarks.tif\"\n",
    ")\n",
    "floating_landmarks = tifffile.imread(\n",
    "    Path(path_to_landmarks) / f\"floating_landmarks.tif\"\n",
    ")\n",
    "reference_landmarks = reference_landmarks.astype(np.uint16)\n",
    "floating_landmarks = floating_landmarks.astype(np.uint16)\n",
    "channel = \"dapi\"\n",
    "\n",
    "rot, trans1, trans2 = reconstruction.manual_registration_fct(\n",
    "    reference_landmarks=reference_landmarks,\n",
    "    floating_landmarks=floating_landmarks,\n",
    "    scale=(1, 1, 1),\n",
    ")\n",
    "\n",
    "rot=[rot[2],rot[1],rot[0]]\n",
    "\n",
    "reconstruction.register(\n",
    "    path_data=Path(path) / filename_ref / \"raw\",\n",
    "    path_transformation=Path(path) / filename_ref / \"trsf\",\n",
    "    path_registered_data=Path(path) / filename_ref / \"registered\",\n",
    "    path_to_bin=path_to_bin,\n",
    "    reference_image=f\"{filename_ref}_{channel}.tif\",\n",
    "    floating_image=f\"{filename_float}_{channel}.tif\",\n",
    "    input_voxel=[\n",
    "        1,\n",
    "        1,\n",
    "        1,\n",
    "    ],  # if you use landmarks, better use the same voxel size in and out\n",
    "    output_voxel=[1, 1, 1],\n",
    "    compute_trsf=1,\n",
    "    rot=rot,\n",
    "    trans1=trans1,\n",
    "    trans2=trans2,\n",
    "    test_init=0,\n",
    "    trsf_type=\"rigid\",\n",
    "    depth=3,\n",
    "    bbox=1,\n",
    "    save_json=\"\",\n",
    ")"
   ]
  },
  {
   "cell_type": "code",
   "execution_count": 10,
   "id": "66a20cb1",
   "metadata": {},
   "outputs": [
    {
     "name": "stdout",
     "output_type": "stream",
     "text": [
      "rotation : [-180, 0, -12] \n",
      " translation : [57, 10, 0]\n",
      "{'path_to_data': 'C:\\\\Users\\\\gros\\\\Desktop\\\\DATA\\\\Valentin\\\\Dapi_Ecad_bra_sox2_725h_re_big_newintensity\\\\1_bottom\\\\raw', 'ref_im': '1_bottom_dapi.tif', 'flo_ims': ['1_top_dapi.tif'], 'compute_trsf': 1, 'init_trsfs': [['trans', 'X', 0, 'trans', 'Y', 0, 'trans', 'Z', 0, 'rot', 'X', 180, 'rot', 'Y', 0, 'rot', 'Z', 12, 'trans', 'X', 0, 'trans', 'Y', -10, 'trans', 'Z', -57]], 'trsf_paths': ['C:\\\\Users\\\\gros\\\\Desktop\\\\DATA\\\\Valentin\\\\Dapi_Ecad_bra_sox2_725h_re_big_newintensity\\\\1_bottom\\\\trsf'], 'trsf_types': ['rigid'], 'ref_voxel': [1, 1, 1], 'flo_voxels': [[1, 1, 1]], 'out_voxel': [1, 1, 1], 'test_init': 0, 'apply_trsf': 1, 'out_pattern': 'C:\\\\Users\\\\gros\\\\Desktop\\\\DATA\\\\Valentin\\\\Dapi_Ecad_bra_sox2_725h_re_big_newintensity\\\\1_bottom\\\\registered', 'begin': 1, 'end': 1, 'bbox_out': 0, 'image_interpolation': 'linear', 'padding': 0, 'registration_depth': 3, 'ordered_init_trsfs': True}\n",
      "Starting experiment\n",
      "The registration will run with the following arguments:\n",
      "\n",
      " File format \n",
      "path_to_data             : C:\\Users\\gros\\Desktop\\DATA\\Valentin\\Dapi_Ecad_bra_sox2_725h_re_big_newintensity\\1_bottom\\raw\n",
      "ref_im                   : 1_bottom_dapi.tif\n",
      "flo_ims                  : 1_top_dapi.tif\n",
      "init_trsfs               : ['trans', 'X', 0, 'trans', 'Y', 0, 'trans', 'Z', 0, 'rot', 'X', 180, 'rot', 'Y', 0, 'rot', 'Z', 12, 'trans', 'X', 0, 'trans', 'Y', -10, 'trans', 'Z', -57]\n",
      "trsf_types               : rigid\n",
      "ref_voxel                : 1.000000 x 1.000000 x 1.000000\n",
      "flo_voxels               : 1.000000 x 1.000000 x 1.000000\n",
      "out_voxel                : 1.000000 x 1.000000 x 1.000000\n",
      "out_pattern              : C:\\Users\\gros\\Desktop\\DATA\\Valentin\\Dapi_Ecad_bra_sox2_725h_re_big_newintensity\\1_bottom\\registered\n",
      "\n"
     ]
    }
   ],
   "source": [
    "path_to_initial_transformation = rf'C:\\Users\\gros\\Desktop\\DATA\\Valentin\\Dapi_Ecad_bra_sox2_725h_re_big_newintensity\\initial_transformation.json'\n",
    "path = rf'C:\\Users\\gros\\Desktop\\DATA\\Valentin\\Dapi_Ecad_bra_sox2_725h_re_big_newintensity'\n",
    "rotation, translation = reconstruction.transformation_from_plugin(path_to_initial_transformation)\n",
    "print('rotation :',rotation, '\\n translation :',translation)\n",
    "reconstruction.register(\n",
    "    path_data=Path(path) / filename_ref / \"raw\",\n",
    "    path_transformation=Path(path) / filename_ref / \"trsf\",\n",
    "    path_registered_data=Path(path) / filename_ref / \"registered\",\n",
    "    reference_image=f\"{filename_ref}_{channels[0]}.tif\",\n",
    "    floating_image=f\"{filename_float}_{channels[0]}.tif\",\n",
    "    input_voxel=[\n",
    "        1,\n",
    "        1,\n",
    "        1,\n",
    "    ],  # if you use landmarks, better use the same voxel size in and out\n",
    "    output_voxel=[1, 1, 1],\n",
    "    compute_trsf=1,\n",
    "    rot=rotation,\n",
    "    trans2=translation,\n",
    "    test_init=0,\n",
    "    trsf_type=\"rigid\",\n",
    "    depth=3,\n",
    "    bbox=0,\n",
    "    save_json=\"\",\n",
    ")\n"
   ]
  },
  {
   "cell_type": "markdown",
   "id": "ec8831d7",
   "metadata": {},
   "source": [
    "Debug : register the landmarks images and plot the result to see if the transformation is correct"
   ]
  },
  {
   "cell_type": "code",
   "execution_count": null,
   "id": "89b98bbe",
   "metadata": {},
   "outputs": [
    {
     "name": "stdout",
     "output_type": "stream",
     "text": [
      "[0 1 2 3] (151, 512, 512)\n",
      "[0 1 2 3] (151, 512, 512)\n"
     ]
    },
    {
     "name": "stderr",
     "output_type": "stream",
     "text": [
      "C:\\Users\\gros\\Desktop\\CODES\\organoid\\src\\organoid\\reconstruction\\_reconstruct.py:231: FutureWarning: `rcond` parameter will change to the default of machine precision times ``max(M, N)`` where M and N are the input matrix dimensions.\n",
      "To use the future default and silence this warning we advise to pass `rcond=None`, to keep using the old, explicitly pass `rcond=-1`.\n",
      "  trsf = np.linalg.lstsq(trsf, np.identity(4))[0]\n"
     ]
    },
    {
     "name": "stdout",
     "output_type": "stream",
     "text": [
      "{'path_to_bin': 'C:\\\\Users\\\\gros\\\\Anaconda3\\\\envs\\\\organoid-env\\\\Library\\\\bin', 'path_to_data': 'C:\\\\Users\\\\gros\\\\Desktop\\\\DATA\\\\Valentin\\\\48_12h_Hoechst_Ecad_Bra_Sox2\\\\1_bottom_norm\\\\raw', 'ref_im': 'reference_landmarks.tif', 'flo_ims': ['floating_landmarks.tif'], 'compute_trsf': 1, 'init_trsfs': [['trans', 'X', 32.666666666666686, 'trans', 'Y', 63.666666666666686, 'trans', 'Z', -17.5, 'rot', 'X', -167.9252700050755, 'rot', 'Y', -3.9970322766327255, 'rot', 'Z', -20.80354577451683, 'trans', 'X', -8.0, 'trans', 'Y', 88.66666666666666, 'trans', 'Z', 15.833333333333336]], 'trsf_paths': ['C:\\\\Users\\\\gros\\\\Desktop\\\\DATA\\\\Valentin\\\\48_12h_Hoechst_Ecad_Bra_Sox2\\\\1_bottom_norm\\\\trsf'], 'trsf_types': ['rigid'], 'ref_voxel': [1, 1, 1], 'flo_voxels': [[1, 1, 1]], 'out_voxel': [1, 1, 1], 'test_init': 1, 'apply_trsf': 1, 'out_pattern': 'C:\\\\Users\\\\gros\\\\Desktop\\\\DATA\\\\Valentin\\\\48_12h_Hoechst_Ecad_Bra_Sox2\\\\1_bottom_norm\\\\registered', 'begin': 1, 'end': 1, 'bbox_out': 1, 'image_interpolation': 'linear', 'padding': 0, 'registration_depth': 3, 'ordered_init_trsfs': True}\n",
      "Starting experiment\n",
      "The registration will run with the following arguments:\n",
      "\n",
      " File format \n",
      "path_to_data             : C:\\Users\\gros\\Desktop\\DATA\\Valentin\\48_12h_Hoechst_Ecad_Bra_Sox2\\1_bottom_norm\\raw\n",
      "ref_im                   : reference_landmarks.tif\n",
      "flo_ims                  : floating_landmarks.tif\n",
      "init_trsfs               : ['trans', 'X', 32.666666666666686, 'trans', 'Y', 63.666666666666686, 'trans', 'Z', -17.5, 'rot', 'X', -167.9252700050755, 'rot', 'Y', -3.9970322766327255, 'rot', 'Z', -20.80354577451683, 'trans', 'X', -8.0, 'trans', 'Y', 88.66666666666666, 'trans', 'Z', 15.833333333333336]\n",
      "trsf_types               : rigid\n",
      "ref_voxel                : 1.000000 x 1.000000 x 1.000000\n",
      "flo_voxels               : 1.000000 x 1.000000 x 1.000000\n",
      "out_voxel                : 1.000000 x 1.000000 x 1.000000\n",
      "out_pattern              : C:\\Users\\gros\\Desktop\\DATA\\Valentin\\48_12h_Hoechst_Ecad_Bra_Sox2\\1_bottom_norm\\registered\n",
      "\n",
      "[ 17.5        -63.66666667 -32.66666667] [167.9252700050755, 3.9970322766327255, 20.80354577451683] [-15.83333333 -88.66666667   8.        ]\n"
     ]
    }
   ],
   "source": [
    "path_to_landmarks = path\n",
    "path_to_bin = rf'C:\\Users\\gros\\Anaconda3\\envs\\organoid-env\\Library\\bin'\n",
    "reference_landmarks = tifffile.imread(\n",
    "    Path(path_to_landmarks) / filename_ref/ f\"raw/reference_landmarks.tif\"\n",
    ")\n",
    "floating_landmarks = tifffile.imread(\n",
    "    Path(path_to_landmarks) / filename_ref / f\"raw/floating_landmarks.tif\"\n",
    ")\n",
    "\n",
    "reference_landmarks = reference_landmarks.astype(np.uint16)\n",
    "floating_landmarks = floating_landmarks.astype(np.uint16)\n",
    "print(np.unique(reference_landmarks),np.shape(reference_landmarks))\n",
    "print(np.unique(floating_landmarks),np.shape(floating_landmarks))\n",
    "tifffile.imwrite(Path(path_to_landmarks) / filename_ref / f\"raw/floating_landmarks.tif\", floating_landmarks)\n",
    "tifffile.imwrite(Path(path_to_landmarks) / filename_ref / f\"raw/reference_landmarks.tif\", reference_landmarks)\n",
    "channel = \"dapi\"\n",
    "\n",
    "rot, trans1, trans2 = reconstruction.manual_registration_fct(\n",
    "    reference_landmarks=reference_landmarks,\n",
    "    floating_landmarks=floating_landmarks,\n",
    "    scale=(1, 1, 1),\n",
    ")\n",
    "# trans2=[0,0,0]\n",
    "rot=[rot[2],rot[1],rot[0]]\n",
    "reconstruction.register(\n",
    "    path_data=Path(path_to_landmarks) / filename_ref / \"raw\",\n",
    "    path_transformation=Path(path_to_landmarks) / filename_ref / \"trsf\",\n",
    "    path_registered_data=Path(path_to_landmarks) / filename_ref / \"registered\",\n",
    "    path_to_bin=path_to_bin,\n",
    "    reference_image=f\"reference_landmarks.tif\",  # they have to be in 16bit to be registered\n",
    "    floating_image=f\"floating_landmarks.tif\",\n",
    "    input_voxel=[1, 1, 1],\n",
    "    output_voxel=[1, 1, 1],\n",
    "    compute_trsf=1,\n",
    "    trans1=trans1,\n",
    "    trans2=trans2,\n",
    "    rot=rot,\n",
    "    test_init=1,  # keep test_init=1 to see only the provided tranformation\n",
    "    trsf_type=\"rigid\",\n",
    "    depth=3,\n",
    "    save_json=Path(path_to_landmarks) / filename_ref,\n",
    ")\n",
    "print(trans1,rot,trans2)\n",
    "# loading the output and add articially the center of mass of the points, to see how well they align\n",
    "\n",
    "reference_landmarks = tifffile.imread(\n",
    "    Path(path_to_landmarks) / filename_ref / f\"raw/reference_landmarks.tif\"\n",
    ")\n",
    "floating_landmarks = tifffile.imread(\n",
    "    Path(path_to_landmarks) / filename_ref /f\"registered/floating_landmarks.tif\"\n",
    ")\n",
    "reference_landmarks = reconstruction.add_centermass(reference_landmarks)\n",
    "floating_landmarks = reconstruction.add_centermass(floating_landmarks)\n",
    "\n",
    "# loading the raw landmarks, before the registration\n",
    "reference_landmarks_notreg = tifffile.imread(\n",
    "    Path(path_to_landmarks) / filename_ref / f\"raw/reference_landmarks.tif\"\n",
    ")\n",
    "floating_landmarks_notreg = tifffile.imread(\n",
    "    Path(path_to_landmarks) / filename_ref /f\"raw/floating_landmarks.tif\"\n",
    ")\n",
    "reference_landmarks_notreg = reconstruction.add_centermass(\n",
    "    reference_landmarks_notreg\n",
    ")\n",
    "floating_landmarks_notreg = reconstruction.add_centermass(\n",
    "    floating_landmarks_notreg\n",
    ")\n",
    "\n",
    "# plotting the center of the image\n",
    "image_center = np.zeros_like(reference_landmarks)\n",
    "z, y, x = np.array(reference_landmarks.shape) / 2\n",
    "image_center[\n",
    "    int(z) - 10 : int(z) + 10,\n",
    "    int(y) - 10 : int(y) + 10,\n",
    "    int(x) - 10 : int(x) + 10,\n",
    "] = 100\n",
    "\n",
    "reconstruction.check_napari(\n",
    "    path_data=rf\"{path}\\{filename_ref}\",\n",
    "    reference_image=reference_landmarks,\n",
    "    floating_image=floating_landmarks,\n",
    "    additional_images=[\n",
    "        reference_landmarks_notreg,\n",
    "        floating_landmarks_notreg,\n",
    "        image_center,\n",
    "    ],\n",
    "    names_additional_images=[\n",
    "        \"reference_landmarks_notreg\",\n",
    "        \"floating_landmarks_notreg\",\n",
    "        \"image_center\",\n",
    "    ],\n",
    "    scale=scale,\n",
    "    labels=True,\n",
    ")"
   ]
  },
  {
   "cell_type": "code",
   "execution_count": null,
   "id": "677d7bbd",
   "metadata": {},
   "outputs": [],
   "source": []
  }
 ],
 "metadata": {
  "kernelspec": {
   "display_name": "Python 3 (ipykernel)",
   "language": "python",
   "name": "python3"
  },
  "language_info": {
   "codemirror_mode": {
    "name": "ipython",
    "version": 3
   },
   "file_extension": ".py",
   "mimetype": "text/x-python",
   "name": "python",
   "nbconvert_exporter": "python",
   "pygments_lexer": "ipython3",
   "version": "3.10.13"
  }
 },
 "nbformat": 4,
 "nbformat_minor": 5
}
