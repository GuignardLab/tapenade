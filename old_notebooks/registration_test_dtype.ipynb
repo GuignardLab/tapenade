{
 "cells": [
  {
   "cell_type": "markdown",
   "id": "ed08f86b",
   "metadata": {},
   "source": [
    "# Registration Notebook"
   ]
  },
  {
   "cell_type": "code",
   "execution_count": 1,
   "id": "0d08deec",
   "metadata": {},
   "outputs": [
    {
     "name": "stderr",
     "output_type": "stream",
     "text": [
      "c:\\Users\\gros\\Anaconda3\\envs\\organoid-env\\lib\\site-packages\\IO\\IO.py:26: UserWarning: KLB library is not installed\n",
      "  warnings.warn(\"KLB library is not installed\")\n"
     ]
    },
    {
     "name": "stdout",
     "output_type": "stream",
     "text": [
      "pyklb library not found, klb files will not be generated\n"
     ]
    }
   ],
   "source": [
    "from organoid import preprocessing\n",
    "from organoid import reconstruction\n",
    "import numpy as np\n",
    "import tifffile\n",
    "from pathlib import Path\n",
    "from glob import glob"
   ]
  },
  {
   "cell_type": "markdown",
   "id": "b44eaa2b",
   "metadata": {},
   "source": [
    "Register automatically\n",
    "\n",
    "To register your floating image onto the reference one, you should have an idea of the transformation to apply.  From this approximative initial transformation, the algorithm will find the exact transformation to match the 2 sides.\n",
    "\n",
    "If your image has multiple channels, one will be the reference one, registered first. The second part of the code executes the registration for the other channels, using the same transformation as computed for the reference."
   ]
  },
  {
   "cell_type": "code",
   "execution_count": 41,
   "id": "7dc89d89",
   "metadata": {},
   "outputs": [
    {
     "name": "stdout",
     "output_type": "stream",
     "text": [
      "uint16\n"
     ]
    }
   ],
   "source": [
    "path= rf'C:\\Users\\gros\\Desktop\\DATA\\reg_test\\test'\n",
    "ref = tifffile.imread(rf'{path}\\C1-01.tif')\n",
    "# floatim = tifffile.imread(rf'{path}\\2_top_dapi.tif')\n",
    "print(ref.dtype)#,floatim.dtype)\n",
    "# name='f32'\n",
    "# tifffile.imwrite(rf'{path}\\ref_{name}.tif',(ref).astype(np.float32))\n",
    "# tifffile.imwrite(rf'{path}\\floatim_{name}.tif',(floatim).astype(np.float32))\n",
    "\n",
    "# print(tifffile.imread(rf'{path}\\ref_{name}.tif').dtype)"
   ]
  },
  {
   "cell_type": "code",
   "execution_count": 38,
   "id": "5f5c2e08",
   "metadata": {},
   "outputs": [
    {
     "name": "stdout",
     "output_type": "stream",
     "text": [
      "{'path_to_data': 'C:\\\\Users\\\\gros\\\\Desktop\\\\DATA\\\\reg_test\\\\test', 'ref_im': 'ref_f32.tif', 'flo_ims': ['floatim_f32.tif'], 'compute_trsf': 1, 'init_trsfs': [['trans', 'X', 0, 'trans', 'Y', 0, 'trans', 'Z', 0, 'rot', 'X', -180, 'rot', 'Y', 0, 'rot', 'Z', 0, 'trans', 'X', -80, 'trans', 'Y', 11, 'trans', 'Z', -11]], 'trsf_paths': ['C:\\\\Users\\\\gros\\\\Desktop\\\\DATA\\\\reg_test\\\\test\\\\trsf'], 'trsf_types': ['rigid'], 'ref_voxel': [1, 1, 1], 'flo_voxels': [[1, 1, 1]], 'out_voxel': [1, 1, 1], 'test_init': 0, 'apply_trsf': 1, 'out_pattern': 'C:\\\\Users\\\\gros\\\\Desktop\\\\DATA\\\\reg_test\\\\test\\\\registered', 'begin': 1, 'end': 1, 'bbox_out': 1, 'image_interpolation': 'linear', 'padding': 0, 'registration_depth': 3, 'ordered_init_trsfs': True}\n",
      "Starting experiment\n",
      "The registration will run with the following arguments:\n",
      "\n",
      " File format \n",
      "path_to_data             : C:\\Users\\gros\\Desktop\\DATA\\reg_test\\test\n",
      "ref_im                   : ref_f32.tif\n",
      "flo_ims                  : floatim_f32.tif\n",
      "init_trsfs               : ['trans', 'X', 0, 'trans', 'Y', 0, 'trans', 'Z', 0, 'rot', 'X', -180, 'rot', 'Y', 0, 'rot', 'Z', 0, 'trans', 'X', -80, 'trans', 'Y', 11, 'trans', 'Z', -11]\n",
      "trsf_types               : rigid\n",
      "ref_voxel                : 1.000000 x 1.000000 x 1.000000\n",
      "flo_voxels               : 1.000000 x 1.000000 x 1.000000\n",
      "out_voxel                : 1.000000 x 1.000000 x 1.000000\n",
      "out_pattern              : C:\\Users\\gros\\Desktop\\DATA\\reg_test\\test\\registered\n",
      "\n",
      "{'XResolution': 1, 'YResolution': 1, 'spacing': 1}\n"
     ]
    }
   ],
   "source": [
    "reconstruction.register(\n",
    "    path_data=Path(path) ,\n",
    "    path_transformation=Path(path) / \"trsf\",\n",
    "    path_registered_data=Path(path) / \"registered\",\n",
    "    reference_image=f\"ref_{name}.tif\",\n",
    "    floating_image=f\"floatim_{name}.tif\",\n",
    "    input_voxel=[1,1,1],\n",
    "    output_voxel=[1, 1, 1],\n",
    "    compute_trsf=1,\n",
    "    # example of transformation if the sample has been flipped between the 2 views.\n",
    "    # trans1 is a translation before the rotation, trans2 is a translation after the rotation.\n",
    "    # trans1=trans1,  # XYZ\n",
    "    rot=[180,0,0],\n",
    "    trans2=[11,-11,80],\n",
    "    test_init=0,\n",
    "    # other_trsf=trsf,\n",
    "    trsf_type=\"rigid\",\n",
    "    depth=3,\n",
    "    bbox=1,\n",
    "    save_json=Path(path),\n",
    ")"
   ]
  },
  {
   "cell_type": "markdown",
   "id": "753a47ef",
   "metadata": {},
   "source": [
    "Napari visualization (you need to have napari installed)"
   ]
  },
  {
   "cell_type": "code",
   "execution_count": 68,
   "id": "5948e87d",
   "metadata": {},
   "outputs": [],
   "source": [
    "# filename_ref = list_ref[0]\n",
    "# filename_float = list_float[0]\n",
    "channel = 'ecad'\n",
    "image = tifffile.imread(Path(path) / f\"{filename_ref}\" / 'registered' / f\"{filename_float}_{channel}.tif\" )\n",
    "scale = (1, 0.6,0.6)\n",
    "reconstruction.check_napari(\n",
    "    folder=Path(path) / f\"{filename_ref}\",\n",
    "    reference_image=f\"{filename_ref}_{channel}.tif\",\n",
    "    floating_image=f\"{filename_float}_{channel}.tif\",\n",
    "    scale=scale,\n",
    ")"
   ]
  },
  {
   "cell_type": "markdown",
   "id": "9d0d890c",
   "metadata": {},
   "source": [
    "Fuse the 2 registered sides into one array"
   ]
  },
  {
   "cell_type": "code",
   "execution_count": 35,
   "id": "3be6e9dd",
   "metadata": {},
   "outputs": [
    {
     "name": "stderr",
     "output_type": "stream",
     "text": [
      "C:\\Users\\gros\\Desktop\\CODES\\organoid\\src\\organoid\\reconstruction\\_reconstruct.py:499: RuntimeWarning: overflow encountered in exp\n",
      "  return 1 / (1 + np.exp(-p * (x - x0)))\n"
     ]
    }
   ],
   "source": [
    "for ch in channels:\n",
    "    image = reconstruction.fuse_sides(\n",
    "        path_registered_data=Path(path) / filename_ref / \"registered\",\n",
    "        reference_image_reg=f\"{filename_ref}_{ch}.tif\",\n",
    "        floating_image_reg=f\"{filename_float}_{ch}.tif\",\n",
    "        folder_output=Path(path) / filename_ref / \"fused\",\n",
    "        name_output=rf\"fuseddata2_{ch}.tif\",\n",
    "        slope_coeff=25,  # slope of the weight profile : 5 corresponds to a low slope, wide fusion width and 25 to a strong slope, very thin fusion width.\n",
    "    )"
   ]
  },
  {
   "cell_type": "markdown",
   "id": "6813afe5",
   "metadata": {},
   "source": [
    "Merge all the channels in one multichannel image"
   ]
  },
  {
   "cell_type": "code",
   "execution_count": 36,
   "id": "b99d45d6",
   "metadata": {},
   "outputs": [],
   "source": [
    "# the images should be named 'sampleid_channel.tif', eg 'fuseddata_dapi.tif', this depends on the argument \"name_output\" above.\n",
    "reconstruction.write_hyperstacks(\n",
    "    path=Path(path) / filename_ref / \"fused\",\n",
    "    sample_id=\"fuseddata2\",\n",
    "    channels=channels,\n",
    ")"
   ]
  },
  {
   "cell_type": "markdown",
   "id": "889bc65d",
   "metadata": {},
   "source": [
    "Optional : Registration using landmarks\n",
    "\n",
    "If the automatic registration is not satisfying, one option is to give more precise initial transformations to the algorithm.\n",
    "\n",
    "For that, you need to define landmarks, using for example the Napari plugin. One landmark is a feature that you recognize in both the reference image and the floating image, that you will need to pinpoint with a marker of given label, this label has to be an integer that has the same value in both image.\n",
    "\n",
    "Once you have at least 3 annotated landmarks (=3 labels in each image), give these landmarks to the manual_registration function, that will compute the transformation necessary to align them, and give this transformation as a starting point to the algorithm.\n"
   ]
  },
  {
   "cell_type": "code",
   "execution_count": null,
   "id": "caa40381",
   "metadata": {},
   "outputs": [
    {
     "name": "stdout",
     "output_type": "stream",
     "text": [
      "det(R) < R, reflection detected!, correcting for it ...\n",
      "{'path_to_bin': 'C:\\\\Users\\\\user\\\\Anaconda3\\\\envs\\\\organoid-env\\\\Library\\\\bin', 'path_to_data': 'C:\\\\Users\\\\gros\\\\Desktop\\\\DATA\\\\96h\\\\STD_ES_40X\\\\9_bottom\\\\raw', 'ref_im': '9_bottom_dapi.tif', 'flo_ims': ['12_top_dapi.tif'], 'compute_trsf': 1, 'init_trsfs': [['trans', 'X', 33.833333333333314, 'trans', 'Y', -6.0, 'trans', 'Z', 9.333333333333336, 'rot', 'X', -175.40241132863605, 'rot', 'Y', -3.530919075600975, 'rot', 'Z', -17.819612046606515, 'trans', 'X', -47.833333333333314, 'trans', 'Y', 30.0, 'trans', 'Z', -10.666666666666664]], 'trsf_paths': ['C:\\\\Users\\\\gros\\\\Desktop\\\\DATA\\\\96h\\\\STD_ES_40X\\\\9_bottom\\\\trsf'], 'trsf_types': ['rigid'], 'ref_voxel': [1, 1, 1], 'flo_voxels': [[1, 1, 1]], 'out_voxel': [1, 1, 1], 'test_init': 0, 'apply_trsf': 1, 'out_pattern': 'C:\\\\Users\\\\gros\\\\Desktop\\\\DATA\\\\96h\\\\STD_ES_40X\\\\9_bottom\\\\registered', 'begin': 1, 'end': 1, 'bbox_out': 1, 'image_interpolation': 'linear', 'padding': 0, 'registration_depth': 3, 'ordered_init_trsfs': True}\n",
      "we are here\n",
      "Binary path could not be found, will try with global call\n",
      "Starting experiment\n",
      "The registration will run with the following arguments:\n",
      "\n",
      " File format \n",
      "path_to_data             : C:\\Users\\gros\\Desktop\\DATA\\96h\\STD_ES_40X\\9_bottom\\raw\n",
      "ref_im                   : 9_bottom_dapi.tif\n",
      "flo_ims                  : 12_top_dapi.tif\n",
      "init_trsfs               : ['trans', 'X', 33.833333333333314, 'trans', 'Y', -6.0, 'trans', 'Z', 9.333333333333336, 'rot', 'X', -175.40241132863605, 'rot', 'Y', -3.530919075600975, 'rot', 'Z', -17.819612046606515, 'trans', 'X', -47.833333333333314, 'trans', 'Y', 30.0, 'trans', 'Z', -10.666666666666664]\n",
      "trsf_types               : rigid\n",
      "ref_voxel                : 1.000000 x 1.000000 x 1.000000\n",
      "flo_voxels               : 1.000000 x 1.000000 x 1.000000\n",
      "out_voxel                : 1.000000 x 1.000000 x 1.000000\n",
      "out_pattern              : C:\\Users\\gros\\Desktop\\DATA\\96h\\STD_ES_40X\\9_bottom\\registered\n",
      "\n"
     ]
    },
    {
     "name": "stderr",
     "output_type": "stream",
     "text": [
      "C:\\Users\\gros\\Desktop\\CODES\\organoid\\src\\organoid\\reconstruction\\_reconstruct.py:236: FutureWarning: `rcond` parameter will change to the default of machine precision times ``max(M, N)`` where M and N are the input matrix dimensions.\n",
      "To use the future default and silence this warning we advise to pass `rcond=None`, to keep using the old, explicitly pass `rcond=-1`.\n",
      "  trsf = np.linalg.lstsq(trsf, np.identity(4))[0]\n"
     ]
    },
    {
     "name": "stdout",
     "output_type": "stream",
     "text": [
      "{'XResolution': 1, 'YResolution': 1, 'spacing': 1}\n"
     ]
    }
   ],
   "source": [
    "filename_ref = list_ref[0]\n",
    "filename_float = list_float[0]\n",
    "scale = (1, 1, 1)\n",
    "path_to_landmarks = rf'C:\\Users\\gros\\Desktop\\DATA\\96h\\STD_ES_40X\\{filename_ref}'\n",
    "reference_landmarks = tifffile.imread(\n",
    "    Path(path_to_landmarks) / f\"reference_landmarks.tif\"\n",
    ")\n",
    "floating_landmarks = tifffile.imread(\n",
    "    Path(path_to_landmarks) / f\"floating_landmarks.tif\"\n",
    ")\n",
    "reference_landmarks = reference_landmarks.astype(np.uint16)\n",
    "floating_landmarks = floating_landmarks.astype(np.uint16)\n",
    "channel = \"dapi\"\n",
    "\n",
    "rot, trans1, trans2 = reconstruction.manual_registration_fct(\n",
    "    reference_landmarks=reference_landmarks,\n",
    "    floating_landmarks=floating_landmarks,\n",
    "    scale=(1, 1, 1),\n",
    ")\n",
    "\n",
    "rot=[rot[2],rot[1],rot[0]]\n",
    "\n",
    "reconstruction.register(\n",
    "    path_data=Path(path) / filename_ref / \"raw\",\n",
    "    path_transformation=Path(path) / filename_ref / \"trsf\",\n",
    "    path_registered_data=Path(path) / filename_ref / \"registered\",\n",
    "    path_to_bin=path_to_bin,\n",
    "    reference_image=f\"{filename_ref}_{channel}.tif\",\n",
    "    floating_image=f\"{filename_float}_{channel}.tif\",\n",
    "    input_voxel=[\n",
    "        1,\n",
    "        1,\n",
    "        1,\n",
    "    ],  # if you use landmarks, better use the same voxel size in and out\n",
    "    output_voxel=[1, 1, 1],\n",
    "    compute_trsf=1,\n",
    "    rot=rot,\n",
    "    trans1=trans1,\n",
    "    trans2=trans2,\n",
    "    test_init=0,\n",
    "    trsf_type=\"rigid\",\n",
    "    depth=3,\n",
    "    bbox=1,\n",
    "    save_json=\"\",\n",
    ")"
   ]
  },
  {
   "cell_type": "code",
   "execution_count": null,
   "id": "66a20cb1",
   "metadata": {},
   "outputs": [],
   "source": []
  },
  {
   "cell_type": "markdown",
   "id": "ec8831d7",
   "metadata": {},
   "source": [
    "Debug : register the landmarks images and plot the result to see if the transformation is correct"
   ]
  },
  {
   "cell_type": "code",
   "execution_count": null,
   "id": "89b98bbe",
   "metadata": {},
   "outputs": [
    {
     "name": "stdout",
     "output_type": "stream",
     "text": [
      "[0 1 2 3] (151, 512, 512)\n",
      "[0 1 2 3] (151, 512, 512)\n"
     ]
    },
    {
     "name": "stderr",
     "output_type": "stream",
     "text": [
      "C:\\Users\\gros\\Desktop\\CODES\\organoid\\src\\organoid\\reconstruction\\_reconstruct.py:231: FutureWarning: `rcond` parameter will change to the default of machine precision times ``max(M, N)`` where M and N are the input matrix dimensions.\n",
      "To use the future default and silence this warning we advise to pass `rcond=None`, to keep using the old, explicitly pass `rcond=-1`.\n",
      "  trsf = np.linalg.lstsq(trsf, np.identity(4))[0]\n"
     ]
    },
    {
     "name": "stdout",
     "output_type": "stream",
     "text": [
      "{'path_to_bin': 'C:\\\\Users\\\\gros\\\\Anaconda3\\\\envs\\\\organoid-env\\\\Library\\\\bin', 'path_to_data': 'C:\\\\Users\\\\gros\\\\Desktop\\\\DATA\\\\Valentin\\\\48_12h_Hoechst_Ecad_Bra_Sox2\\\\1_bottom_norm\\\\raw', 'ref_im': 'reference_landmarks.tif', 'flo_ims': ['floating_landmarks.tif'], 'compute_trsf': 1, 'init_trsfs': [['trans', 'X', 32.666666666666686, 'trans', 'Y', 63.666666666666686, 'trans', 'Z', -17.5, 'rot', 'X', -167.9252700050755, 'rot', 'Y', -3.9970322766327255, 'rot', 'Z', -20.80354577451683, 'trans', 'X', -8.0, 'trans', 'Y', 88.66666666666666, 'trans', 'Z', 15.833333333333336]], 'trsf_paths': ['C:\\\\Users\\\\gros\\\\Desktop\\\\DATA\\\\Valentin\\\\48_12h_Hoechst_Ecad_Bra_Sox2\\\\1_bottom_norm\\\\trsf'], 'trsf_types': ['rigid'], 'ref_voxel': [1, 1, 1], 'flo_voxels': [[1, 1, 1]], 'out_voxel': [1, 1, 1], 'test_init': 1, 'apply_trsf': 1, 'out_pattern': 'C:\\\\Users\\\\gros\\\\Desktop\\\\DATA\\\\Valentin\\\\48_12h_Hoechst_Ecad_Bra_Sox2\\\\1_bottom_norm\\\\registered', 'begin': 1, 'end': 1, 'bbox_out': 1, 'image_interpolation': 'linear', 'padding': 0, 'registration_depth': 3, 'ordered_init_trsfs': True}\n",
      "Starting experiment\n",
      "The registration will run with the following arguments:\n",
      "\n",
      " File format \n",
      "path_to_data             : C:\\Users\\gros\\Desktop\\DATA\\Valentin\\48_12h_Hoechst_Ecad_Bra_Sox2\\1_bottom_norm\\raw\n",
      "ref_im                   : reference_landmarks.tif\n",
      "flo_ims                  : floating_landmarks.tif\n",
      "init_trsfs               : ['trans', 'X', 32.666666666666686, 'trans', 'Y', 63.666666666666686, 'trans', 'Z', -17.5, 'rot', 'X', -167.9252700050755, 'rot', 'Y', -3.9970322766327255, 'rot', 'Z', -20.80354577451683, 'trans', 'X', -8.0, 'trans', 'Y', 88.66666666666666, 'trans', 'Z', 15.833333333333336]\n",
      "trsf_types               : rigid\n",
      "ref_voxel                : 1.000000 x 1.000000 x 1.000000\n",
      "flo_voxels               : 1.000000 x 1.000000 x 1.000000\n",
      "out_voxel                : 1.000000 x 1.000000 x 1.000000\n",
      "out_pattern              : C:\\Users\\gros\\Desktop\\DATA\\Valentin\\48_12h_Hoechst_Ecad_Bra_Sox2\\1_bottom_norm\\registered\n",
      "\n",
      "[ 17.5        -63.66666667 -32.66666667] [167.9252700050755, 3.9970322766327255, 20.80354577451683] [-15.83333333 -88.66666667   8.        ]\n"
     ]
    }
   ],
   "source": [
    "path_to_landmarks = path\n",
    "path_to_bin = rf'C:\\Users\\gros\\Anaconda3\\envs\\organoid-env\\Library\\bin'\n",
    "reference_landmarks = tifffile.imread(\n",
    "    Path(path_to_landmarks) / filename_ref/ f\"raw/reference_landmarks.tif\"\n",
    ")\n",
    "floating_landmarks = tifffile.imread(\n",
    "    Path(path_to_landmarks) / filename_ref / f\"raw/floating_landmarks.tif\"\n",
    ")\n",
    "\n",
    "reference_landmarks = reference_landmarks.astype(np.uint16)\n",
    "floating_landmarks = floating_landmarks.astype(np.uint16)\n",
    "print(np.unique(reference_landmarks),np.shape(reference_landmarks))\n",
    "print(np.unique(floating_landmarks),np.shape(floating_landmarks))\n",
    "tifffile.imwrite(Path(path_to_landmarks) / filename_ref / f\"raw/floating_landmarks.tif\", floating_landmarks)\n",
    "tifffile.imwrite(Path(path_to_landmarks) / filename_ref / f\"raw/reference_landmarks.tif\", reference_landmarks)\n",
    "channel = \"dapi\"\n",
    "\n",
    "rot, trans1, trans2 = reconstruction.manual_registration_fct(\n",
    "    reference_landmarks=reference_landmarks,\n",
    "    floating_landmarks=floating_landmarks,\n",
    "    scale=(1, 1, 1),\n",
    ")\n",
    "# trans2=[0,0,0]\n",
    "rot=[rot[2],rot[1],rot[0]]\n",
    "reconstruction.register(\n",
    "    path_data=Path(path_to_landmarks) / filename_ref / \"raw\",\n",
    "    path_transformation=Path(path_to_landmarks) / filename_ref / \"trsf\",\n",
    "    path_registered_data=Path(path_to_landmarks) / filename_ref / \"registered\",\n",
    "    path_to_bin=path_to_bin,\n",
    "    reference_image=f\"reference_landmarks.tif\",  # they have to be in 16bit to be registered\n",
    "    floating_image=f\"floating_landmarks.tif\",\n",
    "    input_voxel=[1, 1, 1],\n",
    "    output_voxel=[1, 1, 1],\n",
    "    compute_trsf=1,\n",
    "    trans1=trans1,\n",
    "    trans2=trans2,\n",
    "    rot=rot,\n",
    "    test_init=1,  # keep test_init=1 to see only the provided tranformation\n",
    "    trsf_type=\"rigid\",\n",
    "    depth=3,\n",
    "    save_json=Path(path_to_landmarks) / filename_ref,\n",
    ")\n",
    "print(trans1,rot,trans2)\n",
    "# loading the output and add articially the center of mass of the points, to see how well they align\n",
    "\n",
    "reference_landmarks = tifffile.imread(\n",
    "    Path(path_to_landmarks) / filename_ref / f\"raw/reference_landmarks.tif\"\n",
    ")\n",
    "floating_landmarks = tifffile.imread(\n",
    "    Path(path_to_landmarks) / filename_ref /f\"registered/floating_landmarks.tif\"\n",
    ")\n",
    "reference_landmarks = reconstruction.add_centermass(reference_landmarks)\n",
    "floating_landmarks = reconstruction.add_centermass(floating_landmarks)\n",
    "\n",
    "# loading the raw landmarks, before the registration\n",
    "reference_landmarks_notreg = tifffile.imread(\n",
    "    Path(path_to_landmarks) / filename_ref / f\"raw/reference_landmarks.tif\"\n",
    ")\n",
    "floating_landmarks_notreg = tifffile.imread(\n",
    "    Path(path_to_landmarks) / filename_ref /f\"raw/floating_landmarks.tif\"\n",
    ")\n",
    "reference_landmarks_notreg = reconstruction.add_centermass(\n",
    "    reference_landmarks_notreg\n",
    ")\n",
    "floating_landmarks_notreg = reconstruction.add_centermass(\n",
    "    floating_landmarks_notreg\n",
    ")\n",
    "\n",
    "# plotting the center of the image\n",
    "image_center = np.zeros_like(reference_landmarks)\n",
    "z, y, x = np.array(reference_landmarks.shape) / 2\n",
    "image_center[\n",
    "    int(z) - 10 : int(z) + 10,\n",
    "    int(y) - 10 : int(y) + 10,\n",
    "    int(x) - 10 : int(x) + 10,\n",
    "] = 100\n",
    "\n",
    "reconstruction.check_napari(\n",
    "    path_data=rf\"{path}\\{filename_ref}\",\n",
    "    reference_image=reference_landmarks,\n",
    "    floating_image=floating_landmarks,\n",
    "    additional_images=[\n",
    "        reference_landmarks_notreg,\n",
    "        floating_landmarks_notreg,\n",
    "        image_center,\n",
    "    ],\n",
    "    names_additional_images=[\n",
    "        \"reference_landmarks_notreg\",\n",
    "        \"floating_landmarks_notreg\",\n",
    "        \"image_center\",\n",
    "    ],\n",
    "    scale=scale,\n",
    "    labels=True,\n",
    ")"
   ]
  },
  {
   "cell_type": "code",
   "execution_count": null,
   "id": "677d7bbd",
   "metadata": {},
   "outputs": [],
   "source": []
  }
 ],
 "metadata": {
  "kernelspec": {
   "display_name": "Python 3 (ipykernel)",
   "language": "python",
   "name": "python3"
  },
  "language_info": {
   "codemirror_mode": {
    "name": "ipython",
    "version": 3
   },
   "file_extension": ".py",
   "mimetype": "text/x-python",
   "name": "python",
   "nbconvert_exporter": "python",
   "pygments_lexer": "ipython3",
   "version": "3.10.13"
  }
 },
 "nbformat": 4,
 "nbformat_minor": 5
}
