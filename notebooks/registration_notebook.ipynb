{
 "cells": [
  {
   "cell_type": "markdown",
   "id": "ed08f86b",
   "metadata": {},
   "source": [
    "# Registration Notebook"
   ]
  },
  {
   "cell_type": "code",
   "execution_count": null,
   "id": "0d08deec",
   "metadata": {},
   "outputs": [],
   "source": [
    "from organoid import preprocessing\n",
    "from organoid import reconstruction\n",
    "import numpy as np\n",
    "import tifffile\n",
    "from pathlib import Path"
   ]
  },
  {
   "cell_type": "markdown",
   "id": "c96a28c3",
   "metadata": {},
   "source": [
    "Before the registration, if necesary, plot the positions of all samples, to match the two sides"
   ]
  },
  {
   "cell_type": "code",
   "execution_count": null,
   "id": "1795d17c",
   "metadata": {},
   "outputs": [],
   "source": [
    "path = ...\n",
    "reconstruction.plot_positions(\n",
    "    path_bottom_positions = Path(path) / f\"multipoints_bottom.xml\",\n",
    "    path_top_positions = Path(path) / f\"multipoints_top.xml\",\n",
    ")"
   ]
  },
  {
   "cell_type": "markdown",
   "id": "a07b1262",
   "metadata": {},
   "source": [
    "Give the path to your data"
   ]
  },
  {
   "cell_type": "code",
   "execution_count": null,
   "id": "5e4473c2",
   "metadata": {},
   "outputs": [],
   "source": [
    "path = ...\n",
    "path_to_bin = ...\n",
    "channels = [\"dapi\",\"ecad\"]\n",
    "list_ref = [\"data_bot\"]\n",
    "list_float = [\"data_top\"]"
   ]
  },
  {
   "cell_type": "markdown",
   "id": "b88b5bdb",
   "metadata": {},
   "source": [
    "Create folder structure"
   ]
  },
  {
   "cell_type": "code",
   "execution_count": null,
   "id": "575de57e",
   "metadata": {},
   "outputs": [],
   "source": [
    "reconstruction.create_folders(\n",
    "    path, list_ref=list_ref, list_float=list_float, channels=channels\n",
    ")"
   ]
  },
  {
   "cell_type": "markdown",
   "id": "b44eaa2b",
   "metadata": {},
   "source": [
    "Register automatically"
   ]
  },
  {
   "cell_type": "code",
   "execution_count": null,
   "id": "5f5c2e08",
   "metadata": {},
   "outputs": [],
   "source": [
    "# from now on, we consider only one sample. If you have multiple samples, you can loop : list_ref[i]\n",
    "filename_ref = list_ref[0]\n",
    "filename_float = list_float[0]\n",
    "\n",
    "channel_reference = \"dapi\"\n",
    "\n",
    "# register the reference channel first\n",
    "reconstruction.register(\n",
    "    path_data = Path(path) / f\"{filename_ref}/raw\",\n",
    "    path_transformation = Path(path) / f\"{filename_ref}/trsf\",\n",
    "    path_registered_data = Path(path) / f\"{filename_ref}/registered\",\n",
    "    path_to_bin = path_to_bin,\n",
    "    reference_image = f\"{filename_ref}_{channel_reference}.tif\",\n",
    "    floating_image = f\"{filename_float}_{channel_reference}.tif\",\n",
    "    input_voxel = [1,1,1],\n",
    "    output_voxel = [1,1,1],\n",
    "    compute_trsf = 1,\n",
    "    init_trsfs = [\n",
    "        [\"rot\", \"Z\", 180, \"rot\", \"Y\", 180, \"trans\", \"Z\", -40]\n",
    "    ],  # example of transformation if the sample has been flipped between the 2 views\n",
    "    test_init = 0,\n",
    "    trsf_type = \"rigid\",\n",
    "    depth = 3,\n",
    "    bbox = 1,\n",
    "    save_json = Path(path) / f\"{filename_ref}\",\n",
    ")\n",
    "# and the others using the same transformation\n",
    "for channel in channels[\n",
    "    1:\n",
    "]:  # (we skip the reference channel that we assumed is the first)\n",
    "    print(channel)\n",
    "    reconstruction.register(\n",
    "        path_data = Path(path) / f\"{filename_ref}/raw\",\n",
    "        path_transformation = Path(path) / f\"{filename_ref}/trsf\",\n",
    "        path_registered_data = Path(path) / f\"{filename_ref}/registered\",\n",
    "        path_to_bin = path_to_bin,\n",
    "        reference_image = f\"{filename_ref}_{channel_reference}.tif\",\n",
    "        floating_image = f\"{filename_float}_{channel_reference}.tif\",\n",
    "        input_voxel = [1,1,1],\n",
    "        output_voxel = [1, 1, 1],\n",
    "        compute_trsf = 0 # we do not compute the transformation, we use the same transformation as the reference channel\n",
    "    )"
   ]
  },
  {
   "cell_type": "markdown",
   "id": "28e7765c",
   "metadata": {},
   "source": [
    "Optional : Registration using landmarks (if the automatic registration fails)"
   ]
  },
  {
   "cell_type": "code",
   "execution_count": null,
   "id": "1d0d2c82",
   "metadata": {},
   "outputs": [],
   "source": [
    "# optional : if the automatic registration is not satisfying, you can give some initial transformations to the function\n",
    "# once you have annotated landmarks in the reference and floating images, give these landmarks to the manual_registration fct\n",
    "filename_ref = list_ref[0]\n",
    "filename_float = list_float[0]\n",
    "scale = (1, 1, 1)\n",
    "path_to_landmarks = ...\n",
    "reference_landmarks = tifffile.imread(\n",
    "     Path(path_to_landmarks) / f\"reference_landmarks.tif\"\n",
    ")\n",
    "floating_landmarks = tifffile.imread(\n",
    "    Path(path_to_landmarks) / f\"floating_landmarks.tif\"\n",
    ")\n",
    "reference_landmarks = reference_landmarks.astype(np.uint16)\n",
    "floating_landmarks = floating_landmarks.astype(np.uint16)\n",
    "channel = \"dapi\"\n",
    "rot, trans1, trans2 = reconstruction.manual_registration_fct(\n",
    "    reference_landmarks = reference_landmarks,\n",
    "    floating_landmarks = floating_landmarks,\n",
    "    scale=(1, 1, 1),\n",
    ")\n",
    "\n",
    "init_trsfs = [\n",
    "    [\n",
    "        \"trans\",\n",
    "        \"X\",\n",
    "        -trans1[2],\n",
    "        \"trans\",\n",
    "        \"Y\",\n",
    "        -trans1[1],\n",
    "        \"trans\",\n",
    "        \"Z\",\n",
    "        -trans1[0],\n",
    "        \"rot\",\n",
    "        \"X\",\n",
    "        -rot[0],\n",
    "        \"rot\",\n",
    "        \"Y\",\n",
    "        -rot[1],\n",
    "        \"rot\",\n",
    "        \"Z\",\n",
    "        -rot[2],\n",
    "        \"trans\",\n",
    "        \"X\",\n",
    "        -trans2[2],\n",
    "        \"trans\",\n",
    "        \"Y\",\n",
    "        -trans2[1],\n",
    "        \"trans\",\n",
    "        \"Z\",\n",
    "        -trans2[0],\n",
    "    ]\n",
    "]\n",
    "reconstruction.register(\n",
    "    path_data = Path(path_to_landmarks) / f\"{filename_ref}/raw\",\n",
    "    path_transformation = Path(path_to_landmarks) / f\"{filename_ref}/trsf\",\n",
    "    path_registered_data = Path(path_to_landmarks) / f\"{filename_ref}/registered\",\n",
    "    path_to_bin = path_to_bin,\n",
    "    reference_image = f\"{filename_ref}_{channel}.tif\",\n",
    "    floating_image = f\"{filename_float}_{channel}.tif\",\n",
    "    input_voxel = [1,1,1],  # if you use landmarks, better use the same voxel size in and out\n",
    "    output_voxel = [1,1,1],\n",
    "    compute_trsf = 1,\n",
    "    init_trsfs = init_trsfs,\n",
    "    test_init = 0,\n",
    "    trsf_type = \"rigid\",\n",
    "    depth = 3,\n",
    "    bbox = 0,\n",
    "    save_json = \"\",\n",
    ")"
   ]
  },
  {
   "cell_type": "markdown",
   "id": "753a47ef",
   "metadata": {},
   "source": [
    "Napari visualization"
   ]
  },
  {
   "cell_type": "code",
   "execution_count": null,
   "id": "5948e87d",
   "metadata": {},
   "outputs": [],
   "source": [
    "filename_ref = list_ref[0]\n",
    "filename_float = list_float[0]\n",
    "channel = channels[0]\n",
    "scale = (1, 1, 1)\n",
    "reconstruction.check_napari(\n",
    "    path_data = Path(path) / f\"{filename_ref}\",\n",
    "    reference_image=f\"{filename_ref}_{channel}.tif\",\n",
    "    floating_image=f\"{filename_float}_{channel}.tif\",\n",
    "    scale=scale,\n",
    ")"
   ]
  },
  {
   "cell_type": "markdown",
   "id": "9d0d890c",
   "metadata": {},
   "source": [
    "Fuse the 2 registered sides into one array"
   ]
  },
  {
   "cell_type": "code",
   "execution_count": null,
   "id": "3be6e9dd",
   "metadata": {},
   "outputs": [],
   "source": [
    "filename_ref = list_ref[0]\n",
    "filename_float = list_float[0]\n",
    "for ch in channels:\n",
    "    reconstruction.fuse_sides(\n",
    "        path_registered_data = Path(path) / f\"{filename_ref}/registered\",\n",
    "        reference_image_reg = f\"{filename_ref}_{ch}.tif\",\n",
    "        floating_image_reg = f\"{filename_float}_{ch}.tif\",\n",
    "        folder_output = Path(path) / f\"{filename_ref}/fused\",\n",
    "        name_output = rf\"data_{ch}_fused.tif\",\n",
    "        slope_coeff = 10,\n",
    "    )"
   ]
  },
  {
   "cell_type": "markdown",
   "id": "6813afe5",
   "metadata": {},
   "source": [
    "Merge all the channels in one hyperstack image"
   ]
  },
  {
   "cell_type": "code",
   "execution_count": null,
   "id": "b99d45d6",
   "metadata": {},
   "outputs": [],
   "source": [
    "# the images should be named 'sampleid_channel_fused.tif', eg '1_dapi_fused.tif'\n",
    "reconstruction.write_hyperstacks(\n",
    "    Path(path) / f\"{filename_ref}/fused\",\n",
    "    sample_id = \"data\",\n",
    "    channels= channels\n",
    ")"
   ]
  },
  {
   "cell_type": "markdown",
   "id": "ec8831d7",
   "metadata": {},
   "source": [
    "Debug : register the landmarks images and plot the result to see if the transformation is correct"
   ]
  },
  {
   "cell_type": "code",
   "execution_count": null,
   "id": "89b98bbe",
   "metadata": {},
   "outputs": [],
   "source": [
    "path_to_landmarks = ...\n",
    "\n",
    "init_trsfs=[[\"rot\", \"Z\", 180]]\n",
    "reconstruction.register(\n",
    "    path_data = Path(path_to_landmarks) / f\"{filename_ref}/raw\",\n",
    "    path_transformation = Path(path_to_landmarks) / f\"{filename_ref}/trsf\",\n",
    "    path_registered_data = Path(path_to_landmarks) / f\"{filename_ref}/registered\",\n",
    "    path_to_bin=path_to_bin,\n",
    "    reference_image=f\"reference_landmarks.tif\",  # they have to be in 16bit to be registered\n",
    "    floating_image=f\"floating_landmarks.tif\",\n",
    "    input_voxel=[1, 1, 1],\n",
    "    output_voxel=[1, 1, 1],\n",
    "    compute_trsf=1,\n",
    "    init_trsfs=init_trsfs,\n",
    "    test_init=1,  # keep test_init=1 to see only the provided tranformation\n",
    "    trsf_type=\"rigid\",\n",
    "    depth=3,\n",
    "    save_json = Path(path) / f\"{filename_ref}\",\n",
    ")\n",
    "\n",
    "# loading the input to add articially the center of mass of the points, to see how well they align\n",
    "\n",
    "reference_landmarks = tifffile.imread(\n",
    "     Path(path_to_landmarks) / f\"registered/reference_landmarks.tif\"\n",
    ")\n",
    "floating_landmarks = tifffile.imread(\n",
    "    Path(path_to_landmarks) / f\"registered/floating_landmarks.tif\"\n",
    ")\n",
    "reference_landmarks = reconstruction.add_centermass(reference_landmarks)\n",
    "floating_landmarks = reconstruction.add_centermass(floating_landmarks)\n",
    "\n",
    "# loading the raw landmarks, before the registartion\n",
    "reference_landmarks_notreg = tifffile.imread(\n",
    "     Path(path_to_landmarks) / f\"raw/reference_landmarks.tif\"\n",
    ")\n",
    "floating_landmarks_notreg = tifffile.imread(\n",
    "    Path(path_to_landmarks) / f\"raw/floating_landmarks.tif\"\n",
    ")\n",
    "reference_landmarks_notreg = reconstruction.add_centermass(reference_landmarks_notreg)\n",
    "floating_landmarks_notreg = reconstruction.add_centermass(floating_landmarks_notreg)\n",
    "\n",
    "# plotting the center of the image\n",
    "image_center = np.zeros_like(reference_landmarks)\n",
    "z, y, x = np.array(reference_landmarks.shape) / 2\n",
    "image_center[\n",
    "    int(z) - 10 : int(z) + 10,\n",
    "    int(y) - 10 : int(y) + 10,\n",
    "    int(x) - 10 : int(x) + 10,\n",
    "] = 100\n",
    "\n",
    "reconstruction.check_napari(\n",
    "    path_data=rf\"{path}\\{filename_ref}\",\n",
    "    reference_image=reference_landmarks,\n",
    "    floating_image=floating_landmarks,\n",
    "    additional_images=[reference_landmarks_notreg, floating_landmarks_notreg, image_center],\n",
    "    names_additional_images=[\n",
    "        \"reference_landmarks_notreg\",\n",
    "        \"floating_landmarks_notreg\",\n",
    "        \"image_center\",\n",
    "    ],\n",
    "    scale=scale,\n",
    "    labels=True\n",
    ")"
   ]
  }
 ],
 "metadata": {
  "kernelspec": {
   "display_name": "Python 3 (ipykernel)",
   "language": "python",
   "name": "python3"
  },
  "language_info": {
   "codemirror_mode": {
    "name": "ipython",
    "version": 3
   },
   "file_extension": ".py",
   "mimetype": "text/x-python",
   "name": "python",
   "nbconvert_exporter": "python",
   "pygments_lexer": "ipython3",
   "version": "3.10.13"
  }
 },
 "nbformat": 4,
 "nbformat_minor": 5
}
