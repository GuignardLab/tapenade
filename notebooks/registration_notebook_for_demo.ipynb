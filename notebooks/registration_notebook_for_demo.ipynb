{
 "cells": [
  {
   "cell_type": "markdown",
   "id": "ed08f86b",
   "metadata": {},
   "source": [
    "# Registration Notebook"
   ]
  },
  {
   "cell_type": "markdown",
   "id": "3a729771",
   "metadata": {},
   "source": [
    "### <font color='red'> After clicking on a code cell, press \"Shift+Enter\" to run the code, or click on the \"Run\" button in the toolbar above.<br>\n",
    "\n",
    "### Replace \"...\" signs with the appropriate path to your data.\n",
    "</font>"
   ]
  },
  {
   "cell_type": "code",
   "execution_count": 1,
   "id": "0d08deec",
   "metadata": {},
   "outputs": [
    {
     "name": "stderr",
     "output_type": "stream",
     "text": [
      "c:\\Users\\gros\\Anaconda3\\envs\\env-tapenade\\lib\\site-packages\\IO\\IO.py:26: UserWarning: KLB library is not installed\n",
      "  warnings.warn(\"KLB library is not installed\")\n"
     ]
    },
    {
     "name": "stdout",
     "output_type": "stream",
     "text": [
      "pyklb library not found, klb files will not be generated\n"
     ]
    }
   ],
   "source": [
    "from tapenade import reconstruction\n",
    "import numpy as np\n",
    "import tifffile\n",
    "from pathlib import Path\n",
    "from tapenade import get_path_to_data"
   ]
  },
  {
   "cell_type": "markdown",
   "id": "c96a28c3",
   "metadata": {},
   "source": [
    "## Multipositions matching\n",
    "\n",
    "If you have xml files with the locations of multipositions, you can input them here to plot the positions of all samples and associate the order form the 2 views (in case they are not acquired in the same order)"
   ]
  },
  {
   "cell_type": "code",
   "execution_count": null,
   "id": "1795d17c",
   "metadata": {},
   "outputs": [
    {
     "name": "stdout",
     "output_type": "stream",
     "text": [
      "[1, 2, 3, 4, 5, 6, 7, 8] [5, 4, 6, 3, 2, 8, 1, 7]\n"
     ]
    },
    {
     "data": {
      "image/png": "[encoded data removed]",
      "text/plain": [
       "<Figure size 640x480 with 1 Axes>"
      ]
     },
     "metadata": {},
     "output_type": "display_data"
    }
   ],
   "source": [
    "path_to_data = Path(...)\n",
    "path_ref_positions = path_to_data / '96h_bottom_multipoints.xml'\n",
    "path_float_positions = path_to_data / '96h_top_multipoints.xml'\n",
    "\n",
    "reconstruction.plot_positions(\n",
    "    path_ref_positions=path_ref_positions,\n",
    "    path_float_positions=path_float_positions\n",
    ")\n",
    "ordered_numbers_ref, ordered_numbers_float=reconstruction.associate_positions(\n",
    "    path_ref_positions=path_ref_positions,\n",
    "    path_float_positions=path_float_positions\n",
    ")\n",
    "\n",
    "print(ordered_numbers_ref,ordered_numbers_float)"
   ]
  },
  {
   "cell_type": "markdown",
   "id": "a07b1262",
   "metadata": {},
   "source": [
    "## Paths and channels name\n",
    "\n",
    "If you used the function associate_positions, you can generate automatically the list_ref and list_float from the number paired above, bottom with top\n",
    "\n",
    "```list_ref = [\"{:01d}_view1\".format(i) for i in ordered_numbers_ref]```\n",
    "\n",
    "```list_float = [\"{:01d}_view2\".format(i) for i in ordered_numbers_float]```\n",
    "\n",
    "\n",
    "\n",
    "If you did not use the function associate_positions, you can define the list_ref and list_float manually,\n",
    "\n",
    "for example with 3 samples and 2 views :\n",
    "\n",
    "```list_ref=['1_ref','2_ref','3_ref']``` and ```list_float=['1_float','2_float','3_float']```\n",
    "\n",
    "\n"
   ]
  },
  {
   "cell_type": "code",
   "execution_count": null,
   "id": "5e4473c2",
   "metadata": {},
   "outputs": [],
   "source": [
    "# list_ref = [\"{:01d}_bottom\".format(i) for i in ordered_numbers_ref]\n",
    "# list_float = [\"{:01d}_top\".format(i) for i in ordered_numbers_float]\n",
    "list_ref = ['1_bottom']\n",
    "list_float = ['5_top']\n",
    "channels = [\n",
    "\"hoechst\",\n",
    "'ph3',\n",
    "'bra',\n",
    "'ecad'\n",
    "]  # example of channels. If you have only one channel, just put one element in the list\n",
    "\n",
    "#path where you have your data saved\n",
    "folder_experiment = Path(...)"
   ]
  },
  {
   "cell_type": "markdown",
   "id": "b87934e1",
   "metadata": {},
   "source": [
    "## Folder structure\n",
    "For each sample, 2 tif files, one for each view, with different names and located in the same folder.\n",
    "\n",
    "Datatype should be int16, uint16 or float32, otherwise no output will be saved.\n",
    "\n",
    "All files, reference and float, need to be in the folder_experiment\n",
    "\n",
    "The cell below creates the folder structure necessary for the registration. \n"
   ]
  },
  {
   "cell_type": "code",
   "execution_count": null,
   "id": "575de57e",
   "metadata": {},
   "outputs": [],
   "source": [
    "reconstruction.create_folders(\n",
    "    folder_experiment= folder_experiment,\n",
    "    list_ref=list_ref, list_float=list_float, channels=channels\n",
    ")"
   ]
  },
  {
   "cell_type": "markdown",
   "id": "b44eaa2b",
   "metadata": {},
   "source": [
    "## Register automatically\n",
    "\n",
    "To register your floating image onto the reference one, you should have an idea of the transformation to apply.  From this approximative initial transformation, the algorithm will find the exact transformation to match the 2 sides.\n",
    "\n",
    "If your image has multiple channels, one will be the reference one, registered first. The second part of the code executes the registration for the other channels, using the same transformation as computed for the reference."
   ]
  },
  {
   "cell_type": "code",
   "execution_count": 6,
   "id": "f1572b15",
   "metadata": {},
   "outputs": [],
   "source": [
    "i = 0\n",
    "filename_ref = list_ref[i]\n",
    "filename_float = list_float[i]\n",
    "input_voxel = [0.3,0.3,2] #voxel size of your input image (XYZ) for example [0.6,0.6,1]\n",
    "output_voxel = [0.3,0.3,2] #voxel size of the output registered image (XYZ), for example [1,1,1]\n",
    "channel_reference = 'hoechst'  #name of the ubiquitous channel\n",
    "##if you have a first idea of your tranformations (rotation, translation), you can input them here:\n",
    "rot= [180,0,0] #XYZ in degrees. ([180,0,0] is a rotation of 180 degrees around the X axis, that we use when flipping the sample)\n",
    "trans2= [0,0,0] #translation applied after the rotation, XYZ in voxels.\n"
   ]
  },
  {
   "cell_type": "code",
   "execution_count": null,
   "id": "5f5c2e08",
   "metadata": {},
   "outputs": [],
   "source": [
    "reconstruction.register(\n",
    "    path_data=Path(folder_experiment) / filename_ref / \"raw\",\n",
    "    path_transformation=Path(folder_experiment) / filename_ref / \"trsf\",\n",
    "    path_registered_data=Path(folder_experiment) / filename_ref / \"registered\",\n",
    "    reference_image=f\"{filename_ref}_{channel_reference}.tif\",\n",
    "    floating_image=f\"{filename_float}_{channel_reference}.tif\",\n",
    "    input_voxel=input_voxel,\n",
    "    output_voxel=output_voxel,\n",
    "    rot=rot,\n",
    "    trans2=trans2,\n",
    "    # input_init_trsf_from_plugin=... #path of the json file saved from the plugin\n",
    "    save_json=Path(folder_experiment) / filename_ref, #to save all parameters\n",
    ")\n",
    "\n",
    "##applying the same transformation to the other channels\n",
    "for channel in channels :\n",
    "    if channel != channel_reference:\n",
    "        reconstruction.register(\n",
    "            path_data=Path(folder_experiment) / filename_ref / \"raw\",\n",
    "            path_transformation =Path(folder_experiment) / filename_ref / \"trsf\",\n",
    "            path_registered_data=Path(folder_experiment) / filename_ref / \"registered\",\n",
    "            reference_image=f\"{filename_ref}_{channel}.tif\",\n",
    "            floating_image=f\"{filename_float}_{channel}.tif\",\n",
    "            input_voxel=input_voxel,\n",
    "            output_voxel=output_voxel,\n",
    "            compute_trsf=0,\n",
    "        )"
   ]
  },
  {
   "cell_type": "markdown",
   "id": "753a47ef",
   "metadata": {},
   "source": [
    "## Napari visualization\n",
    "(you need to have napari installed)"
   ]
  },
  {
   "cell_type": "code",
   "execution_count": null,
   "id": "5948e87d",
   "metadata": {},
   "outputs": [],
   "source": [
    "try:\n",
    "    import napari\n",
    "    napari_installed = True\n",
    "except ImportError:\n",
    "    print(\"napari is not installed, skipping visualization step.\")\n",
    "    napari_installed = False\n",
    "\n",
    "if napari_installed:\n",
    "    channel = channel_reference #by default, we visualize using the reference channel but you can replace it here by any other channel\n",
    "    scale = (output_voxel[2], output_voxel[1], output_voxel[0])\n",
    "    reconstruction.check_napari(\n",
    "        folder=Path(folder_experiment)/ f\"{filename_ref}\",\n",
    "        reference_image=f\"{filename_ref}_{channel}.tif\",\n",
    "        floating_image=f\"{filename_float}_{channel}.tif\",\n",
    "        scale=scale,\n",
    "    )"
   ]
  },
  {
   "cell_type": "markdown",
   "id": "de3ed98f",
   "metadata": {},
   "source": [
    "## Fusion of the two registered images into one image\n",
    "\n",
    "If it looks well registered, you can now fuse the 2 sides together and fuse the channels to create your new multichannel image.\n",
    "\n",
    "If you are not satisfied with the registration, adjust the initial transformations (rot, trans1, trans2), you can use the plugin napari-manual-registration to ensure giving accurate input parameters."
   ]
  },
  {
   "cell_type": "code",
   "execution_count": 7,
   "id": "3be6e9dd",
   "metadata": {},
   "outputs": [
    {
     "name": "stdout",
     "output_type": "stream",
     "text": [
      "{'path_to_data': 'C:\\\\Users\\\\gros\\\\Desktop\\\\DATA\\\\for_revisions\\\\1_bottom\\\\weights\\\\before_trsf', 'ref_im': 'w_ref.tif', 'flo_ims': ['w_float.tif'], 'compute_trsf': 0, 'init_trsfs': [['trans', 'X', 0, 'trans', 'Y', 0, 'trans', 'Z', 0, 'rot', 'X', 0, 'rot', 'Y', 0, 'rot', 'Z', 0, 'trans', 'X', 0, 'trans', 'Y', 0, 'trans', 'Z', 0]], 'trsf_paths': ['C:\\\\Users\\\\gros\\\\Desktop\\\\DATA\\\\for_revisions\\\\1_bottom\\\\trsf'], 'trsf_types': ['rigid'], 'ref_voxel': [0.3, 0.3, 2], 'flo_voxels': [[0.3, 0.3, 2]], 'out_voxel': [0.3, 0.3, 2], 'test_init': 0, 'apply_trsf': 1, 'out_pattern': 'C:\\\\Users\\\\gros\\\\Desktop\\\\DATA\\\\for_revisions\\\\1_bottom\\\\weights\\\\after_trsf', 'begin': 1, 'end': 1, 'bbox_out': 1, 'image_interpolation': 'linear', 'padding': 0, 'registration_depth': 3, 'ordered_init_trsfs': True}\n",
      "Starting experiment\n",
      "The registration will run with the following arguments:\n",
      "\n",
      " File format \n",
      "path_to_data             : C:\\Users\\gros\\Desktop\\DATA\\for_revisions\\1_bottom\\weights\\before_trsf\n",
      "ref_im                   : w_ref.tif\n",
      "flo_ims                  : w_float.tif\n",
      "init_trsfs               : ['trans', 'X', 0, 'trans', 'Y', 0, 'trans', 'Z', 0, 'rot', 'X', 0, 'rot', 'Y', 0, 'rot', 'Z', 0, 'trans', 'X', 0, 'trans', 'Y', 0, 'trans', 'Z', 0]\n",
      "trsf_types               : rigid\n",
      "ref_voxel                : 0.300000 x 0.300000 x 2.000000\n",
      "flo_voxels               : 0.300000 x 0.300000 x 2.000000\n",
      "out_voxel                : 0.300000 x 0.300000 x 2.000000\n",
      "out_pattern              : C:\\Users\\gros\\Desktop\\DATA\\for_revisions\\1_bottom\\weights\\after_trsf\n",
      "\n"
     ]
    },
    {
     "name": "stderr",
     "output_type": "stream",
     "text": [
      "c:\\Users\\gros\\Anaconda3\\envs\\env-tapenade\\lib\\site-packages\\registrationtools\\spatial_registration.py:169: UserWarning: Testing initial transformations cannot be done when `compute_trsf` is False/0. It will not be done then\n",
      "  warnings.warn(\n"
     ]
    },
    {
     "name": "stdout",
     "output_type": "stream",
     "text": [
      "{'XResolution': 0.3, 'YResolution': 0.3, 'spacing': 2}\n",
      "C:\\Users\\gros\\Desktop\\DATA\\for_revisions\\1_bottom\\fused\\fusion_hoechst.tif (158, 1261, 1210) uint16\n"
     ]
    },
    {
     "name": "stderr",
     "output_type": "stream",
     "text": [
      "C:\\Users\\gros\\Desktop\\CODES\\tapenade\\src\\tapenade\\reconstruction\\_reconstruct.py:772: UserWarning: C:\\Users\\gros\\Desktop\\DATA\\for_revisions\\1_bottom\\fused\\fusion_hoechst.tif is a low contrast image\n",
      "  io.imsave(Path(folder_output) / name_output, fusion.astype(dtype_input))\n"
     ]
    },
    {
     "name": "stdout",
     "output_type": "stream",
     "text": [
      "{'path_to_data': 'C:\\\\Users\\\\gros\\\\Desktop\\\\DATA\\\\for_revisions\\\\1_bottom\\\\weights\\\\before_trsf', 'ref_im': 'w_ref.tif', 'flo_ims': ['w_float.tif'], 'compute_trsf': 0, 'init_trsfs': [['trans', 'X', 0, 'trans', 'Y', 0, 'trans', 'Z', 0, 'rot', 'X', 0, 'rot', 'Y', 0, 'rot', 'Z', 0, 'trans', 'X', 0, 'trans', 'Y', 0, 'trans', 'Z', 0]], 'trsf_paths': ['C:\\\\Users\\\\gros\\\\Desktop\\\\DATA\\\\for_revisions\\\\1_bottom\\\\trsf'], 'trsf_types': ['rigid'], 'ref_voxel': [0.3, 0.3, 2], 'flo_voxels': [[0.3, 0.3, 2]], 'out_voxel': [0.3, 0.3, 2], 'test_init': 0, 'apply_trsf': 1, 'out_pattern': 'C:\\\\Users\\\\gros\\\\Desktop\\\\DATA\\\\for_revisions\\\\1_bottom\\\\weights\\\\after_trsf', 'begin': 1, 'end': 1, 'bbox_out': 1, 'image_interpolation': 'linear', 'padding': 0, 'registration_depth': 3, 'ordered_init_trsfs': True}\n",
      "Starting experiment\n",
      "The registration will run with the following arguments:\n",
      "\n",
      " File format \n",
      "path_to_data             : C:\\Users\\gros\\Desktop\\DATA\\for_revisions\\1_bottom\\weights\\before_trsf\n",
      "ref_im                   : w_ref.tif\n",
      "flo_ims                  : w_float.tif\n",
      "init_trsfs               : ['trans', 'X', 0, 'trans', 'Y', 0, 'trans', 'Z', 0, 'rot', 'X', 0, 'rot', 'Y', 0, 'rot', 'Z', 0, 'trans', 'X', 0, 'trans', 'Y', 0, 'trans', 'Z', 0]\n",
      "trsf_types               : rigid\n",
      "ref_voxel                : 0.300000 x 0.300000 x 2.000000\n",
      "flo_voxels               : 0.300000 x 0.300000 x 2.000000\n",
      "out_voxel                : 0.300000 x 0.300000 x 2.000000\n",
      "out_pattern              : C:\\Users\\gros\\Desktop\\DATA\\for_revisions\\1_bottom\\weights\\after_trsf\n",
      "\n",
      "{'XResolution': 0.3, 'YResolution': 0.3, 'spacing': 2}\n",
      "C:\\Users\\gros\\Desktop\\DATA\\for_revisions\\1_bottom\\fused\\fusion_ph3.tif (158, 1261, 1210) uint16\n"
     ]
    },
    {
     "name": "stderr",
     "output_type": "stream",
     "text": [
      "C:\\Users\\gros\\Desktop\\CODES\\tapenade\\src\\tapenade\\reconstruction\\_reconstruct.py:772: UserWarning: C:\\Users\\gros\\Desktop\\DATA\\for_revisions\\1_bottom\\fused\\fusion_ph3.tif is a low contrast image\n",
      "  io.imsave(Path(folder_output) / name_output, fusion.astype(dtype_input))\n"
     ]
    },
    {
     "name": "stdout",
     "output_type": "stream",
     "text": [
      "{'path_to_data': 'C:\\\\Users\\\\gros\\\\Desktop\\\\DATA\\\\for_revisions\\\\1_bottom\\\\weights\\\\before_trsf', 'ref_im': 'w_ref.tif', 'flo_ims': ['w_float.tif'], 'compute_trsf': 0, 'init_trsfs': [['trans', 'X', 0, 'trans', 'Y', 0, 'trans', 'Z', 0, 'rot', 'X', 0, 'rot', 'Y', 0, 'rot', 'Z', 0, 'trans', 'X', 0, 'trans', 'Y', 0, 'trans', 'Z', 0]], 'trsf_paths': ['C:\\\\Users\\\\gros\\\\Desktop\\\\DATA\\\\for_revisions\\\\1_bottom\\\\trsf'], 'trsf_types': ['rigid'], 'ref_voxel': [0.3, 0.3, 2], 'flo_voxels': [[0.3, 0.3, 2]], 'out_voxel': [0.3, 0.3, 2], 'test_init': 0, 'apply_trsf': 1, 'out_pattern': 'C:\\\\Users\\\\gros\\\\Desktop\\\\DATA\\\\for_revisions\\\\1_bottom\\\\weights\\\\after_trsf', 'begin': 1, 'end': 1, 'bbox_out': 1, 'image_interpolation': 'linear', 'padding': 0, 'registration_depth': 3, 'ordered_init_trsfs': True}\n",
      "Starting experiment\n",
      "The registration will run with the following arguments:\n",
      "\n",
      " File format \n",
      "path_to_data             : C:\\Users\\gros\\Desktop\\DATA\\for_revisions\\1_bottom\\weights\\before_trsf\n",
      "ref_im                   : w_ref.tif\n",
      "flo_ims                  : w_float.tif\n",
      "init_trsfs               : ['trans', 'X', 0, 'trans', 'Y', 0, 'trans', 'Z', 0, 'rot', 'X', 0, 'rot', 'Y', 0, 'rot', 'Z', 0, 'trans', 'X', 0, 'trans', 'Y', 0, 'trans', 'Z', 0]\n",
      "trsf_types               : rigid\n",
      "ref_voxel                : 0.300000 x 0.300000 x 2.000000\n",
      "flo_voxels               : 0.300000 x 0.300000 x 2.000000\n",
      "out_voxel                : 0.300000 x 0.300000 x 2.000000\n",
      "out_pattern              : C:\\Users\\gros\\Desktop\\DATA\\for_revisions\\1_bottom\\weights\\after_trsf\n",
      "\n",
      "{'XResolution': 0.3, 'YResolution': 0.3, 'spacing': 2}\n",
      "C:\\Users\\gros\\Desktop\\DATA\\for_revisions\\1_bottom\\fused\\fusion_bra.tif (158, 1261, 1210) uint16\n"
     ]
    },
    {
     "name": "stderr",
     "output_type": "stream",
     "text": [
      "C:\\Users\\gros\\Desktop\\CODES\\tapenade\\src\\tapenade\\reconstruction\\_reconstruct.py:772: UserWarning: C:\\Users\\gros\\Desktop\\DATA\\for_revisions\\1_bottom\\fused\\fusion_bra.tif is a low contrast image\n",
      "  io.imsave(Path(folder_output) / name_output, fusion.astype(dtype_input))\n"
     ]
    },
    {
     "name": "stdout",
     "output_type": "stream",
     "text": [
      "{'path_to_data': 'C:\\\\Users\\\\gros\\\\Desktop\\\\DATA\\\\for_revisions\\\\1_bottom\\\\weights\\\\before_trsf', 'ref_im': 'w_ref.tif', 'flo_ims': ['w_float.tif'], 'compute_trsf': 0, 'init_trsfs': [['trans', 'X', 0, 'trans', 'Y', 0, 'trans', 'Z', 0, 'rot', 'X', 0, 'rot', 'Y', 0, 'rot', 'Z', 0, 'trans', 'X', 0, 'trans', 'Y', 0, 'trans', 'Z', 0]], 'trsf_paths': ['C:\\\\Users\\\\gros\\\\Desktop\\\\DATA\\\\for_revisions\\\\1_bottom\\\\trsf'], 'trsf_types': ['rigid'], 'ref_voxel': [0.3, 0.3, 2], 'flo_voxels': [[0.3, 0.3, 2]], 'out_voxel': [0.3, 0.3, 2], 'test_init': 0, 'apply_trsf': 1, 'out_pattern': 'C:\\\\Users\\\\gros\\\\Desktop\\\\DATA\\\\for_revisions\\\\1_bottom\\\\weights\\\\after_trsf', 'begin': 1, 'end': 1, 'bbox_out': 1, 'image_interpolation': 'linear', 'padding': 0, 'registration_depth': 3, 'ordered_init_trsfs': True}\n",
      "Starting experiment\n",
      "The registration will run with the following arguments:\n",
      "\n",
      " File format \n",
      "path_to_data             : C:\\Users\\gros\\Desktop\\DATA\\for_revisions\\1_bottom\\weights\\before_trsf\n",
      "ref_im                   : w_ref.tif\n",
      "flo_ims                  : w_float.tif\n",
      "init_trsfs               : ['trans', 'X', 0, 'trans', 'Y', 0, 'trans', 'Z', 0, 'rot', 'X', 0, 'rot', 'Y', 0, 'rot', 'Z', 0, 'trans', 'X', 0, 'trans', 'Y', 0, 'trans', 'Z', 0]\n",
      "trsf_types               : rigid\n",
      "ref_voxel                : 0.300000 x 0.300000 x 2.000000\n",
      "flo_voxels               : 0.300000 x 0.300000 x 2.000000\n",
      "out_voxel                : 0.300000 x 0.300000 x 2.000000\n",
      "out_pattern              : C:\\Users\\gros\\Desktop\\DATA\\for_revisions\\1_bottom\\weights\\after_trsf\n",
      "\n",
      "{'XResolution': 0.3, 'YResolution': 0.3, 'spacing': 2}\n",
      "C:\\Users\\gros\\Desktop\\DATA\\for_revisions\\1_bottom\\fused\\fusion_ecad.tif (158, 1261, 1210) uint16\n"
     ]
    },
    {
     "name": "stderr",
     "output_type": "stream",
     "text": [
      "C:\\Users\\gros\\Desktop\\CODES\\tapenade\\src\\tapenade\\reconstruction\\_reconstruct.py:772: UserWarning: C:\\Users\\gros\\Desktop\\DATA\\for_revisions\\1_bottom\\fused\\fusion_ecad.tif is a low contrast image\n",
      "  io.imsave(Path(folder_output) / name_output, fusion.astype(dtype_input))\n"
     ]
    }
   ],
   "source": [
    "for ch in channels:\n",
    "    image = reconstruction.fuse_sides(\n",
    "        folder=Path(folder_experiment) / filename_ref,\n",
    "        reference_image = f\"{filename_ref}_{ch}.tif\",\n",
    "        floating_image = f\"{filename_float}_{ch}.tif\",\n",
    "        folder_output = Path(folder_experiment) / filename_ref / \"fused\",\n",
    "        name_output = f\"fusion_{ch}.tif\",\n",
    "        input_voxel = input_voxel,\n",
    "        output_voxel = output_voxel,\n",
    "    )\n",
    "\n",
    "#the result is saved channel by channel in the folder 'fused'."
   ]
  },
  {
   "cell_type": "markdown",
   "id": "6813afe5",
   "metadata": {},
   "source": [
    "## Merge all the channels in one multichannel image"
   ]
  },
  {
   "cell_type": "code",
   "execution_count": 8,
   "id": "b99d45d6",
   "metadata": {},
   "outputs": [
    {
     "name": "stdout",
     "output_type": "stream",
     "text": [
      "(158, 1261, 1210)\n",
      "(158, 1261, 1210)\n",
      "(158, 1261, 1210)\n",
      "(158, 1261, 1210)\n"
     ]
    }
   ],
   "source": [
    "reconstruction.write_hyperstacks(\n",
    "    path=Path(folder_experiment) / filename_ref / \"fused\",\n",
    "    sample_id=\"fusion\",\n",
    "    channels=channels\n",
    ")\n",
    "#the result is saved under the name 'sample_id'_registered.tif in the folder 'fused'."
   ]
  },
  {
   "cell_type": "markdown",
   "id": "889bc65d",
   "metadata": {},
   "source": [
    "# Optional : Manual registration without Napari\n",
    "\n",
    "If the automatic registration is not satisfying, one option is to give more precise initial transformations to the algorithm.\n",
    "\n",
    "For that, you need to define landmarks, ie features that you recognize in both the reference image and the floating image, that you will need to pinpoint with a marker of given label, this label has to be an integer that has the same value in both image.\n",
    "\n",
    "Once you have at least 3 annotated landmarks (=3 labels in each image) in a tif image, input them below.\n",
    "If the result seems good, you can input the initial transformations above ('Register automatically)\n"
   ]
  },
  {
   "cell_type": "code",
   "execution_count": null,
   "id": "caa40381",
   "metadata": {},
   "outputs": [],
   "source": [
    "path = ...\n",
    "filename_ref = ...\n",
    "filename_float = ...\n",
    "input_voxel = ...\n",
    "output_voxel = input_voxel\n",
    "\n",
    "path_to_landmarks = ...\n",
    "reference_landmarks = tifffile.imread(\n",
    "    Path(path_to_landmarks) / f\"ref.tif\"\n",
    ")\n",
    "floating_landmarks = tifffile.imread(\n",
    "    Path(path_to_landmarks) / f\"float.tif\"\n",
    ")\n",
    "reference_landmarks = reference_landmarks.astype(np.uint16)\n",
    "floating_landmarks = floating_landmarks.astype(np.uint16)\n",
    "channel = \"hoechst\"\n",
    "\n",
    "rot, trans1, trans2 = reconstruction.manual_registration_fct(\n",
    "    reference_landmarks=reference_landmarks,\n",
    "    floating_landmarks=floating_landmarks,\n",
    "    scale=(input_voxel[2], input_voxel[1], input_voxel[0]),\n",
    ")\n",
    "rot=[rot[2],rot[1],rot[0]]\n",
    "\n",
    "reconstruction.register(\n",
    "    path_data=Path(path) / filename_ref / \"raw\",\n",
    "    path_transformation=Path(path) / filename_ref / \"trsf\",\n",
    "    path_registered_data=Path(path) / filename_ref / \"registered\",\n",
    "    reference_image=f\"{filename_ref}_{channel}.tif\",\n",
    "    floating_image=f\"{filename_float}_{channel}.tif\",\n",
    "    input_voxel=input_voxel,  \n",
    "    output_voxel=output_voxel,\n",
    "    compute_trsf=1,\n",
    "    rot=rot,\n",
    "    trans1=trans1,\n",
    "    trans2=trans2,\n",
    "    test_init=0,\n",
    "    trsf_type=\"rigid\",\n",
    "    depth=3,\n",
    "    bbox=1,\n",
    "    save_json=\"\",\n",
    ")\n",
    "\n",
    "print('rot = ',rot,'\\ntrans1=',trans1,'\\ntrans2=',trans2)"
   ]
  }
 ],
 "metadata": {
  "kernelspec": {
   "display_name": "env-tapenade",
   "language": "python",
   "name": "python3"
  },
  "language_info": {
   "codemirror_mode": {
    "name": "ipython",
    "version": 3
   },
   "file_extension": ".py",
   "mimetype": "text/x-python",
   "name": "python",
   "nbconvert_exporter": "python",
   "pygments_lexer": "ipython3",
   "version": "3.10.14"
  }
 },
 "nbformat": 4,
 "nbformat_minor": 5
}
