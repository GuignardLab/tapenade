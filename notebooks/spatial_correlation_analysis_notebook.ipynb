{
 "cells": [
  {
   "cell_type": "code",
   "execution_count": 1,
   "metadata": {},
   "outputs": [],
   "source": [
    "from tapenade.analysis.spatial_correlation import (\n",
    "    SpatialCorrelationPlotter\n",
    ")\n",
    "import tifffile"
   ]
  },
  {
   "cell_type": "markdown",
   "metadata": {},
   "source": [
    "## Multiscale analysis of spatial correlation between 2 signals"
   ]
  },
  {
   "cell_type": "markdown",
   "metadata": {},
   "source": [
    "### <font color='red'> After clicking on a code cell, press \"Shift+Enter\" to run the code, or click on the \"Run\" button in the toolbar above.<br>\n",
    "\n",
    "### Replace \"...\" signs with the appropriate path to your data.\n",
    "</font>"
   ]
  },
  {
   "cell_type": "markdown",
   "metadata": {},
   "source": [
    "### 1. Data loading"
   ]
  },
  {
   "cell_type": "markdown",
   "metadata": {},
   "source": [
    "Load your the two signals that you wish to study the correlation between. If raw image data is loaded, the correlation will be studied at the smallest scale (voxel). To study the correlation at larger scales, we recommend applying our masked gaussian filter method, as presented in the `masked_gaussian_smoothing` notebook."
   ]
  },
  {
   "cell_type": "code",
   "execution_count": null,
   "metadata": {},
   "outputs": [],
   "source": [
    "path_to_signal1 = ... # e.g T-Bra\n",
    "signal1 = tifffile.imread(path_to_signal1)\n",
    "\n",
    "path_to_signal2 = ... # e.g Sox2\n",
    "signal2 = tifffile.imread(path_to_signal2)\n",
    "\n",
    "# optional but highly recommended\n",
    "path_to_mask = ...\n",
    "mask = tifffile.imread(path_to_mask)\n",
    "\n",
    "# optional but recommended if the signals belong to individual instances (e.g nuclei)\n",
    "path_to_labels = ... \n",
    "labels = tifffile.imread(path_to_labels)"
   ]
  },
  {
   "cell_type": "markdown",
   "metadata": {},
   "source": [
    "### 2. Initializing the plotter"
   ]
  },
  {
   "cell_type": "markdown",
   "metadata": {},
   "source": [
    "Initializing the plotter once allows you to test several parameters of the visualization without reprocessing the data."
   ]
  },
  {
   "cell_type": "code",
   "execution_count": null,
   "metadata": {},
   "outputs": [],
   "source": [
    "spatial_correlation_plotter = SpatialCorrelationPlotter(\n",
    "    quantityX=signal1,\n",
    "    quantityY=signal2,\n",
    "    mask=mask, # optional\n",
    "    labels=labels # optional\n",
    ")"
   ]
  },
  {
   "cell_type": "markdown",
   "metadata": {},
   "source": [
    "Plot the correlation:"
   ]
  },
  {
   "cell_type": "code",
   "execution_count": null,
   "metadata": {},
   "outputs": [],
   "source": [
    "fig, ax = spatial_correlation_plotter.get_heatmap_figure()\n",
    "fig.show()"
   ]
  },
  {
   "cell_type": "markdown",
   "metadata": {},
   "source": [
    "The function `get_heatmap_figure` returns a figure and axis object that can be used to further customize the plot. The figure can be saved to a file using the `savefig` method of the figure object.\n",
    "\n",
    "The function has many parameters that can be used to customize the plot:"
   ]
  },
  {
   "cell_type": "code",
   "execution_count": 2,
   "metadata": {},
   "outputs": [
    {
     "name": "stdout",
     "output_type": "stream",
     "text": [
      "Help on function get_heatmap_figure in module tapenade.analysis.spatial_correlation._spatial_correlation_plotter:\n",
      "\n",
      "get_heatmap_figure(self, bins: tuple = (40, 40), show_individual_cells: bool = False, show_linear_fit: bool = True, normalize_quantities: bool = False, extent_X: tuple = None, extent_Y: tuple = None, percentiles_X: tuple = (0, 100), percentiles_Y: tuple = (0, 100), log_scale_X: bool = False, log_scale_Y: bool = False, figsize: tuple = (7, 4), label_X: str = 'X', label_Y: str = 'Y', colormap: str = 'plasma', sample_fraction: float = 0.005, display_quadrants: bool = False, fig_ax_tuple: tuple = None)\n",
      "    Create a heatmap of the spatial correlation between two quantities X and Y.\n",
      "    \n",
      "    Parameters:\n",
      "    - bins: list of two integers, number of bins in each dimension\n",
      "    - show_individual_cells: bool, if True and if labels was specified in __init__,\n",
      "        individual cells will be displayed as a scatter plot on top of the heatmap.\n",
      "    - show_linear_fit: bool, if True, a linear fit will be displayed on the heatmap.\n",
      "    - normalize_quantities: bool, if True, the quantities will be normalized to have\n",
      "        zero mean and unit standard deviation.\n",
      "    - extent_X: tuple of two floats, the extent of the X axis\n",
      "    - extent_Y: tuple of two floats, the extent of the Y axis\n",
      "    - percentiles_X: tuple of two floats, only the values of X between these percentiles\n",
      "        will be considered\n",
      "    - percentiles_Y: tuple of two floats, the percentiles of Y between thse percentiles\n",
      "        will be considered\n",
      "    - log_scale_X: bool, if True, the X axis will be displayed in log scale\n",
      "    - log_scale_Y: bool, if True, the Y axis will be displayed in log scale\n",
      "    - figsize: tuple of two floats, the size of the figure\n",
      "    - label_X: str, the label of the X axis\n",
      "    - label_Y: str, the label of the Y axis\n",
      "    - colormap: str, the name of the colormap\n",
      "    - sample_fraction: float, if labels has not been specified in __init__, sample_fraction\n",
      "        represents the fraction of the total number of values of X and Y that will be\n",
      "        randomly selected to be used for the computation of the statistics.\n",
      "    - display_quadrants: bool, if True, quadrants will be displayed as vertical and horizontal\n",
      "        dashed lines at the Otsu thresholds of X and Y.\n",
      "    - fig_ax_tuple: tuple of matplotlib figure and axis, if not None, the heatmap will be\n",
      "        displayed on the provided figure and axis.\n",
      "    \n",
      "    Returns:\n",
      "    - fig: matplotlib figure\n",
      "    - ax: matplotlib axis\n",
      "\n"
     ]
    }
   ],
   "source": [
    "help(SpatialCorrelationPlotter.get_heatmap_figure)"
   ]
  }
 ],
 "metadata": {
  "kernelspec": {
   "display_name": "napari-mine",
   "language": "python",
   "name": "python3"
  },
  "language_info": {
   "codemirror_mode": {
    "name": "ipython",
    "version": 3
   },
   "file_extension": ".py",
   "mimetype": "text/x-python",
   "name": "python",
   "nbconvert_exporter": "python",
   "pygments_lexer": "ipython3",
   "version": "3.10.14"
  }
 },
 "nbformat": 4,
 "nbformat_minor": 2
}
