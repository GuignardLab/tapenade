{
 "cells": [
  {
   "cell_type": "markdown",
   "id": "ed08f86b",
   "metadata": {},
   "source": [
    "# Segmentation Notebook"
   ]
  },
  {
   "cell_type": "code",
   "execution_count": null,
   "id": "0d08deec",
   "metadata": {},
   "outputs": [],
   "source": [
    "# from organoid import segmentation\n",
    "from organoid import preprocessing\n",
    "from organoid import reconstruction\n",
    "import numpy as np\n",
    "import tifffile"
   ]
  },
  {
   "cell_type": "code",
   "execution_count": null,
   "id": "54e5d627",
   "metadata": {},
   "outputs": [],
   "source": [
    "path = rf\"C:\\Users\\gros\\Desktop\\DATA\\organoid_test\"\n",
    "data = tifffile.imread(rf\"{path}\\data.tif\")\n",
    "dapi = data[:, 0, :, :]\n",
    "stardist_model = rf\"C:\\Users\\gros\\Desktop\\CODES\\Alice_Segmentation\\Stardist\\models\\lennedist_3d_grid222_rays64\""
   ]
  },
  {
   "cell_type": "code",
   "execution_count": null,
   "id": "9c13606f",
   "metadata": {},
   "outputs": [],
   "source": [
    "output = segmentation.predict_stardist(\n",
    "    data,\n",
    "    model_path=stardist_model,\n",
    "    input_voxelsize=[1, 1, 1],\n",
    "    normalize_input=True,\n",
    ")"
   ]
  }
 ],
 "metadata": {
  "kernelspec": {
   "display_name": "Python 3 (ipykernel)",
   "language": "python",
   "name": "python3"
  },
  "language_info": {
   "codemirror_mode": {
    "name": "ipython",
    "version": 3
   },
   "file_extension": ".py",
   "mimetype": "text/x-python",
   "name": "python",
   "nbconvert_exporter": "python",
   "pygments_lexer": "ipython3",
   "version": "3.10.13"
  }
 },
 "nbformat": 4,
 "nbformat_minor": 5
}
