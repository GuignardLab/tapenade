{
 "cells": [
  {
   "cell_type": "markdown",
   "id": "ed08f86b",
   "metadata": {},
   "source": [
    "# Segmentation Notebook"
   ]
  },
  {
   "cell_type": "markdown",
   "id": "86ea7a4a",
   "metadata": {},
   "source": [
    "### <font color='red'> After clicking on a code cell, press \"Shift+Enter\" to run the code, or click on the \"Run\" button in the toolbar above.<br>\n",
    "\n",
    "### Replace \"...\" signs with the appropriate path to your data.\n",
    "</font>"
   ]
  },
  {
   "cell_type": "code",
   "execution_count": null,
   "id": "96194952",
   "metadata": {},
   "outputs": [],
   "source": [
    "from tapenade.preprocessing import (\n",
    "    global_contrast_enhancement,\n",
    "    local_contrast_enhancement,\n",
    ")\n",
    "from tapenade.preprocessing import change_array_pixelsize\n",
    "from tapenade.segmentation import predict_stardist\n",
    "from tapenade.preprocessing.segmentation_postprocessing import remove_small_objects, remove_labels_outside_of_mask\n",
    "import numpy as np\n",
    "import tifffile\n",
    "import matplotlib.pyplot as plt\n",
    "from skimage.transform import resize\n",
    "from pathlib import Path\n",
    "from skimage.measure import regionprops"
   ]
  },
  {
   "cell_type": "markdown",
   "id": "6f469a65",
   "metadata": {},
   "source": [
    "Enter the path to your data and to stardist model.\n",
    "\n",
    "The mask is optional, in the case you use the local normalization method."
   ]
  },
  {
   "cell_type": "code",
   "execution_count": null,
   "id": "54e5d627",
   "metadata": {},
   "outputs": [],
   "source": [
    "path_stardist_model = ... #should finish by /tapenade-stardist\n",
    "\n",
    "main_folder = ...\n",
    "path_to_data = Path(main_folder) / ... #for example Path(main_folder) / \"data/image.tif\"\n",
    "path_to_mask = Path(main_folder) / ... #for example Path(main_folder) / \"data/mask.tif\"\n",
    "data = tifffile.imread(Path(path_to_data))\n",
    "mask = tifffile.imread(Path(path_to_mask))"
   ]
  },
  {
   "cell_type": "markdown",
   "id": "643141b0",
   "metadata": {},
   "source": [
    "### Quick pre-processing\n",
    "If your image already has the appropriate size and is normalized between 0 and 1, you can skip this and directly go to the prediction.\n",
    "\n",
    "Our StarDist model is trained on isotropic images of voxel size (0.62,0.62,0.62) µm/pix, which means it is trained to segment objects of the approximate size of 15pixels. Adjust your image size to match this pixel size and do not hesitate to try different sizes on a subset of your data to optimize the result.\n",
    "\n",
    "The image given to StarDist should be normalized between 0 and 1. You can either use our local contrast enhancement method, which can drastically improve perofrmance in deeper planes, or the classical global contrast enhancement."
   ]
  },
  {
   "cell_type": "code",
   "execution_count": null,
   "id": "5ca068d8",
   "metadata": {},
   "outputs": [],
   "source": [
    "array_pixelsize = ... #ZYX, for example (1,0.2,0.2)\n",
    "network_pixelsize = (0.62,0.62,0.62) #adjust if oversegmentation or undersegmentation\n",
    "data_iso = change_array_pixelsize(data,input_pixelsize=array_pixelsize, output_pixelsize=network_pixelsize)\n",
    "mask_iso = change_array_pixelsize(mask,input_pixelsize=array_pixelsize, output_pixelsize=network_pixelsize,order=0)"
   ]
  },
  {
   "cell_type": "code",
   "execution_count": null,
   "id": "a6cf6eba-b485-4af7-af31-2da7a5eb9039",
   "metadata": {},
   "outputs": [],
   "source": [
    "data_normalized = local_contrast_enhancement(image=data_iso,box_size=10, perc_low=1,perc_high=99,mask=mask_iso)"
   ]
  },
  {
   "cell_type": "code",
   "execution_count": null,
   "id": "3baa4c69",
   "metadata": {},
   "outputs": [],
   "source": [
    "data_normalized = global_contrast_enhancement(image=data_iso, perc_low=1,perc_high=99)"
   ]
  },
  {
   "cell_type": "markdown",
   "id": "ab1bf08b",
   "metadata": {},
   "source": [
    "Check the resulting image on Napari if installed"
   ]
  },
  {
   "cell_type": "code",
   "execution_count": null,
   "id": "80ae83d8",
   "metadata": {},
   "outputs": [],
   "source": [
    "import napari\n",
    "viewer=napari.Viewer()\n",
    "viewer.add_image(data_iso,colormap='inferno')\n",
    "viewer.add_image(data_normalized,colormap='inferno')\n",
    "napari.run()"
   ]
  },
  {
   "cell_type": "markdown",
   "id": "6a497ece",
   "metadata": {},
   "source": [
    "## Run the prediction using StarDist3D"
   ]
  },
  {
   "cell_type": "code",
   "execution_count": null,
   "id": "9c13606f",
   "metadata": {},
   "outputs": [],
   "source": [
    "labels = predict_stardist(data_normalized, path_stardist_model)"
   ]
  },
  {
   "cell_type": "code",
   "execution_count": null,
   "id": "7d01b380",
   "metadata": {},
   "outputs": [],
   "source": [
    "labels_at_array_pixelsize = resize(\n",
    "    labels,\n",
    "    data.shape,\n",
    "    anti_aliasing=False,\n",
    "    order=0,\n",
    "    preserve_range=True,\n",
    ")"
   ]
  },
  {
   "cell_type": "markdown",
   "id": "9d2a2834",
   "metadata": {},
   "source": [
    "Check the result on napari"
   ]
  },
  {
   "cell_type": "code",
   "execution_count": null,
   "id": "7df6f7b6",
   "metadata": {},
   "outputs": [],
   "source": [
    "import napari\n",
    "viewer=napari.Viewer()\n",
    "viewer.add_image(data,colormap='inferno')\n",
    "viewer.add_labels(labels_at_array_pixelsize)\n",
    "napari.run()"
   ]
  },
  {
   "cell_type": "markdown",
   "id": "ffb2cc73",
   "metadata": {},
   "source": [
    "Save if you are satisfied.\n",
    "If not, you can adjust the pixel size or the normalization method."
   ]
  },
  {
   "cell_type": "code",
   "execution_count": null,
   "id": "fbb9edb5-a77f-4e43-a135-d2b1ecec1e3a",
   "metadata": {},
   "outputs": [],
   "source": [
    "tifffile.imwrite(Path(main_folder)/'segmentation.tif',labels)"
   ]
  },
  {
   "cell_type": "markdown",
   "id": "15a9b05c",
   "metadata": {},
   "source": [
    "## Post-processing"
   ]
  },
  {
   "cell_type": "markdown",
   "id": "d2da84d5",
   "metadata": {},
   "source": [
    "### 1. Removing labels outside of mask (inside/outside of the tissue)"
   ]
  },
  {
   "cell_type": "markdown",
   "id": "cca10224",
   "metadata": {},
   "source": [
    "Due to the presence of noise in the image, the segmentation can sometimes produce labels that are not fully contained in the mask. We provide the function `remove_labels_outside_of_mask` to remove these labels. It takes as input the labels and the mask, and removes the labels that are not fully contained in the mask.\n",
    "\n",
    "To create a mask of your image, use the preprocessing notebook or the napari plugin napari-tapenade-processing"
   ]
  },
  {
   "cell_type": "code",
   "execution_count": null,
   "id": "ab3679bf",
   "metadata": {},
   "outputs": [],
   "source": [
    "labels_filtered = remove_labels_outside_of_mask(mask=mask, labels=labels_at_array_pixelsize)\n",
    "\n",
    "if display_in_napari:\n",
    "    viewer.add_labels(labels_filtered, name='labels filtered')"
   ]
  },
  {
   "cell_type": "markdown",
   "id": "cdfe7e0e",
   "metadata": {},
   "source": [
    "### 2 - Filter small volumes in the segmentation.\n",
    "\n",
    "First, plot the histogram of cell volumes to evaluate the threshold"
   ]
  },
  {
   "cell_type": "code",
   "execution_count": null,
   "id": "5548ca09",
   "metadata": {},
   "outputs": [],
   "source": [
    "props=regionprops(labels_at_array_pixelsize)\n",
    "volumes = np.array([prop.area for prop in props])\n",
    "\n",
    "plt.hist(volumes, bins=100)\n",
    "plt.title('Histogram of cell volumes')"
   ]
  },
  {
   "cell_type": "markdown",
   "id": "efdc7a5a",
   "metadata": {},
   "source": [
    "Then, remove the objects smaller than ```size_min```"
   ]
  },
  {
   "cell_type": "code",
   "execution_count": null,
   "id": "ece95ad9",
   "metadata": {},
   "outputs": [],
   "source": [
    "#choose the size to filter\n",
    "size_min = 1000\n",
    "labels_filtered = remove_small_objects(labels,size_min)\n",
    "\n",
    "print('Before filtering :',len(np.unique(labels)),'labels \\nAfter filtering :',len(np.unique(labels_filtered)),'labels')"
   ]
  },
  {
   "cell_type": "markdown",
   "id": "a1e38b25",
   "metadata": {},
   "source": [
    "Visualize the result on napari"
   ]
  },
  {
   "cell_type": "code",
   "execution_count": null,
   "id": "138b6256",
   "metadata": {},
   "outputs": [],
   "source": [
    "import napari\n",
    "viewer = napari.Viewer()\n",
    "viewer.add_image(data_normalized)\n",
    "viewer.add_labels(labels,name='labels_not_filtered')\n",
    "viewer.add_labels(labels_filtered,name='labels_filtered')\n",
    "napari.run()"
   ]
  }
 ],
 "metadata": {
  "kernelspec": {
   "display_name": "env-tapenade",
   "language": "python",
   "name": "python3"
  },
  "language_info": {
   "codemirror_mode": {
    "name": "ipython",
    "version": 3
   },
   "file_extension": ".py",
   "mimetype": "text/x-python",
   "name": "python",
   "nbconvert_exporter": "python",
   "pygments_lexer": "ipython3",
   "version": "3.10.14"
  }
 },
 "nbformat": 4,
 "nbformat_minor": 5
}
