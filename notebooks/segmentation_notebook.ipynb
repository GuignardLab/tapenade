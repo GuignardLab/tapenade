{
 "cells": [
  {
   "cell_type": "markdown",
   "id": "ed08f86b",
   "metadata": {},
   "source": [
    "# Segmentation Notebook"
   ]
  },
  {
   "cell_type": "markdown",
   "id": "86ea7a4a",
   "metadata": {},
   "source": [
    "### <font color='red'> After clicking on a code cell, press \"Shift+Enter\" to run the code, or click on the \"Run\" button in the toolbar above.<br>\n",
    "\n",
    "### Replace \"...\" signs with the appropriate path to your data.\n",
    "</font>"
   ]
  },
  {
   "cell_type": "code",
   "execution_count": null,
   "id": "96194952",
   "metadata": {},
   "outputs": [],
   "source": [
    "from tapenade.preprocessing import (\n",
    "    global_image_equalization,\n",
    "    local_image_equalization,\n",
    ")\n",
    "from tapenade.preprocessing._preprocessing import change_array_pixelsize\n",
    "from tapenade.segmentation._segment import segment_stardist\n",
    "from tapenade.preprocessing.segmentation_postprocessing import remove_small_objects\n",
    "import numpy as np\n",
    "import tifffile\n",
    "import scipy.ndimage as ndi\n",
    "import matplotlib.pyplot as plt\n",
    "from pathlib import Path\n",
    "from skimage.measure import regionprops"
   ]
  },
  {
   "cell_type": "markdown",
   "id": "6f469a65",
   "metadata": {},
   "source": [
    "Enter the path to your data and to stardist model.\n",
    "\n",
    "The mask is optional, in the case you use the local normalization method."
   ]
  },
  {
   "cell_type": "code",
   "execution_count": null,
   "id": "54e5d627",
   "metadata": {},
   "outputs": [],
   "source": [
    "path_stardist_model = ... #should finish by /tapenade-stardist\n",
    "\n",
    "main_folder = ...\n",
    "path_to_data = Path(main_folder) / ... #for example Path(main_folder) / \"data/image.tif\"\n",
    "path_to_mask = Path(main_folder) / ... #for example Path(main_folder) / \"data/mask.tif\"\n",
    "data = tifffile.imread(Path(path_to_data))\n",
    "mask = tifffile.imread(Path(path_to_mask))"
   ]
  },
  {
   "cell_type": "markdown",
   "id": "643141b0",
   "metadata": {},
   "source": [
    "### Quick pre-processing\n",
    "If your image already has the appropriate size and is normalized, you can skip this and directly go to the prediction.\n",
    "\n",
    "Our StarDist model is trained on isotropic images of voxel size (0.62,0.62,0.62) µm/pix, which means it is trained to segment objects of the approximate size of 15pixels. Adjust your image size to match this pixel size and do not hesitate to try different sizes on a subset of your data to optimize the result.\n",
    "\n",
    "The image given to StarDist should be normalized between 0 and 1. You can either use our local equalization method, that enhances contrast and show better performance in depth, or the classic global equalization."
   ]
  },
  {
   "cell_type": "code",
   "execution_count": null,
   "id": "5ca068d8",
   "metadata": {},
   "outputs": [],
   "source": [
    "input_pixelsize = ... #ZYX, for example (1,0.2,0.2)\n",
    "output_pixelsize = (0.62,0.62,0.62) #adjust if oversegmentation or undersegmentation\n",
    "data_iso = change_array_pixelsize(data,input_pixelsize=input_pixelsize, output_pixelsize=output_pixelsize)\n",
    "mask_iso = change_array_pixelsize(mask,input_pixelsize=input_pixelsize, output_pixelsize=output_pixelsize,order=0)"
   ]
  },
  {
   "cell_type": "code",
   "execution_count": null,
   "id": "a6cf6eba-b485-4af7-af31-2da7a5eb9039",
   "metadata": {},
   "outputs": [],
   "source": [
    "data_normalized = local_image_equalization(image=data_iso,box_size= 25, perc_low=1,perc_high=99,mask=mask_iso)"
   ]
  },
  {
   "cell_type": "code",
   "execution_count": null,
   "id": "3baa4c69",
   "metadata": {},
   "outputs": [],
   "source": [
    "data_normalized = global_image_equalization(image=data_iso, perc_low=1,perc_high=99)"
   ]
  },
  {
   "cell_type": "markdown",
   "id": "ab1bf08b",
   "metadata": {},
   "source": [
    "Check the resulting image on Napari if installed"
   ]
  },
  {
   "cell_type": "code",
   "execution_count": null,
   "id": "80ae83d8",
   "metadata": {},
   "outputs": [],
   "source": [
    "import napari\n",
    "viewer=napari.Viewer()\n",
    "viewer.add_image(data_iso,colormap='inferno')\n",
    "viewer.add_image(data_normalized,colormap='inferno')\n",
    "napari.run()"
   ]
  },
  {
   "cell_type": "markdown",
   "id": "6a497ece",
   "metadata": {},
   "source": [
    "## Run the prediction using StarDist3D"
   ]
  },
  {
   "cell_type": "code",
   "execution_count": null,
   "id": "9c13606f",
   "metadata": {},
   "outputs": [],
   "source": [
    "labels = segment_stardist(data_normalized, path_stardist_model)"
   ]
  },
  {
   "cell_type": "markdown",
   "id": "9d2a2834",
   "metadata": {},
   "source": [
    "Check the result on napari"
   ]
  },
  {
   "cell_type": "code",
   "execution_count": null,
   "id": "7df6f7b6",
   "metadata": {},
   "outputs": [],
   "source": [
    "import napari\n",
    "viewer=napari.Viewer()\n",
    "viewer.add_image(data_normalized,colormap='inferno')\n",
    "viewer.add_labels(labels)\n",
    "napari.run()"
   ]
  },
  {
   "cell_type": "markdown",
   "id": "ffb2cc73",
   "metadata": {},
   "source": [
    "Save if you are satisfied.\n",
    "If not, you can adjust the pixel size or the normalization method."
   ]
  },
  {
   "cell_type": "code",
   "execution_count": null,
   "id": "fbb9edb5-a77f-4e43-a135-d2b1ecec1e3a",
   "metadata": {},
   "outputs": [],
   "source": [
    "tifffile.imwrite(Path(main_folder)/'segmentation.tif',labels)"
   ]
  },
  {
   "cell_type": "markdown",
   "id": "15a9b05c",
   "metadata": {},
   "source": [
    "## Post-processing\n",
    "#### 1 - Apply mask to remove out-of-sample detections"
   ]
  },
  {
   "cell_type": "markdown",
   "id": "3e5fc305",
   "metadata": {},
   "source": [
    "If some cells are detected outside of the image, you might want to delete what is outside your mask.\n",
    "\n",
    "To create a mask of your image, use the preprocessing notebook or the napari plugin napati-tapenade-processing"
   ]
  },
  {
   "cell_type": "code",
   "execution_count": null,
   "id": "55d960ec-576e-43e8-b2b6-7d2e6aef0b94",
   "metadata": {},
   "outputs": [],
   "source": [
    "labels[mask==0]=0\n",
    "tifffile.imwrite(Path(main_folder)/\"labels_corrected.tif\",labels)"
   ]
  },
  {
   "cell_type": "markdown",
   "id": "cdfe7e0e",
   "metadata": {},
   "source": [
    "#### 2 - Filter small volumes in the segmentation.\n",
    "\n",
    "First, plot the histogram of cell volumes to evaluate the threshold"
   ]
  },
  {
   "cell_type": "code",
   "execution_count": null,
   "id": "5548ca09",
   "metadata": {},
   "outputs": [],
   "source": [
    "props=regionprops(labels)\n",
    "histo=[]\n",
    "for prop in props :\n",
    "    histo.append(np.sum(prop.area))\n",
    "\n",
    "plt.hist(histo,bins=100)\n",
    "plt.title('Histogram of cell volumes')"
   ]
  },
  {
   "cell_type": "markdown",
   "id": "efdc7a5a",
   "metadata": {},
   "source": [
    "Then, remove the objects smaller than ```size_min```"
   ]
  },
  {
   "cell_type": "code",
   "execution_count": null,
   "id": "ece95ad9",
   "metadata": {},
   "outputs": [],
   "source": [
    "#choose the size to filter\n",
    "size_min =1000\n",
    "labels_filtered = remove_small_objects(labels,size_min)\n",
    "\n",
    "print('Before filtering :',len(np.unique(labels)),'labels \\nAfter filtering :',len(np.unique(labels_filtered)),'labels')"
   ]
  },
  {
   "cell_type": "markdown",
   "id": "a1e38b25",
   "metadata": {},
   "source": [
    "Visualize the result on napari"
   ]
  },
  {
   "cell_type": "code",
   "execution_count": null,
   "id": "138b6256",
   "metadata": {},
   "outputs": [],
   "source": [
    "import napari\n",
    "viewer=napari.Viewer()\n",
    "viewer.add_image(data_normalized)\n",
    "viewer.add_labels(labels,name='labels_not_filtered')\n",
    "viewer.add_labels(labels_filtered,name='labels_filtered')\n",
    "napari.run()"
   ]
  }
 ],
 "metadata": {
  "kernelspec": {
   "display_name": "env-tapenade",
   "language": "python",
   "name": "python3"
  },
  "language_info": {
   "codemirror_mode": {
    "name": "ipython",
    "version": 3
   },
   "file_extension": ".py",
   "mimetype": "text/x-python",
   "name": "python",
   "nbconvert_exporter": "python",
   "pygments_lexer": "ipython3",
   "version": "3.10.14"
  }
 },
 "nbformat": 4,
 "nbformat_minor": 5
}
