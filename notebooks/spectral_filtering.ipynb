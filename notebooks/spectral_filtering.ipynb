{
 "cells": [
  {
   "cell_type": "code",
   "execution_count": null,
   "metadata": {},
   "outputs": [],
   "source": [
    "import numpy as np\n",
    "import matplotlib.pyplot as plt\n",
    "import tifffile\n",
    "from glob import glob\n",
    "from pathlib import Path\n",
    "import os\n",
    "from tqdm import tqdm"
   ]
  },
  {
   "cell_type": "markdown",
   "metadata": {},
   "source": [
    "Loading spectral patterns"
   ]
  },
  {
   "cell_type": "code",
   "execution_count": null,
   "metadata": {},
   "outputs": [],
   "source": [
    "channels=4 #fill up here the number of channels\n",
    "folder_calibration = ...\n",
    "\n",
    "species = np.array([1,2,3,4])\n",
    "#species = np.array([1,2]) #for GFP and Alexa488\n",
    "spectralpatterns=np.zeros((221,channels,species.shape[0]))\n",
    "for i in species:\n",
    "    filepath = Path(folder_calibration) / f'species{i}_medfilt.npy'\n",
    "    with open(filepath, 'rb') as f2:\n",
    "        avgspectrum_i=np.load(f2)\n",
    "    if i==2:\n",
    "        spectralpatterns[:,:,i-1]=avgspectrum_i[:,:]\n",
    "    else:\n",
    "        spectralpatterns[:,:,i-1]=avgspectrum_i[:,:]"
   ]
  },
  {
   "cell_type": "markdown",
   "metadata": {},
   "source": [
    "Create folder structure and get list of samples"
   ]
  },
  {
   "cell_type": "code",
   "execution_count": null,
   "metadata": {},
   "outputs": [],
   "source": [
    "folder_data =...\n",
    "os.mkdir(os.path.join(folder_data, \"filt\"))\n",
    "\n",
    "samples=[]\n",
    "paths = sorted(glob(rf'{folder_data}/*.tif'))\n",
    "for path in paths :\n",
    "    samples.append(Path(path).stem)\n"
   ]
  },
  {
   "cell_type": "markdown",
   "metadata": {},
   "source": [
    "Filtering"
   ]
  },
  {
   "cell_type": "code",
   "execution_count": null,
   "metadata": {},
   "outputs": [],
   "source": [
    "for ind in tqdm(samples):\n",
    "    img = tifffile.imread(Path(folder_data) / f'{ind}.tif')\n",
    "    img= np.array(img)\n",
    "\n",
    "    image_filtered=(np.zeros_like(img)).astype(np.int16)\n",
    "\n",
    "    for z in range(img.shape[0]):\n",
    "        Iavg_channels=np.mean(img[z,:,:,:],axis=(1,2))\n",
    "        D=np.diag(1/Iavg_channels)\n",
    "        specpatterns_z=np.zeros((species.shape[0],img.shape[1]))\n",
    "        for i in species:\n",
    "            specpatterns_z[i-1,:]=spectralpatterns[z,:,i-1]\n",
    "        w=np.linalg.inv(specpatterns_z@D@np.transpose(specpatterns_z))@specpatterns_z@D\n",
    "        for i in species:\n",
    "\n",
    "            image_filtered[z,i-1,:,:]=sum([w[i-1,j]*img[z,j,:,:] for j in range(0,channels)])\n",
    "\n",
    "    image_filtered[image_filtered<0]=0\n",
    "    image_filtered=image_filtered.astype(np.uint16)\n",
    "    tifffile.imwrite(Path(folder_data) / f'filt/{ind}_filt.tif', image_filtered,imagej=True)"
   ]
  },
  {
   "cell_type": "markdown",
   "metadata": {},
   "source": [
    "Plots"
   ]
  },
  {
   "cell_type": "code",
   "execution_count": null,
   "metadata": {},
   "outputs": [],
   "source": [
    "z_to_plot=50\n",
    "for ind in tqdm(samples):\n",
    "    img = tifffile.imread(Path(folder_data) / f'{ind}.tif')\n",
    "    fout, axarrout = plt.subplots(1,channels)            \n",
    "\n",
    "    for i in range(channels):\n",
    "        axarrout[i].imshow(img[z_to_plot,i,:,:])\n",
    "        print(np.mean(img[z_to_plot,i,:,:]))\n",
    "    fout2, axarrout2 = plt.subplots(1,channels)\n",
    "\n",
    "    for i in range(channels):\n",
    "        axarrout2[i].imshow(image_filtered[z_to_plot,i,:,:])\n",
    "        print(np.mean(image_filtered[z_to_plot,i,:,:]))"
   ]
  }
 ],
 "metadata": {
  "kernelspec": {
   "display_name": "organoid-env",
   "language": "python",
   "name": "python3"
  },
  "language_info": {
   "codemirror_mode": {
    "name": "ipython",
    "version": 3
   },
   "file_extension": ".py",
   "mimetype": "text/x-python",
   "name": "python",
   "nbconvert_exporter": "python",
   "pygments_lexer": "ipython3",
   "version": "3.10.13"
  }
 },
 "nbformat": 4,
 "nbformat_minor": 2
}
