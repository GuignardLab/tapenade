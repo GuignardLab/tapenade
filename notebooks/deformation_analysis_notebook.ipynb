{
 "cells": [
  {
   "cell_type": "code",
   "execution_count": 1,
   "metadata": {},
   "outputs": [],
   "source": [
    "from tapenade.preprocessing import masked_gaussian_smooth_sparse\n",
    "import tifffile\n",
    "import numpy as np\n",
    "from skimage.measure import regionprops\n",
    "from tapenade.analysis.deformation import (\n",
    "    add_tensor_inertia,\n",
    "    add_true_strain_tensor,\n",
    "    tensors_to_napari_vectors\n",
    ")\n",
    "from tapenade.analysis.deformation import (\n",
    "    add_tensor_inertia,\n",
    "    add_true_strain_tensor,\n",
    "    tensors_to_napari_vectors\n",
    ")\n",
    "\n",
    "try: \n",
    "    import napari\n",
    "    napari_available = True\n",
    "except ImportError:\n",
    "    napari_available = False\n",
    "    print(\"Napari not available, skipping visualization\")"
   ]
  },
  {
   "cell_type": "markdown",
   "metadata": {},
   "source": [
    "# Multiscale analysis of deformation fields (inertia, true strain, etc.) "
   ]
  },
  {
   "cell_type": "markdown",
   "metadata": {},
   "source": [
    "### <font color='red'> After clicking on a cell, press \"Shift+Enter\" to run the code, or click on the \"Run\" button in the toolbar above.<br>\n",
    "\n",
    "### Replace \"...\" signs with the appropriate path to your data.\n",
    "</font>"
   ]
  },
  {
   "cell_type": "markdown",
   "metadata": {},
   "source": [
    "The first step is to analyze each segmented instances from `labels` to compute the quantities of interest. We will use the `skimage.measure.regionprops` function to compute the centroid, inertia tensor, and true strain tensor of each segmented object. \n",
    "\n",
    "The inertia tensor is a 3x3 matrix that describes the distribution of mass in the object. The eigenvectors of the inertia tensor are the principal axes of the object, and the eigenvalues are the moments of inertia along these axes. The moments of inertia are related to the object's shape and can be used to compute the object's elongation, flatness, and orientation. Most notably, it is possible to transform the principal moments of inertia to get the principal lengths of the object, which are the lengths of the ellipsoid with the same moments of inertia as the object (the ellipse that best fits the object).\n",
    "\n",
    "The principal length vector is not a quantity suited for local averaging among several objects. Instead, the inertia tensor of each object can be averaged, and a total average principal length vector can be computed.\n",
    "\n",
    "However, the inertia tensor is not appropriate to quantify an average direction (e.g of collective alignment), as it over-represents the largest objects. Instead, we will use the true strain tensor, which is a 3x3 matrix whose eigen-values, derived from the principal lengths of the object, correspond to the logarithm of the amount of deformation with respect to a sphere of the same volume as the object."
   ]
  },
  {
   "cell_type": "markdown",
   "metadata": {},
   "source": [
    "### 1. Data loading"
   ]
  },
  {
   "cell_type": "markdown",
   "metadata": {},
   "source": [
    "Load your data. If you do not have a mask, we recommend checking the `preprocessing` notebook to create one. If you don't have labels, you can use the `segmentation` notebook to create nuclei labels using StarDist3D."
   ]
  },
  {
   "cell_type": "code",
   "execution_count": null,
   "metadata": {},
   "outputs": [],
   "source": [
    "path_to_data = ...\n",
    "path_to_mask = ...\n",
    "path_to_labels = ...\n",
    "\n",
    "data = tifffile.imread(path_to_data)\n",
    "mask = tifffile.imread(path_to_mask)\n",
    "labels = tifffile.imread(path_to_labels)\n",
    "\n",
    "pixelsize = np.array([..., ..., ...]) # pixelsize in um/pixel\n",
    "scale = 1/pixelsize"
   ]
  },
  {
   "cell_type": "markdown",
   "metadata": {},
   "source": [
    "### 2. Building sparse arrays with the inertia and true strain tensors"
   ]
  },
  {
   "cell_type": "markdown",
   "metadata": {},
   "source": [
    "We build spare arrays, i.e arrays of dimension `(n_points, n_dim space + n_dim points)` where `n_dim space` is the number of spatial dimensions and `n_dim points` is the number of dimensions of the signal at each point, e.g `n_dim points = 1` for a scalar field, `n_dim points = 3` for a 3D vector field, `n_dim points = 9` for a 3x3 matrix field, etc."
   ]
  },
  {
   "cell_type": "code",
   "execution_count": null,
   "metadata": {},
   "outputs": [],
   "source": [
    "# props is made of objects 'prop' with many morphological properties\n",
    "# like volume, centroid, etc...\n",
    "props = regionprops(labels) \n",
    "\n",
    "n_points = len(props)\n",
    "n_dim_space = 3\n",
    "n_dim_tensor = 9\n",
    "\n",
    "sparse_inertia_tensor = np.zeros((n_points, n_dim_space+n_dim_tensor))\n",
    "sparse_true_strain_tensor = np.zeros((n_points, n_dim_space+n_dim_tensor))\n",
    "\n",
    "# store volumes to use later\n",
    "volumes = np.zeros(n_points)\n",
    "\n",
    "for index_label, prop in enumerate(props):\n",
    "    add_tensor_inertia(prop, scale=scale)\n",
    "    add_true_strain_tensor(prop, scale=scale)\n",
    "    volumes[index_label] = prop.area\n",
    "\n",
    "    sparse_inertia_tensor[index_label, :n_dim_space] = prop.centroid\n",
    "    sparse_inertia_tensor[index_label, n_dim_space:] = prop.inertia_tensor.flatten()\n",
    "\n",
    "    sparse_true_strain_tensor[index_label, :n_dim_space] = prop.centroid\n",
    "    sparse_true_strain_tensor[index_label, n_dim_space:] = prop.true_strain_tensor.flatten()"
   ]
  },
  {
   "cell_type": "markdown",
   "metadata": {},
   "source": [
    "### 3. Local averaging of the tensors"
   ]
  },
  {
   "cell_type": "markdown",
   "metadata": {},
   "source": [
    "Specify a scale of analysis `sigma`, which correspond to the standard deviation of the Gaussian kernel used to average the tensors.\n",
    "\n",
    "Smooth the sparse tensors signals to obtain the average tensors, defined at each centroid:"
   ]
  },
  {
   "cell_type": "code",
   "execution_count": null,
   "metadata": {},
   "outputs": [],
   "source": [
    "sigma = 20\n",
    "\n",
    "smoothed_sparse_inertia_tensor = masked_gaussian_smooth_sparse(\n",
    "    sparse_inertia_tensor,\n",
    "    is_temporal=False, # assuming you have loaded 3D data, not temporal TZYX data\n",
    "    dim_space=n_dim_space,\n",
    "    sigmas=sigma\n",
    ")\n",
    "\n",
    "smoothed_sparse_true_strain_tensor = masked_gaussian_smooth_sparse(\n",
    "    sparse_true_strain_tensor,\n",
    "    is_temporal=False,\n",
    "    dim_space=n_dim_space,\n",
    "    sigmas=sigma\n",
    ")"
   ]
  },
  {
   "cell_type": "markdown",
   "metadata": {},
   "source": [
    "The function `masked_gaussian_smooth_sparse` allows you to obtain a smoothed results defined at new sparse positions, e.g on a regular grid. \n",
    "\n",
    "Here we illustrate how to compute the averaged tensors on a regular grid of step 20 pixels:"
   ]
  },
  {
   "cell_type": "code",
   "execution_count": null,
   "metadata": {},
   "outputs": [],
   "source": [
    "positions_on_grid = np.mgrid[\n",
    "    [slice(0, dim, 20) for dim in labels.shape]\n",
    "].reshape(labels.ndim, -1).T\n",
    "\n",
    "# restrict to positions that are inside the mask of the sample\n",
    "positions_on_grid = positions_on_grid[\n",
    "    mask[positions_on_grid[:,0], positions_on_grid[:,1], positions_on_grid[:,2]]\n",
    "]\n",
    "\n",
    "smoothed_sparse_inertia_tensor_on_grid = masked_gaussian_smooth_sparse(\n",
    "    sparse_inertia_tensor,\n",
    "    is_temporal=False, # assuming you have loaded 3D data, not temporal TZYX data\n",
    "    dim_space=n_dim_space,\n",
    "    sigmas=sigma,\n",
    "    positions=positions_on_grid\n",
    ")\n",
    "\n",
    "smoothed_sparse_true_strain_tensor_on_grid = masked_gaussian_smooth_sparse(\n",
    "    sparse_true_strain_tensor,\n",
    "    is_temporal=False,\n",
    "    dim_space=n_dim_space,\n",
    "    sigmas=sigma,\n",
    "    positions=positions_on_grid\n",
    ")"
   ]
  },
  {
   "cell_type": "markdown",
   "metadata": {},
   "source": [
    "### 4. Quantifying deformation and alignment "
   ]
  },
  {
   "cell_type": "markdown",
   "metadata": {},
   "source": [
    "To quantify deformation and alignment, we extract the objects' principal length from the inertia tensors, and the main eigenvalue of the true strain tensors by diagonalizing the tensors.\n",
    "\n",
    "Note that we extract the principal lengths only as a pedagogical example, as we have discussed at the beginning of the notebook that the principal lengths are not suited for quantifying collective alignment."
   ]
  },
  {
   "cell_type": "code",
   "execution_count": null,
   "metadata": {},
   "outputs": [],
   "source": [
    "inertia_vectors, inertia_angles = tensors_to_napari_vectors(\n",
    "    smoothed_sparse_inertia_tensor_on_grid, \n",
    "    is_inertia_tensor=True, volumes=volumes, return_angles=True\n",
    ")\n",
    "\n",
    "true_strain_vectors, true_strain_angles = tensors_to_napari_vectors(\n",
    "    smoothed_sparse_true_strain_tensor_on_grid, \n",
    "    is_inertia_tensor=False, return_angles=True\n",
    ")"
   ]
  },
  {
   "cell_type": "markdown",
   "metadata": {},
   "source": [
    "Vectors are formatted in an array `V` of shape `(n_objects, 2, dim_vector)`, where `V[i,0]` corresponds to the position at which the vector is defined, and `V[i,1]` corresponds to the vector itself.\n",
    "\n",
    "The angles returned are the angles between the main eigenvector and the X axis."
   ]
  },
  {
   "cell_type": "markdown",
   "metadata": {},
   "source": [
    "We can do the same for our tensors computed on the regular grid:"
   ]
  },
  {
   "cell_type": "code",
   "execution_count": null,
   "metadata": {},
   "outputs": [],
   "source": [
    "inertia_vectors_grid, inertia_angles_grid = tensors_to_napari_vectors(\n",
    "    smoothed_sparse_inertia_tensor_on_grid,\n",
    "    is_inertia_tensor=True, volumes=volumes, return_angles=True\n",
    ")\n",
    "\n",
    "true_strain_vectors_grid, true_strain_angles_grid = tensors_to_napari_vectors(\n",
    "    smoothed_sparse_true_strain_tensor_on_grid,\n",
    "    is_inertia_tensor=False, return_angles=True\n",
    ")"
   ]
  },
  {
   "cell_type": "markdown",
   "metadata": {},
   "source": [
    "### 5. Optional: Visualization with Napari"
   ]
  },
  {
   "cell_type": "code",
   "execution_count": null,
   "metadata": {},
   "outputs": [],
   "source": [
    "if napari_available:\n",
    "\n",
    "    viewer = napari.Viewer()\n",
    "\n",
    "    viewer.add_image(data, name='data')\n",
    "    viewer.add_labels(labels, name='labels')\n",
    "    viewer.add_vectors(inertia_vectors, name='inertia_vectors',\n",
    "                       properties={'angle': inertia_angles})\n",
    "    viewer.add_vectors(true_strain_vectors, name='true_strain_vectors',\n",
    "                       properties={'angle': true_strain_angles})\n",
    "    viewer.add_vectors(inertia_vectors_grid, name='inertia_vectors_grid',\n",
    "                       properties={'angle': inertia_angles_grid})\n",
    "    viewer.add_vectors(true_strain_vectors_grid, name='true_strain_vectors_grid',\n",
    "                       properties={'angle': true_strain_angles_grid})\n",
    "\n",
    "    viewer.grid.enabled = True\n",
    "    viewer.grid.shape = (3,2)\n",
    "\n",
    "    napari.run()"
   ]
  }
 ],
 "metadata": {
  "kernelspec": {
   "display_name": "napari-mine",
   "language": "python",
   "name": "python3"
  },
  "language_info": {
   "codemirror_mode": {
    "name": "ipython",
    "version": 3
   },
   "file_extension": ".py",
   "mimetype": "text/x-python",
   "name": "python",
   "nbconvert_exporter": "python",
   "pygments_lexer": "ipython3",
   "version": "3.10.14"
  }
 },
 "nbformat": 4,
 "nbformat_minor": 2
}
