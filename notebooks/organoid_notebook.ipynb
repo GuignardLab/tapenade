{
 "cells": [
  {
   "cell_type": "markdown",
   "id": "ed08f86b",
   "metadata": {},
   "source": [
    "# organoid Notebook"
   ]
  },
  {
   "cell_type": "code",
   "execution_count": 1,
   "id": "0d08deec",
   "metadata": {},
   "outputs": [
    {
     "name": "stdout",
     "output_type": "stream",
     "text": [
      "WARNING:tensorflow:From c:\\Users\\gros\\Anaconda3\\envs\\organoid-env\\Lib\\site-packages\\keras\\src\\losses.py:2976: The name tf.losses.sparse_softmax_cross_entropy is deprecated. Please use tf.compat.v1.losses.sparse_softmax_cross_entropy instead.\n",
      "\n",
      "pyklb library not found, klb files will not be generated\n"
     ]
    },
    {
     "name": "stderr",
     "output_type": "stream",
     "text": [
      "_reconstruct.py (297): \"is not\" with a literal. Did you mean \"!=\"?\n",
      "IO.py (31): KLB library is not installed\n"
     ]
    }
   ],
   "source": [
    "from organoid import segmentation\n",
    "from organoid import preprocessing\n",
    "from organoid import reconstruction\n",
    "\n",
    "import tifffile"
   ]
  },
  {
   "cell_type": "markdown",
   "id": "26db3b94",
   "metadata": {},
   "source": [
    "Example of usage of segmentation functions"
   ]
  },
  {
   "cell_type": "code",
   "execution_count": 2,
   "id": "54e5d627",
   "metadata": {},
   "outputs": [],
   "source": [
    "path = rf'C:\\Users\\gros\\Desktop\\DATA\\organoid_test'\n",
    "data = tifffile.imread(rf'{path}\\data.tif')\n",
    "dapi=data[:,0,:,:]\n",
    "stardist_model = rf'C:\\Users\\gros\\Desktop\\CODES\\Alice_Segmentation\\Stardist\\models\\lennedist_3d_grid222_rays64'"
   ]
  },
  {
   "cell_type": "code",
   "execution_count": null,
   "id": "9c13606f",
   "metadata": {},
   "outputs": [],
   "source": [
    "output = segmentation.predict_stardist(data,model_path=stardist_model,input_voxelsize=[1,1,1],normalize_input=True)"
   ]
  },
  {
   "cell_type": "markdown",
   "id": "9ba983b2",
   "metadata": {},
   "source": [
    "Example of usage of reconstruction functions"
   ]
  },
  {
   "cell_type": "code",
   "execution_count": 4,
   "id": "1795d17c",
   "metadata": {},
   "outputs": [
    {
     "data": {
      "image/png": "[encoded data removed]",
      "text/plain": [
       "<Figure size 640x480 with 1 Axes>"
      ]
     },
     "metadata": {},
     "output_type": "display_data"
    }
   ],
   "source": [
    "path = rf'Z:\\EqpLenne2\\Alice\\Lecuit_biphoton\\13072023_divrates_FGFA\\72h'\n",
    "reconstruction.plot_positions(path_bottom_positions=rf'{path}\\multipoints_bottom.xml',\n",
    "                              path_top_positions=rf'{path}\\multipoints_top.xml')"
   ]
  },
  {
   "cell_type": "code",
   "execution_count": 3,
   "id": "5e4473c2",
   "metadata": {},
   "outputs": [],
   "source": [
    "path = rf'C:\\Users\\gros\\Desktop\\DATA\\organoid_test\\Registration'\n",
    "path_to_bin = rf'C:\\Users\\gros\\Anaconda3\\envs\\registration-env\\Library\\bin'\n",
    "list_bottom=[1] #the length of this list corresponds to the number of samples.\n",
    "list_top=[1]\n",
    "channels=['dapi','ph3','bra','ecad']"
   ]
  },
  {
   "cell_type": "code",
   "execution_count": 8,
   "id": "575de57e",
   "metadata": {},
   "outputs": [],
   "source": [
    "#Creates folder structure\n",
    "reconstruction.create_folders(path,list_bottom,list_top,channels)"
   ]
  },
  {
   "cell_type": "code",
   "execution_count": 9,
   "metadata": {},
   "outputs": [
    {
     "name": "stdout",
     "output_type": "stream",
     "text": [
      "\n",
      "Starting experiment\n",
      "The registration will run with the following arguments:\n",
      "\n",
      " File format \n",
      "path_to_data             : C:\\Users\\gros\\Desktop\\DATA\\organoid_test\\Registration\\1\\raw\n",
      "ref_im                   : 1_bot_dapi.tif\n",
      "flo_ims                  : 1_top_dapi.tif\n",
      "init_trsfs               : ['flip', 'Y', 'flip', 'Z', 'trans', 'Z', -10]\n",
      "trsf_types               : rigid\n",
      "ref_voxel                : 0.620000 x 0.620000 x 2.000000\n",
      "flo_voxels               : 0.620000 x 0.620000 x 2.000000\n",
      "out_voxel                : 1.000000 x 1.000000 x 1.000000\n",
      "out_pattern              : C:\\Users\\gros\\Desktop\\DATA\\organoid_test\\Registration\\1\\registered\n",
      "\n",
      "{'XResolution': 0.62, 'YResolution': 0.62, 'spacing': 2}\n",
      "ph3\n",
      "\n",
      "Starting experiment\n",
      "The registration will run with the following arguments:\n",
      "\n",
      " File format \n",
      "path_to_data             : C:\\Users\\gros\\Desktop\\DATA\\organoid_test\\Registration\\1\\raw\n",
      "ref_im                   : 1_bot_ph3.tif\n",
      "flo_ims                  : 1_top_ph3.tif\n",
      "init_trsfs               : ['flip', 'Y', 'flip', 'Z', 'trans', 'Z', -10]\n",
      "trsf_types               : rigid\n",
      "ref_voxel                : 0.620000 x 0.620000 x 2.000000\n",
      "flo_voxels               : 0.620000 x 0.620000 x 2.000000\n",
      "out_voxel                : 1.000000 x 1.000000 x 1.000000\n",
      "out_pattern              : C:\\Users\\gros\\Desktop\\DATA\\organoid_test\\Registration\\1\\registered\n",
      "\n",
      "{'XResolution': 0.62, 'YResolution': 0.62, 'spacing': 2}\n"
     ]
    },
    {
     "name": "stderr",
     "output_type": "stream",
     "text": [
      "spatial_registration.py (169): Testing initial transformations cannot be done when `compute_trsf` is False/0. It will not be done then\n"
     ]
    },
    {
     "name": "stdout",
     "output_type": "stream",
     "text": [
      "bra\n",
      "\n",
      "Starting experiment\n",
      "The registration will run with the following arguments:\n",
      "\n",
      " File format \n",
      "path_to_data             : C:\\Users\\gros\\Desktop\\DATA\\organoid_test\\Registration\\1\\raw\n",
      "ref_im                   : 1_bot_bra.tif\n",
      "flo_ims                  : 1_top_bra.tif\n",
      "init_trsfs               : ['flip', 'Y', 'flip', 'Z', 'trans', 'Z', -10]\n",
      "trsf_types               : rigid\n",
      "ref_voxel                : 0.620000 x 0.620000 x 2.000000\n",
      "flo_voxels               : 0.620000 x 0.620000 x 2.000000\n",
      "out_voxel                : 1.000000 x 1.000000 x 1.000000\n",
      "out_pattern              : C:\\Users\\gros\\Desktop\\DATA\\organoid_test\\Registration\\1\\registered\n",
      "\n",
      "{'XResolution': 0.62, 'YResolution': 0.62, 'spacing': 2}\n",
      "ecad\n",
      "\n",
      "Starting experiment\n",
      "The registration will run with the following arguments:\n",
      "\n",
      " File format \n",
      "path_to_data             : C:\\Users\\gros\\Desktop\\DATA\\organoid_test\\Registration\\1\\raw\n",
      "ref_im                   : 1_bot_ecad.tif\n",
      "flo_ims                  : 1_top_ecad.tif\n",
      "init_trsfs               : ['flip', 'Y', 'flip', 'Z', 'trans', 'Z', -10]\n",
      "trsf_types               : rigid\n",
      "ref_voxel                : 0.620000 x 0.620000 x 2.000000\n",
      "flo_voxels               : 0.620000 x 0.620000 x 2.000000\n",
      "out_voxel                : 1.000000 x 1.000000 x 1.000000\n",
      "out_pattern              : C:\\Users\\gros\\Desktop\\DATA\\organoid_test\\Registration\\1\\registered\n",
      "\n",
      "{'XResolution': 0.62, 'YResolution': 0.62, 'spacing': 2}\n"
     ]
    }
   ],
   "source": [
    "#from now on, we consider only one sample. If you have multiple samples, you can loop over the parameter 'sample_id'\n",
    "sample_id='1'\n",
    "#register the reference channel first\n",
    "reconstruction.register(path_data = rf'{path}\\{sample_id}\\raw',\n",
    "                        path_transformation=rf'{path}\\{sample_id}\\trsf',\n",
    "                        path_registered_data=rf'{path}\\{sample_id}\\registered',\n",
    "                        path_to_bin=path_to_bin,\n",
    "                        reference_image=f'{sample_id}_bot_dapi.tif',\n",
    "                        floating_image=f'{sample_id}_top_dapi.tif',\n",
    "                        input_voxel=[0.62,0.62,2],\n",
    "                        output_voxel=[1,1,1],\n",
    "                        compute_trsf=1,\n",
    "                        init_trsfs=[[\"flip\", \"Y\", \"flip\", \"Z\", \"trans\", \"Z\", -10]], #example of transformation if the sample has been flipped between the 2 views\n",
    "                        test_init=0,\n",
    "                        trsf_type='rigid',\n",
    "                        depth=3,\n",
    "                        save_json=True)\n",
    "\n",
    "#and the others using the same transformation\n",
    "for channel in channels[1:]:\n",
    "    print(channel)\n",
    "    reconstruction.register(path_data = rf'{path}\\{sample_id}\\raw',\n",
    "                            path_transformation=rf'{path}\\{sample_id}\\trsf',\n",
    "                            path_registered_data=rf'{path}\\{sample_id}\\registered',\n",
    "                            path_to_bin=path_to_bin,\n",
    "                            reference_image=f'{sample_id}_bot_{channel}.tif',\n",
    "                            floating_image=f'{sample_id}_top_{channel}.tif',\n",
    "                            input_voxel=[0.62,0.62,2],\n",
    "                            output_voxel=[1,1,1],\n",
    "                            compute_trsf=0, #we use the same transformation as the reference channel\n",
    "                            )\n"
   ]
  },
  {
   "cell_type": "code",
   "execution_count": null,
   "id": "1d0d2c82",
   "metadata": {},
   "outputs": [],
   "source": [
    "#optional : if the automatic registration is not satisfying, you can give some initial transformations to the function\n",
    "#once you have annotated landmarks in the reference and floating images, give these landmarks to the manual_registration fct\n",
    "reference_landmarks = rf'{path}\\reference_landmarks.tif'\n",
    "floating_landmarks = rf'{path}\\floating_landmarks.tif'\n",
    "rot_z,rot_y,rot_x,trans_z,trans_y,trans_x = reconstruction.manual_registration_fct(reference_landmarks=reference_landmarks,floating_landmarks=floating_landmarks)\n",
    "\n",
    "reconstruction.register(path_data = rf'{path}\\{sample_id}\\raw',\n",
    "                        path_transformation=rf'{path}\\{sample_id}\\trsf',\n",
    "                        path_registered_data=rf'{path}\\{sample_id}\\registered',\n",
    "                        path_to_bin=path_to_bin,\n",
    "                        reference_image=f'{sample_id}_bot_dapi.tif',\n",
    "                        floating_image=f'{sample_id}_top_dapi.tif',\n",
    "                        input_voxel=[0.62,0.62,2],\n",
    "                        output_voxel=[1,1,1],\n",
    "                        compute_trsf=1,\n",
    "                        init_trsfs=[[\"rot\",\"X\",rot_z,\"rot\",\"Y\",rot_y,\"rot\",\"Z\",rot_x,\"trans\", \"X\",trans_x, \"trans\", \"Y\",trans_y,\"trans\", \"Z\",trans_z]] ,\n",
    "                        test_init=0,\n",
    "                        trsf_type='rigid',\n",
    "                        depth=3,\n",
    "                        save_json=path)\n",
    "\n"
   ]
  },
  {
   "cell_type": "code",
   "execution_count": 5,
   "id": "5948e87d",
   "metadata": {},
   "outputs": [],
   "source": [
    "#Visualising the result\n",
    "sample_id='1'\n",
    "reconstruction.check_napari(path_registered_data=rf'{path}\\{sample_id}\\registered',\n",
    "                            reference_image = f'{sample_id}_bot_dapi.tif',\n",
    "                            floating_image = f'{sample_id}_top_dapi.tif',\n",
    "                            scale=(1,1,1))"
   ]
  },
  {
   "cell_type": "code",
   "execution_count": 5,
   "id": "3be6e9dd",
   "metadata": {},
   "outputs": [],
   "source": [
    "#Fuse the 2 registered sides into one array\n",
    "sample_id='1'\n",
    "reconstruction.fuse_sides(path_registered_data=rf'{path}\\{sample_id}\\registered',\n",
    "                            reference_image_reg = f'{sample_id}_bot_dapi.tif',\n",
    "                            floating_image_reg = f'{sample_id}_top_dapi.tif',\n",
    "                            folder_output=rf'{path}\\{sample_id}',\n",
    "                            name_output='fused.tif',\n",
    "                            fusion_width=10)"
   ]
  },
  {
   "cell_type": "code",
   "execution_count": null,
   "id": "b99d45d6",
   "metadata": {},
   "outputs": [],
   "source": [
    "#Fuse all the channels in one image\n",
    "#the images should be named 'sampleid_channel_fused.tif', eg 1_'dapi_fused.tif'\n",
    "reconstruction.write_hyperstacks(path, sample_id='1',channels=channels)"
   ]
  }
 ],
 "metadata": {
  "kernelspec": {
   "display_name": "Python 3 (ipykernel)",
   "language": "python",
   "name": "python3"
  },
  "language_info": {
   "codemirror_mode": {
    "name": "ipython",
    "version": 3
   },
   "file_extension": ".py",
   "mimetype": "text/x-python",
   "name": "python",
   "nbconvert_exporter": "python",
   "pygments_lexer": "ipython3",
   "version": "3.11.5"
  }
 },
 "nbformat": 4,
 "nbformat_minor": 5
}
