{
 "cells": [
  {
   "cell_type": "markdown",
   "id": "ed08f86b",
   "metadata": {},
   "source": [
    "# organoid Notebook"
   ]
  },
  {
   "cell_type": "code",
   "execution_count": null,
   "metadata": {},
   "outputs": [],
   "source": [
    "from organoid import segmentation\n",
    "from organoid import preprocessing\n",
    "from organoid import reconstruction\n",
    "\n",
    "import tifffile"
   ]
  },
  {
   "cell_type": "markdown",
   "id": "26db3b94",
   "metadata": {},
   "source": [
    "Example of usage of segmentation functions"
   ]
  },
  {
   "cell_type": "code",
   "execution_count": null,
   "id": "54e5d627",
   "metadata": {},
   "outputs": [],
   "source": [
    "path = rf'C:\\Users\\gros\\Desktop\\DATA\\organoid_test'\n",
    "data = tifffile.imread(rf'{path}\\data.tif')\n",
    "dapi=data[:,0,:,:]\n",
    "stardist_model = rf'C:\\Users\\gros\\Desktop\\CODES\\Alice_Segmentation\\Stardist\\models\\lennedist_3d_grid222_rays64'"
   ]
  },
  {
   "cell_type": "code",
   "execution_count": null,
   "id": "9c13606f",
   "metadata": {},
   "outputs": [],
   "source": [
    "output = segmentation.predict_stardist(data,model_path=stardist_model,input_voxelsize=[1,1,1],normalize_input=True)"
   ]
  },
  {
   "cell_type": "markdown",
   "id": "9ba983b2",
   "metadata": {},
   "source": [
    "Example of usage of reconstruction functions"
   ]
  },
  {
   "cell_type": "code",
   "execution_count": null,
   "metadata": {},
   "outputs": [],
   "source": [
    "path = rf'Z:\\EqpLenne2\\Alice\\Lecuit_biphoton\\13072023_divrates_FGFA\\72h'\n",
    "reconstruction.plot_positions(path_bottom_positions=rf'{path}\\multipoints_bottom.xml',\n",
    "                              path_top_positions=rf'{path}\\multipoints_top.xml')"
   ]
  },
  {
   "cell_type": "code",
   "execution_count": null,
   "metadata": {},
   "outputs": [],
   "source": [
    "path = rf'C:\\Users\\gros\\Desktop\\DATA\\organoid_test\\Registration'\n",
    "path_to_bin = rf'C:\\Users\\gros\\Anaconda3\\envs\\registration-env\\Library\\bin'\n",
    "list_bottom=[1] #the length of this list corresponds to the number of samples.\n",
    "list_top=[1]\n",
    "channels=['dapi','ph3','bra','ecad']"
   ]
  },
  {
   "cell_type": "code",
   "execution_count": null,
   "id": "575de57e",
   "metadata": {},
   "outputs": [],
   "source": [
    "#Creates folder structure\n",
    "reconstruction.create_folders(path,list_bottom,list_top,channels)"
   ]
  },
  {
   "cell_type": "code",
   "execution_count": null,
   "metadata": {},
   "outputs": [],
   "source": [
    "#from now on, we consider only one sample. If you have multiple samples, you can loop over the parameter 'sample_id'\n",
    "\n",
    "#register the reference channel first\n",
    "reconstruction.register(path,path_to_bin=path_to_bin,sample_id='1',channel='dapi',input_voxel=[0.62,0.62,2],\n",
    "                        output_voxel=[1,1,1],compute_trsf=1,init_trsfs=[[\"flip\", \"Y\", \"flip\", \"Z\", \"trans\", \"Z\", -10]],\n",
    "                        trsf_type='rigid',depth=3,save_json=True)\n",
    "\n",
    "#and the others using the same transformation\n",
    "for channel in channels[1:]:\n",
    "    print(channel)\n",
    "    reconstruction.register(path,path_to_bin=path_to_bin,sample_id='1',channel=channel,input_voxel=[0.62,0.62,2],\n",
    "                            output_voxel=[1,1,1],compute_trsf=0,save_json=False)\n"
   ]
  },
  {
   "cell_type": "code",
   "execution_count": null,
   "id": "5948e87d",
   "metadata": {},
   "outputs": [],
   "source": [
    "#Visualising the result\n",
    "reconstruction.check_napari(path, sample_id= '1',channel = 'ecad')"
   ]
  },
  {
   "cell_type": "code",
   "execution_count": null,
   "id": "3be6e9dd",
   "metadata": {},
   "outputs": [],
   "source": [
    "#Fuse the 2 registered sides into one array\n",
    "reconstruction.fuse_sides(path,sample_id='1', channels=channels)"
   ]
  },
  {
   "cell_type": "code",
   "execution_count": null,
   "id": "b99d45d6",
   "metadata": {},
   "outputs": [],
   "source": [
    "#Fuse all the channels in one image\n",
    "reconstruction.write_hyperstacks(path, sample_id='1',channels=channels)"
   ]
  },
  {
   "cell_type": "code",
   "execution_count": null,
   "id": "5178c126",
   "metadata": {},
   "outputs": [],
   "source": []
  }
 ],
 "metadata": {
  "kernelspec": {
   "display_name": "Python 3 (ipykernel)",
   "language": "python",
   "name": "python3"
  },
  "language_info": {
   "codemirror_mode": {
    "name": "ipython",
    "version": 3
   },
   "file_extension": ".py",
   "mimetype": "text/x-python",
   "name": "python",
   "nbconvert_exporter": "python",
   "pygments_lexer": "ipython3",
   "version": "3.11.5"
  }
 },
 "nbformat": 4,
 "nbformat_minor": 5
}
