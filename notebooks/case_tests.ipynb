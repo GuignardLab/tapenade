{
 "cells": [
  {
   "cell_type": "code",
   "execution_count": 24,
   "metadata": {},
   "outputs": [],
   "source": [
    "import numpy as np\n",
    "import tifffile\n",
    "import napari\n",
    "from organoid import reconstruction\n",
    "from pathlib import Path\n",
    "import scipy"
   ]
  },
  {
   "cell_type": "code",
   "execution_count": 25,
   "metadata": {},
   "outputs": [],
   "source": [
    "path_to_data = rf'C:\\Users\\gros\\Desktop\\DATA\\Valentin\\48_12hDapi_Ecad_Bra_Sox2\\test_plugin'\n",
    "# img = tifffile.imread(f'{path_to_data}/image.tif')\n",
    "img = np.zeros((100, 100, 100))\n",
    "img[25:75, 25:75, 25:75] = np.meshgrid(np.linspace(0, 1, 50), np.linspace(0, 1, 50), np.linspace(0, 1, 50))[0]\n",
    "tifffile.imwrite(f'{path_to_data}/raw\\image.tif', img.astype(np.float16))"
   ]
  },
  {
   "cell_type": "code",
   "execution_count": 26,
   "metadata": {},
   "outputs": [],
   "source": [
    "img_floating = np.zeros_like(img, dtype=np.float32)\n",
    "\n",
    "img_floating[10:,20:,30:] = img[:-10,:-20,:-30]\n",
    "tifffile.imwrite(rf'{path_to_data}\\image_trans.tif', img_floating.astype(np.float32))"
   ]
  },
  {
   "cell_type": "code",
   "execution_count": 22,
   "metadata": {},
   "outputs": [],
   "source": []
  },
  {
   "cell_type": "code",
   "execution_count": 27,
   "metadata": {},
   "outputs": [],
   "source": [
    "# add rotation to floating img\n",
    "img_floating = scipy.ndimage.rotate(img_floating, 45, axes=(0, 1), reshape=False)\n",
    "tifffile.imwrite(rf'{path_to_data}\\raw\\image_rot.tif', img_floating.astype(np.float16))"
   ]
  },
  {
   "cell_type": "code",
   "execution_count": 28,
   "metadata": {},
   "outputs": [],
   "source": [
    "viewer = napari.view_image(img_floating)\n",
    "viewer.add_image(img, blending='additive')\n",
    "napari.run()"
   ]
  },
  {
   "cell_type": "code",
   "execution_count": null,
   "metadata": {},
   "outputs": [],
   "source": [
    "path= rf'C:\\Users\\gros\\Desktop\\DATA\\Valentin\\48_12hDapi_Ecad_Bra_Sox2\\test_plugin'\n",
    "input_voxel = [1,1,1]\n",
    "output_voxel = [1,1,1]\n",
    "\n",
    "# rot=[3,0,180]\n",
    "# trans2= [-10,20,0]\n",
    "# other_trsf = [0, 0, 0]\n",
    "# trans2=[91,10,10]\n",
    "reconstruction.register(\n",
    "    path_data=Path(path) / \"raw\",\n",
    "    path_transformation=Path(path)  / \"trsf\",\n",
    "    path_registered_data=Path(path) / \"registered\",\n",
    "    reference_image=f\"image.tif\",\n",
    "    floating_image=f\"image_rot.tif\",\n",
    "    input_voxel=input_voxel,\n",
    "    output_voxel=output_voxel,\n",
    "    compute_trsf=1,\n",
    "    # trans1=trans1,  # XYZ\n",
    "    # rot=rot,\n",
    "    # trans2=trans2,\n",
    "    test_init=1,\n",
    "    # other_trsf=trsf,\n",
    "    input_init_trsf_from_plugin=rf'{path}\\raw\\initial_transformation.json',\n",
    "    trsf_type=\"rigid\",\n",
    "    depth=3,\n",
    "    bbox=1,\n",
    "    save_json=Path(path) ,\n",
    ")\n",
    "\n",
    "reconstruction.check_napari(\n",
    "    folder=Path(path) ,\n",
    "    reference_image=f\"image.tif\",\n",
    "    floating_image=f\"image_rot.tif\",\n",
    ")"
   ]
  }
 ],
 "metadata": {
  "kernelspec": {
   "display_name": "organoid-env",
   "language": "python",
   "name": "python3"
  },
  "language_info": {
   "codemirror_mode": {
    "name": "ipython",
    "version": 3
   },
   "file_extension": ".py",
   "mimetype": "text/x-python",
   "name": "python",
   "nbconvert_exporter": "python",
   "pygments_lexer": "ipython3",
   "version": "3.10.13"
  }
 },
 "nbformat": 4,
 "nbformat_minor": 2
}
